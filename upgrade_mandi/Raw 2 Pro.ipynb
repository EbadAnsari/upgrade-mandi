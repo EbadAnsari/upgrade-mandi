{
 "cells": [
  {
   "cell_type": "code",
   "execution_count": 14,
   "id": "ab8e705b",
   "metadata": {},
   "outputs": [],
   "source": [
    "import pandas as pd\n",
    "from utils.config import domainConfig, domainConfigClass, supplierId\n",
    "from typing import List\n",
    "from collections import Counter\n",
    "from datetime import datetime\n",
    "\n",
    "\n",
    "def generateInvoiceId(date: datetime, locationCode: str, invoiceVersion: int):\n",
    "    return f'{date.strftime(\"%d%m%Y\")}U{locationCode}{invoiceVersion}'\n",
    "\n",
    "\n",
    "def generatePONo(date: datetime, storeId: str, supplierId: str):\n",
    "    return f'{date.strftime(\"%Y%m%d\")}-{storeId}-{supplierId}'\n",
    "\n",
    "\n",
    "def nameExtracter(rightNamesList: List[str], wrongName: str) -> str:\n",
    "    chances = [0] * len(rightNamesList)\n",
    "\n",
    "    counterOriginal = Counter(wrongName.lower())\n",
    "    for i, rightName in enumerate(rightNamesList):\n",
    "        counterLocation = Counter(rightName.lower())\n",
    "        chances[i] = (\n",
    "            sum((counterOriginal & counterLocation).values())\n",
    "            * 2\n",
    "            / (sum(counterOriginal.values()) + sum(counterLocation.values()))\n",
    "        )\n",
    "    return rightNamesList[chances.index(max(chances))]\n",
    "    return rightNamesList[chances.index(max(chances))]"
   ]
  },
  {
   "cell_type": "code",
   "execution_count": 2,
   "id": "e587e9b4",
   "metadata": {},
   "outputs": [],
   "source": [
    "df = pd.read_excel(\"file.xlsx\", sheet_name=\"Sheet1\")"
   ]
  },
  {
   "cell_type": "code",
   "execution_count": 3,
   "id": "c86fac1f",
   "metadata": {},
   "outputs": [],
   "source": [
    "dropedDf = df.dropna(how=\"all\")[\n",
    "    [\n",
    "        column.rawSheet.columnName\n",
    "        for column in domainConfigClass.columns\n",
    "        if column.rawSheet is not None\n",
    "    ]\n",
    "]"
   ]
  },
  {
   "cell_type": "code",
   "execution_count": 4,
   "id": "e6dbaf88",
   "metadata": {},
   "outputs": [],
   "source": [
    "dropedDf.columns = [\n",
    "    column.invoicePdf.columnName\n",
    "    for column in domainConfigClass.columns\n",
    "    if column.rawSheet is not None\n",
    "]"
   ]
  },
  {
   "cell_type": "code",
   "execution_count": null,
   "id": "a7d46c88",
   "metadata": {},
   "outputs": [],
   "source": [
    "pdfColumns = list(\n",
    "    map(\n",
    "        lambda x: x.columnName,\n",
    "        sorted(\n",
    "            [\n",
    "                column.invoicePdf\n",
    "                for column in domainConfigClass.columns\n",
    "                if column.invoicePdf is not None and column.invoicePdf.index is not None\n",
    "            ],\n",
    "            key=lambda x: x.index,\n",
    "        ),\n",
    "    )\n",
    ")\n",
    "\n",
    "extraColumns = [\n",
    "    column.invoicePdf.columnName\n",
    "    for column in domainConfigClass.columns\n",
    "    if column.rawSheet is None and column.invoicePdf is not None\n",
    "]\n",
    "\n",
    "date = datetime.strptime(str(df[\"Date\"][0]), \"%Y-%m-%d 00:00:00\")\n",
    "invoiceVersion = 1\n",
    "\n",
    "pdfDF = dropedDf.copy()\n",
    "\n",
    "for column in extraColumns:\n",
    "    pdfDF[column] = \"\"\n",
    "\n",
    "# pdfDF = pdfDF[pdfColumns]\n",
    "\n",
    "pdfDF[\"Dispatched Qty\"] = pdfDF[\"Dispatched Qty\"].astype(int)\n",
    "pdfDF[\"Rate\"] = pdfDF[\"Rate\"].astype(int)\n",
    "\n",
    "pdfDF[\"Total Amount\"] = pdfDF[\"Dispatched Qty\"] * pdfDF[\"Rate\"]\n",
    "\n",
    "pdfDF[\"Location\"] = pdfDF[\"Location\"].apply(\n",
    "    lambda x: nameExtracter(\n",
    "        [location.locationName for location in domainConfigClass.locations], x\n",
    "    )\n",
    ")"
   ]
  },
  {
   "cell_type": "code",
   "execution_count": 22,
   "id": "e3d835ba",
   "metadata": {},
   "outputs": [],
   "source": [
    "tableDf = {\n",
    "    location.locationName: {\n",
    "        \"dataFrame\": pdfDF[pdfDF[\"Location\"] == location.locationName][\n",
    "            pdfColumns\n",
    "        ].reset_index(drop=True),\n",
    "        \"invoiceNumber\": generateInvoiceId(date, location.code, invoiceVersion),\n",
    "        \"poNo\": generatePONo(date, location.storeId, supplierId),\n",
    "        \"shippingAddress\": location.shippingAddress,\n",
    "        \"retailer\": location.retailer,\n",
    "    }\n",
    "    for location in domainConfigClass.locations\n",
    "}"
   ]
  },
  {
   "cell_type": "code",
   "execution_count": 23,
   "id": "13ff64a2",
   "metadata": {},
   "outputs": [
    {
     "data": {
      "text/plain": [
       "'Rajidi Retail Pvt Ltd'"
      ]
     },
     "execution_count": 23,
     "metadata": {},
     "output_type": "execute_result"
    }
   ],
   "source": [
    "tableDf[\"Ayodhya Nagar\"][\"retailer\"]"
   ]
  }
 ],
 "metadata": {
  "kernelspec": {
   "display_name": "Python 3",
   "language": "python",
   "name": "python3"
  },
  "language_info": {
   "codemirror_mode": {
    "name": "ipython",
    "version": 3
   },
   "file_extension": ".py",
   "mimetype": "text/x-python",
   "name": "python",
   "nbconvert_exporter": "python",
   "pygments_lexer": "ipython3",
   "version": "3.11.0"
  }
 },
 "nbformat": 4,
 "nbformat_minor": 5
}
