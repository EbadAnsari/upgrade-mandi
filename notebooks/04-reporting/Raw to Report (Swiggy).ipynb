{
 "cells": [
  {
   "cell_type": "code",
   "execution_count": 1,
   "id": "fa557394",
   "metadata": {},
   "outputs": [],
   "source": [
    "import pandas as pd"
   ]
  },
  {
   "cell_type": "code",
   "execution_count": 2,
   "id": "5162926e",
   "metadata": {},
   "outputs": [],
   "source": [
    "df = pd.read_excel(\"./upgrade 15 aug 25.xlsx\", sheet_name=\"Sheet1\")"
   ]
  },
  {
   "cell_type": "code",
   "execution_count": 3,
   "id": "9284b8fa",
   "metadata": {},
   "outputs": [],
   "source": [
    "groupByProductName = df.groupby(\"PRODUCT_NAME\")"
   ]
  },
  {
   "cell_type": "code",
   "execution_count": 4,
   "id": "dc0e6de3",
   "metadata": {},
   "outputs": [
    {
     "data": {
      "application/vnd.microsoft.datawrangler.viewer.v0+json": {
       "columns": [
        {
         "name": "PRODUCT_NAME",
         "rawType": "object",
         "type": "string"
        },
        {
         "name": "PRODUCT_NAME",
         "rawType": "object",
         "type": "string"
        }
       ],
       "ref": "f45b7db3-a661-43d8-9997-09dcc771b686",
       "rows": [
        [
         "Banana Leaf",
         "Banana Leaf"
        ],
        [
         "Beans Diced",
         "Beans Diced"
        ],
        [
         "Beetroot",
         "Beetroot"
        ],
        [
         "Bel Patta",
         "Bel Patta"
        ],
        [
         "Bel Patta Toran",
         "Bel Patta Toran"
        ],
        [
         "Betel Leaf (Fresh)",
         "Betel Leaf (Fresh)"
        ],
        [
         "Betel Leaf and Nuts",
         "Betel Leaf and Nuts"
        ],
        [
         "Bitter Gourd",
         "Bitter Gourd"
        ],
        [
         "Bottle Gourd",
         "Bottle Gourd"
        ],
        [
         "Broad Beans",
         "Broad Beans"
        ],
        [
         "Button Roses",
         "Button Roses"
        ],
        [
         "Cabbage",
         "Cabbage"
        ],
        [
         "Cauliflower Florets",
         "Cauliflower Florets"
        ],
        [
         "Coconut",
         "Coconut"
        ],
        [
         "Coconut Chunks",
         "Coconut Chunks"
        ],
        [
         "Coconut With Husk",
         "Coconut With Husk"
        ],
        [
         "Cucumber White",
         "Cucumber White"
        ],
        [
         "Dragon Fruit - Red Flesh",
         "Dragon Fruit - Red Flesh"
        ],
        [
         "Drumstick Cut",
         "Drumstick Cut"
        ],
        [
         "Durva (Doop) Grass",
         "Durva (Doop) Grass"
        ],
        [
         "Flower Mix",
         "Flower Mix"
        ],
        [
         "French Beans",
         "French Beans"
        ],
        [
         "Garlic",
         "Garlic"
        ],
        [
         "Garlic Peeled",
         "Garlic Peeled"
        ],
        [
         "Ginger",
         "Ginger"
        ],
        [
         "Green Capsicum",
         "Green Capsicum"
        ],
        [
         "Green Cucumber",
         "Green Cucumber"
        ],
        [
         "Green Kiwi",
         "Green Kiwi"
        ],
        [
         "Hybrid Tomato",
         "Hybrid Tomato"
        ],
        [
         "Imported Avocado",
         "Imported Avocado"
        ],
        [
         "Ladies Finger - Fry Cut",
         "Ladies Finger - Fry Cut"
        ],
        [
         "Lemon",
         "Lemon"
        ],
        [
         "Mango Leaves",
         "Mango Leaves"
        ],
        [
         "Marigold Flower - Mix",
         "Marigold Flower - Mix"
        ],
        [
         "Marigold Flower String",
         "Marigold Flower String"
        ],
        [
         "Marigold Petels Cut Mix",
         "Marigold Petels Cut Mix"
        ],
        [
         "Marigold Petels Cut Orange",
         "Marigold Petels Cut Orange"
        ],
        [
         "Marigold Petels Cut Yellow",
         "Marigold Petels Cut Yellow"
        ],
        [
         "Matki Sprouts",
         "Matki Sprouts"
        ],
        [
         "Mixed Flowers Petals",
         "Mixed Flowers Petals"
        ],
        [
         "Mixed Sprouts",
         "Mixed Sprouts"
        ],
        [
         "Onion",
         "Onion"
        ],
        [
         "Orange Marigold Flowers",
         "Orange Marigold Flowers"
        ],
        [
         "Papaya",
         "Papaya"
        ],
        [
         "Peeled Pomegranate",
         "Peeled Pomegranate"
        ],
        [
         "Pineapple",
         "Pineapple"
        ],
        [
         "Pineapple Peeled (Ananas) - Whole",
         "Pineapple Peeled (Ananas) - Whole"
        ],
        [
         "Pooja Coconut",
         "Pooja Coconut"
        ],
        [
         "Pooja Mix",
         "Pooja Mix"
        ],
        [
         "Potato",
         "Potato"
        ]
       ],
       "shape": {
        "columns": 1,
        "rows": 68
       }
      },
      "text/plain": [
       "PRODUCT_NAME\n",
       "Banana Leaf                          Banana Leaf\n",
       "Beans Diced                          Beans Diced\n",
       "Beetroot                                Beetroot\n",
       "Bel Patta                              Bel Patta\n",
       "Bel Patta Toran                  Bel Patta Toran\n",
       "                                   ...          \n",
       "Small Green Capsicum        Small Green Capsicum\n",
       "Tender Coconut                    Tender Coconut\n",
       "Toran                                      Toran\n",
       "Tulsi Leaves                        Tulsi Leaves\n",
       "Yellow Marigold Flower    Yellow Marigold Flower\n",
       "Name: PRODUCT_NAME, Length: 68, dtype: object"
      ]
     },
     "execution_count": 4,
     "metadata": {},
     "output_type": "execute_result"
    }
   ],
   "source": [
    "groupByProductName[\"PRODUCT_NAME\"].unique().apply(lambda names: names[0])"
   ]
  },
  {
   "cell_type": "code",
   "execution_count": null,
   "id": "ec629b0d",
   "metadata": {},
   "outputs": [],
   "source": [
    "final = pd.DataFrame(\n",
    "    {\n",
    "        # \"Product_Name\": groupByProductName[\"PRODUCT_NAME\"].unique().apply(lambda names: names[0]),\n",
    "        \"WEIGHT\": groupByProductName[\"WEIGHT\"]\n",
    "        .unique()\n",
    "        .apply(lambda weights: weights[0]),\n",
    "        \"INDENT\": groupByProductName[\"INDENT\"].sum().astype(int),\n",
    "    }\n",
    ")\n",
    "final.reset_index(inplace=True)\n",
    "final.columns = [\"Product_Name\", \"Weight\", \"Indents\"]"
   ]
  },
  {
   "cell_type": "code",
   "execution_count": null,
   "id": "8d2f8e70",
   "metadata": {},
   "outputs": [],
   "source": [
    "final[\"Sr No\"] = range(1, len(final) + 1)\n",
    "final[\"Final\"] = (\n",
    "    final[\"Weight\"]\n",
    "    .apply(\n",
    "        lambda weight: \"\".join(\n",
    "            [char for char in weight if 48 <= ord(char) and ord(char) <= 57]\n",
    "        )\n",
    "    )\n",
    "    .astype(int)\n",
    "    * final[\"INDENT\"]\n",
    ")\n",
    "final = pd.concat(\n",
    "    [\n",
    "        final,\n",
    "        pd.DataFrame(\n",
    "            {\n",
    "                \"Sr No\": [\"\"],\n",
    "                \"Product_Name\": [\"\"],\n",
    "                \"Weight\": [\"\"],\n",
    "                \"Indents\": [f'Total: {final[\"Indents\"].sum().astype(int)}'],\n",
    "                \"Final\": [\"\"],\n",
    "            }\n",
    "        ),\n",
    "    ]\n",
    ")"
   ]
  },
  {
   "cell_type": "code",
   "execution_count": null,
   "id": "23c1ed96",
   "metadata": {},
   "outputs": [],
   "source": [
    "final[[\"Sr No\", \"Product_Name\", \"Weight\", \"Indents\", \"Final\"]].to_excel(\n",
    "    \"./../Final.xlsx\",\n",
    "    sheet_name=\"Final Report\",\n",
    "    index=False,\n",
    "    engine=\"openpyxl\",\n",
    "    freeze_panes=(1, 0),\n",
    "    columns=[\"Sr No\", \"Product_Name\", \"Weight\", \"Indents\", \"Final\"],\n",
    ")"
   ]
  }
 ],
 "metadata": {
  "kernelspec": {
   "display_name": "Python 3",
   "language": "python",
   "name": "python3"
  },
  "language_info": {
   "codemirror_mode": {
    "name": "ipython",
    "version": 3
   },
   "file_extension": ".py",
   "mimetype": "text/x-python",
   "name": "python",
   "nbconvert_exporter": "python",
   "pygments_lexer": "ipython3",
   "version": "3.11.0"
  }
 },
 "nbformat": 4,
 "nbformat_minor": 5
}
