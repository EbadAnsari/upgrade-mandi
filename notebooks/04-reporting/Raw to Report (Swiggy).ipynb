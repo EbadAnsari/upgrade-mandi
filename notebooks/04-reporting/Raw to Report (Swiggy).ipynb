{
 "cells": [
  {
   "cell_type": "code",
   "execution_count": 1,
   "id": "fa557394",
   "metadata": {},
   "outputs": [],
   "source": [
    "from utils.read import readExcel\n",
    "\n",
    "import pandas as pd"
   ]
  },
  {
   "cell_type": "code",
   "execution_count": 24,
   "id": "5162926e",
   "metadata": {},
   "outputs": [],
   "source": [
    "df = readExcel(\n",
    "    \"./../../upgrade_mandi/raw-sheets-dump/Upgrade 24 september 2025.xlsx\",\n",
    "    sheetName=\"Sheet1\",\n",
    ")\n",
    "\n",
    "df.columns = [column.strip().lower() for column in df.columns]\n",
    "\n",
    "df[\"indents\"] = df[\"indents\"].apply(int)"
   ]
  },
  {
   "cell_type": "code",
   "execution_count": 25,
   "id": "50ee3d96",
   "metadata": {},
   "outputs": [
    {
     "data": {
      "text/plain": [
       "Index(['date', 'city', 'store id', 'sku_id', 'store_name', 'vendor',\n",
       "       'item_code', 'product_name', 'weight', 'indents', 'supplier id', 'cost',\n",
       "       'mrp', 'po number', 'entity name'],\n",
       "      dtype='object')"
      ]
     },
     "execution_count": 25,
     "metadata": {},
     "output_type": "execute_result"
    }
   ],
   "source": [
    "df.columns"
   ]
  },
  {
   "cell_type": "code",
   "execution_count": 26,
   "id": "9284b8fa",
   "metadata": {},
   "outputs": [],
   "source": [
    "groupByProductName = df.groupby(\"item_code\")"
   ]
  },
  {
   "cell_type": "code",
   "execution_count": 29,
   "id": "ec629b0d",
   "metadata": {},
   "outputs": [],
   "source": [
    "final = pd.DataFrame(\n",
    "    {\n",
    "        \"product_name\": groupByProductName[\"product_name\"]\n",
    "        .unique()\n",
    "        .apply(lambda names: names[0]),\n",
    "        \"weight\": groupByProductName[\"weight\"]\n",
    "        .unique()\n",
    "        .apply(lambda weights: weights[0]),\n",
    "        \"indents\": groupByProductName[\"indents\"].sum().astype(int),\n",
    "    }\n",
    ")\n",
    "final.reset_index(inplace=True, drop=True)\n",
    "final.columns = [\"Product_Name\", \"Weight\", \"Indents\"]"
   ]
  },
  {
   "cell_type": "code",
   "execution_count": 30,
   "id": "8d2f8e70",
   "metadata": {},
   "outputs": [],
   "source": [
    "final[\"Sr No\"] = range(1, len(final) + 1)\n",
    "final[\"Final\"] = (\n",
    "    final[\"Weight\"]\n",
    "    .apply(\n",
    "        lambda weight: \"\".join(\n",
    "            [char for char in weight if 48 <= ord(char) and ord(char) <= 57]\n",
    "        )\n",
    "    )\n",
    "    .astype(int)\n",
    "    * final[\"Indents\"]\n",
    ")\n",
    "final = pd.concat(\n",
    "    [\n",
    "        final,\n",
    "        pd.DataFrame(\n",
    "            {\n",
    "                \"Sr No\": [\"\"],\n",
    "                \"Product_Name\": [\"\"],\n",
    "                \"Weight\": [\"\"],\n",
    "                \"Indents\": [f'Total: {final[\"Indents\"].sum().astype(int)}'],\n",
    "                \"Final\": [\"\"],\n",
    "            }\n",
    "        ),\n",
    "    ]\n",
    ")"
   ]
  },
  {
   "cell_type": "code",
   "execution_count": 32,
   "id": "23c1ed96",
   "metadata": {},
   "outputs": [],
   "source": [
    "final[[\"Sr No\", \"Product_Name\", \"Weight\", \"Indents\", \"Final\"]].to_excel(\n",
    "    \"./../Final.xlsx\",\n",
    "    sheet_name=\"Final Report\",\n",
    "    index=False,\n",
    "    engine=\"openpyxl\",\n",
    "    freeze_panes=(1, 0),\n",
    "    columns=[\"Sr No\", \"Product_Name\", \"Weight\", \"Indents\", \"Final\"],\n",
    ")"
   ]
  }
 ],
 "metadata": {
  "kernelspec": {
   "display_name": "Python 3",
   "language": "python",
   "name": "python3"
  },
  "language_info": {
   "codemirror_mode": {
    "name": "ipython",
    "version": 3
   },
   "file_extension": ".py",
   "mimetype": "text/x-python",
   "name": "python",
   "nbconvert_exporter": "python",
   "pygments_lexer": "ipython3",
   "version": "3.11.0"
  }
 },
 "nbformat": 4,
 "nbformat_minor": 5
}
