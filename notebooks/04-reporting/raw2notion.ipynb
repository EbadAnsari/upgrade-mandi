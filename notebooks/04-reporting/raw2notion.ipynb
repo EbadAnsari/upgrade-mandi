{
 "cells": [
  {
   "cell_type": "code",
   "execution_count": 7,
   "id": "0784d97b",
   "metadata": {},
   "outputs": [],
   "source": [
    "import os\n",
    "from datetime import datetime\n",
    "\n",
    "import pandas as pd\n",
    "from notion_client import Client"
   ]
  },
  {
   "cell_type": "code",
   "execution_count": 9,
   "id": "bd375a25",
   "metadata": {},
   "outputs": [],
   "source": [
    "notion = Client(auth=\"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\")\n",
    "\n",
    "responseDf = pd.DataFrame(\n",
    "    columns=databaseColumns,\n",
    ")\n",
    "\n",
    "startCursor = None"
   ]
  },
  {
   "cell_type": "code",
   "execution_count": null,
   "id": "ad743c68",
   "metadata": {},
   "outputs": [],
   "source": [
    "def notionObject2DataFrame(notionObject):\n",
    "    data = {}\n",
    "    for key, value in notionObject[\"properties\"].items():\n",
    "        if value[\"type\"] == \"title\":\n",
    "            data[key] = value[\"title\"][0][\"plain_text\"]\n",
    "        elif value[\"type\"] == \"select\":\n",
    "            data[key] = value[\"select\"][\"name\"]\n",
    "        elif value[\"type\"] == \"number\":\n",
    "            data[key] = value[\"number\"]\n",
    "        elif value[\"type\"] == \"date\":\n",
    "            data[key] = value[\"date\"][\"start\"]\n",
    "        elif value[\"type\"] == \"relation\":\n",
    "            data[key] = notion.pages.retrieve(value[\"relation\"][0][\"id\"])\n",
    "            # print data[key]\n",
    "            data[key] = [relation[\"id\"] for relation in value[\"relation\"]]\n",
    "        elif value[\"type\"] == \"formula\":\n",
    "            if \"string\" in value[\"formula\"]:\n",
    "                data[key] = value[\"formula\"][\"string\"]\n",
    "            elif \"number\" in value[\"formula\"]:\n",
    "                data[key] = value[\"formula\"][\"number\"]\n",
    "    return data\n",
    "\n",
    "\n",
    "databaseColumns = [\n",
    "    \"Name\",\n",
    "    \"Map\",\n",
    "    # \"Article Code\",\n",
    "    # \"Item Description\",\n",
    "    # \"UoM\",\n",
    "    # \"Dispatched Qty\",\n",
    "    # \"Rate\",\n",
    "    # \"Total Amount\",\n",
    "    # \"Date\",\n",
    "    # \"Location\",\n",
    "    # \"Invoice No\",\n",
    "    # \"Invoice Version\",\n",
    "]"
   ]
  },
  {
   "cell_type": "code",
   "execution_count": null,
   "id": "acb229ee",
   "metadata": {},
   "outputs": [],
   "source": [
    "while True:\n",
    "    response = notion.databases.query(\n",
    "        database_id=\"24945ba7974f8014a238e9f78855c273\",\n",
    "        # database_id=\"24845ba7974f808a94e9c967f4113269\",\n",
    "        # filter={\"property\": \"Date\", \"date\": {\"equals\": \"2025-05-15\"}},\n",
    "        start_cursor=startCursor,\n",
    "    )\n",
    "    for result in response[\"results\"]:\n",
    "        responseDf = pd.concat(\n",
    "            [responseDf, pd.DataFrame([notionObject2DataFrame(result)])],\n",
    "            ignore_index=True,\n",
    "        )\n",
    "    if response.get(\"has_more\"):\n",
    "        startCursor = response[\"next_cursor\"]\n",
    "    else:\n",
    "        break"
   ]
  },
  {
   "cell_type": "code",
   "execution_count": 24,
   "id": "533fe25d",
   "metadata": {},
   "outputs": [
    {
     "data": {
      "application/vnd.microsoft.datawrangler.viewer.v0+json": {
       "columns": [
        {
         "name": "index",
         "rawType": "int64",
         "type": "integer"
        },
        {
         "name": "Name",
         "rawType": "object",
         "type": "string"
        },
        {
         "name": "Map",
         "rawType": "object",
         "type": "unknown"
        }
       ],
       "ref": "c47dc74c-10f6-4649-b140-e485297e8a09",
       "rows": [
        [
         "0",
         "Major Lazer",
         "{'object': 'page', 'id': '24945ba7-974f-80e3-95ae-dc9848bb90ef', 'created_time': '2025-08-08T04:05:00.000Z', 'last_edited_time': '2025-08-08T04:06:00.000Z', 'created_by': {'object': 'user', 'id': '0a2a032c-489a-4a86-9f06-d271d2a15d07'}, 'last_edited_by': {'object': 'user', 'id': '0a2a032c-489a-4a86-9f06-d271d2a15d07'}, 'cover': None, 'icon': None, 'parent': {'type': 'database_id', 'database_id': '24945ba7-974f-8074-82ee-d7b502cc04a9'}, 'archived': False, 'in_trash': False, 'properties': {'Name': {'id': 'title', 'type': 'title', 'title': [{'type': 'text', 'text': {'content': 'Nandanvan', 'link': None}, 'annotations': {'bold': False, 'italic': False, 'strikethrough': False, 'underline': False, 'code': False, 'color': 'default'}, 'plain_text': 'Nandanvan', 'href': None}]}}, 'url': 'https://www.notion.so/Nandanvan-24945ba7974f80e395aedc9848bb90ef', 'public_url': None, 'request_id': '696d87fa-e997-4125-bf24-e0328905350b'}"
        ],
        [
         "1",
         "Lean On",
         "{'object': 'page', 'id': '24945ba7-974f-8002-ad47-da5fca0cb4af', 'created_time': '2025-08-08T04:05:00.000Z', 'last_edited_time': '2025-08-08T04:06:00.000Z', 'created_by': {'object': 'user', 'id': '0a2a032c-489a-4a86-9f06-d271d2a15d07'}, 'last_edited_by': {'object': 'user', 'id': '0a2a032c-489a-4a86-9f06-d271d2a15d07'}, 'cover': None, 'icon': None, 'parent': {'type': 'database_id', 'database_id': '24945ba7-974f-8074-82ee-d7b502cc04a9'}, 'archived': False, 'in_trash': False, 'properties': {'Name': {'id': 'title', 'type': 'title', 'title': [{'type': 'text', 'text': {'content': 'Sai Mandir', 'link': None}, 'annotations': {'bold': False, 'italic': False, 'strikethrough': False, 'underline': False, 'code': False, 'color': 'default'}, 'plain_text': 'Sai Mandir', 'href': None}]}}, 'url': 'https://www.notion.so/Sai-Mandir-24945ba7974f8002ad47da5fca0cb4af', 'public_url': None, 'request_id': '288a91a7-d678-4dc4-9b04-000163da2fcc'}"
        ],
        [
         "2",
         "Major Lazer",
         "['24945ba7-974f-80e3-95ae-dc9848bb90ef']"
        ],
        [
         "3",
         "Lean On",
         "['24945ba7-974f-8002-ad47-da5fca0cb4af']"
        ]
       ],
       "shape": {
        "columns": 2,
        "rows": 4
       }
      },
      "text/html": [
       "<div>\n",
       "<style scoped>\n",
       "    .dataframe tbody tr th:only-of-type {\n",
       "        vertical-align: middle;\n",
       "    }\n",
       "\n",
       "    .dataframe tbody tr th {\n",
       "        vertical-align: top;\n",
       "    }\n",
       "\n",
       "    .dataframe thead th {\n",
       "        text-align: right;\n",
       "    }\n",
       "</style>\n",
       "<table border=\"1\" class=\"dataframe\">\n",
       "  <thead>\n",
       "    <tr style=\"text-align: right;\">\n",
       "      <th></th>\n",
       "      <th>Name</th>\n",
       "      <th>Map</th>\n",
       "    </tr>\n",
       "  </thead>\n",
       "  <tbody>\n",
       "    <tr>\n",
       "      <th>0</th>\n",
       "      <td>Major Lazer</td>\n",
       "      <td>{'object': 'page', 'id': '24945ba7-974f-80e3-9...</td>\n",
       "    </tr>\n",
       "    <tr>\n",
       "      <th>1</th>\n",
       "      <td>Lean On</td>\n",
       "      <td>{'object': 'page', 'id': '24945ba7-974f-8002-a...</td>\n",
       "    </tr>\n",
       "    <tr>\n",
       "      <th>2</th>\n",
       "      <td>Major Lazer</td>\n",
       "      <td>[24945ba7-974f-80e3-95ae-dc9848bb90ef]</td>\n",
       "    </tr>\n",
       "    <tr>\n",
       "      <th>3</th>\n",
       "      <td>Lean On</td>\n",
       "      <td>[24945ba7-974f-8002-ad47-da5fca0cb4af]</td>\n",
       "    </tr>\n",
       "  </tbody>\n",
       "</table>\n",
       "</div>"
      ],
      "text/plain": [
       "          Name                                                Map\n",
       "0  Major Lazer  {'object': 'page', 'id': '24945ba7-974f-80e3-9...\n",
       "1      Lean On  {'object': 'page', 'id': '24945ba7-974f-8002-a...\n",
       "2  Major Lazer             [24945ba7-974f-80e3-95ae-dc9848bb90ef]\n",
       "3      Lean On             [24945ba7-974f-8002-ad47-da5fca0cb4af]"
      ]
     },
     "execution_count": 24,
     "metadata": {},
     "output_type": "execute_result"
    }
   ],
   "source": [
    "# response[\"results\"]\n",
    "responseDf"
   ]
  },
  {
   "cell_type": "code",
   "execution_count": null,
   "id": "afcc866f",
   "metadata": {},
   "outputs": [],
   "source": [
    "pageId = \"24945ba7974f8043b422dac622593f52\"\n",
    "result = notionObject2DataFrame(\n",
    "    notion.pages.retrieve(\n",
    "        page_id=pageId,\n",
    "        # properties={\n",
    "        #     \"Name\": {\"title\": [{\"text\": {\"content\": \"Updated Name\"}}]},\n",
    "        #     \"Map\": {\"relation\": [{\"text\": {\"content\": \"Updated Map\"}}]},\n",
    "        # },\n",
    "    )\n",
    ")"
   ]
  },
  {
   "cell_type": "code",
   "execution_count": 18,
   "id": "9e6612bb",
   "metadata": {},
   "outputs": [
    {
     "data": {
      "application/vnd.microsoft.datawrangler.viewer.v0+json": {
       "columns": [
        {
         "name": "index",
         "rawType": "int64",
         "type": "integer"
        },
        {
         "name": "Code",
         "rawType": "object",
         "type": "string"
        },
        {
         "name": "Store Id",
         "rawType": "int64",
         "type": "integer"
        },
        {
         "name": "Retailer",
         "rawType": "object",
         "type": "string"
        },
        {
         "name": "Location",
         "rawType": "object",
         "type": "string"
        }
       ],
       "ref": "4a602bd0-0bda-42a0-92f9-f9c9250b5b52",
       "rows": [
        [
         "0",
         "AN",
         "1403419",
         "Rajidi",
         "Ayodhya Nagar"
        ]
       ],
       "shape": {
        "columns": 4,
        "rows": 1
       }
      },
      "text/html": [
       "<div>\n",
       "<style scoped>\n",
       "    .dataframe tbody tr th:only-of-type {\n",
       "        vertical-align: middle;\n",
       "    }\n",
       "\n",
       "    .dataframe tbody tr th {\n",
       "        vertical-align: top;\n",
       "    }\n",
       "\n",
       "    .dataframe thead th {\n",
       "        text-align: right;\n",
       "    }\n",
       "</style>\n",
       "<table border=\"1\" class=\"dataframe\">\n",
       "  <thead>\n",
       "    <tr style=\"text-align: right;\">\n",
       "      <th></th>\n",
       "      <th>Code</th>\n",
       "      <th>Store Id</th>\n",
       "      <th>Retailer</th>\n",
       "      <th>Location</th>\n",
       "    </tr>\n",
       "  </thead>\n",
       "  <tbody>\n",
       "    <tr>\n",
       "      <th>0</th>\n",
       "      <td>AN</td>\n",
       "      <td>1403419</td>\n",
       "      <td>Rajidi</td>\n",
       "      <td>Ayodhya Nagar</td>\n",
       "    </tr>\n",
       "  </tbody>\n",
       "</table>\n",
       "</div>"
      ],
      "text/plain": [
       "  Code  Store Id Retailer       Location\n",
       "0   AN   1403419   Rajidi  Ayodhya Nagar"
      ]
     },
     "execution_count": 18,
     "metadata": {},
     "output_type": "execute_result"
    }
   ],
   "source": [
    "result"
   ]
  },
  {
   "cell_type": "code",
   "execution_count": 16,
   "id": "17510a61",
   "metadata": {},
   "outputs": [],
   "source": [
    "df1 = pd.DataFrame(\n",
    "    {\n",
    "        \"Article Code\": [\"A001\", \"A002\", \"A003\", \"A005\"],\n",
    "        \"Item Description\": [\"Item 1\", \"Item 2\", \"Item 3\", \"Item 5\"],\n",
    "        \"UoM\": [\"kg\", \"kg\", \"kg\", \"kg\"],\n",
    "    }\n",
    ")\n",
    "df2 = pd.DataFrame(\n",
    "    {\n",
    "        \"Article Code\": [\"A001\", \"A002\", \"A003\", \"A004\"],\n",
    "        \"Item Description\": [\"Item 1\", \"Item 2\", \"Item 3\", \"Item 4\"],\n",
    "        \"UoM\": [\"kg\", \"kg\", \"kg\", \"kg\"],\n",
    "    }\n",
    ")"
   ]
  },
  {
   "cell_type": "code",
   "execution_count": 21,
   "id": "126bf040",
   "metadata": {},
   "outputs": [
    {
     "data": {
      "application/vnd.microsoft.datawrangler.viewer.v0+json": {
       "columns": [
        {
         "name": "index",
         "rawType": "int64",
         "type": "integer"
        },
        {
         "name": "Article Code",
         "rawType": "object",
         "type": "string"
        },
        {
         "name": "Item Description",
         "rawType": "object",
         "type": "string"
        },
        {
         "name": "UoM",
         "rawType": "object",
         "type": "string"
        }
       ],
       "ref": "d12aa38c-cfd0-44a5-9aa2-6a8d94ab5c2e",
       "rows": [
        [
         "3",
         "A004",
         "Item 4",
         "kg"
        ]
       ],
       "shape": {
        "columns": 3,
        "rows": 1
       }
      },
      "text/html": [
       "<div>\n",
       "<style scoped>\n",
       "    .dataframe tbody tr th:only-of-type {\n",
       "        vertical-align: middle;\n",
       "    }\n",
       "\n",
       "    .dataframe tbody tr th {\n",
       "        vertical-align: top;\n",
       "    }\n",
       "\n",
       "    .dataframe thead th {\n",
       "        text-align: right;\n",
       "    }\n",
       "</style>\n",
       "<table border=\"1\" class=\"dataframe\">\n",
       "  <thead>\n",
       "    <tr style=\"text-align: right;\">\n",
       "      <th></th>\n",
       "      <th>Article Code</th>\n",
       "      <th>Item Description</th>\n",
       "      <th>UoM</th>\n",
       "    </tr>\n",
       "  </thead>\n",
       "  <tbody>\n",
       "    <tr>\n",
       "      <th>3</th>\n",
       "      <td>A004</td>\n",
       "      <td>Item 4</td>\n",
       "      <td>kg</td>\n",
       "    </tr>\n",
       "  </tbody>\n",
       "</table>\n",
       "</div>"
      ],
      "text/plain": [
       "  Article Code Item Description UoM\n",
       "3         A004           Item 4  kg"
      ]
     },
     "execution_count": 21,
     "metadata": {},
     "output_type": "execute_result"
    }
   ],
   "source": [
    "mrg = df1.merge(df2, how=\"right\", indicator=True)\n",
    "mrg[mrg[\"_merge\"] == \"right_only\"].drop(columns=[\"_merge\"])"
   ]
  }
 ],
 "metadata": {
  "kernelspec": {
   "display_name": "Python 3",
   "language": "python",
   "name": "python3"
  },
  "language_info": {
   "codemirror_mode": {
    "name": "ipython",
    "version": 3
   },
   "file_extension": ".py",
   "mimetype": "text/x-python",
   "name": "python",
   "nbconvert_exporter": "python",
   "pygments_lexer": "ipython3",
   "version": "3.11.0"
  }
 },
 "nbformat": 4,
 "nbformat_minor": 5
}
