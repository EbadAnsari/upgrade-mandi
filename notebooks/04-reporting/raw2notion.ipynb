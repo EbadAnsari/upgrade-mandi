{
 "cells": [
  {
   "cell_type": "code",
   "execution_count": 3,
   "id": "0784d97b",
   "metadata": {},
   "outputs": [],
   "source": [
    "import os\n",
    "from datetime import datetime\n",
    "\n",
    "import pandas as pd\n",
    "from notion_client import Client"
   ]
  },
  {
   "cell_type": "code",
   "execution_count": 5,
   "id": "c0e28b2f",
   "metadata": {},
   "outputs": [],
   "source": [
    "from dataclasses import dataclass, field\n",
    "from typing import Dict, List, Optional, Union\n",
    "\n",
    "\n",
    "@dataclass\n",
    "class ColumnDefaultConfig:\n",
    "    \"\"\"\n",
    "    Default configuration for columns.\n",
    "    This class is used to define the default settings for columns in the domain configuration.\n",
    "    \"\"\"\n",
    "\n",
    "    \"\"\" Defines the column name for the configuration.\"\"\"\n",
    "    columnName: str = None\n",
    "\n",
    "\n",
    "@dataclass\n",
    "class RawSheetConfig(ColumnDefaultConfig):\n",
    "    pass\n",
    "\n",
    "\n",
    "@dataclass\n",
    "class InvoicePdfConfig(ColumnDefaultConfig):\n",
    "    index: Optional[int] = None\n",
    "    heading: Optional[bool] = None\n",
    "\n",
    "\n",
    "@dataclass\n",
    "class DatabaseConfig(ColumnDefaultConfig):\n",
    "    columnName: str = None\n",
    "\n",
    "\n",
    "@dataclass\n",
    "class ColumnConfig(ColumnDefaultConfig):\n",
    "    invoicePdf: Optional[InvoicePdfConfig] = None\n",
    "    rawSheet: Optional[RawSheetConfig] = None\n",
    "    database: Optional[DatabaseConfig] = None\n",
    "\n",
    "\n",
    "@dataclass\n",
    "class Location:\n",
    "    locationName: str\n",
    "    shippingAddress: str\n",
    "    retailer: str\n",
    "    code: str = None\n",
    "    storeId: str = None\n",
    "\n",
    "\n",
    "@dataclass\n",
    "class DomainConfig:\n",
    "    databaseId: str\n",
    "    databaseLocationId: str\n",
    "    columns: List[ColumnConfig] = field(default_factory=list)\n",
    "    locations: List[Location] = field(default_factory=dict)\n",
    "\n",
    "\n",
    "domainConfig: DomainConfig = DomainConfig(\n",
    "    columns=[\n",
    "        ColumnConfig(\n",
    "            columnName=\"Article Code\",\n",
    "            invoicePdf=InvoicePdfConfig(columnName=\"Article Code\", index=1),\n",
    "            rawSheet=RawSheetConfig(columnName=\"ITEM_CODE\"),\n",
    "            database=DatabaseConfig(columnName=\"Article Code\"),\n",
    "        ),\n",
    "        ColumnConfig(\n",
    "            columnName=\"Date\",\n",
    "            invoicePdf=InvoicePdfConfig(columnName=\"Date\", heading=True),\n",
    "            rawSheet=RawSheetConfig(columnName=\"Date\"),\n",
    "            database=DatabaseConfig(columnName=\"Date\"),\n",
    "        ),\n",
    "        ColumnConfig(\n",
    "            columnName=\"Dispatched Qty\",\n",
    "            invoicePdf=InvoicePdfConfig(columnName=\"Dispatched Qty\", index=4),\n",
    "            rawSheet=RawSheetConfig(columnName=\"Indents\"),\n",
    "            database=DatabaseConfig(columnName=\"Dispatched Qty\"),\n",
    "        ),\n",
    "        ColumnConfig(\n",
    "            columnName=\"Item Description\",\n",
    "            invoicePdf=InvoicePdfConfig(columnName=\"Item Description\", index=2),\n",
    "            rawSheet=RawSheetConfig(columnName=\"PRODUCT_NAME\"),\n",
    "            database=DatabaseConfig(columnName=\"Item Description\"),\n",
    "        ),\n",
    "        ColumnConfig(\n",
    "            columnName=\"Invoice No\",\n",
    "            invoicePdf=InvoicePdfConfig(columnName=\"Invoice No\", heading=True),\n",
    "            database=DatabaseConfig(columnName=\"Invoice No\"),\n",
    "        ),\n",
    "        ColumnConfig(\n",
    "            columnName=\"Invoice Version\",\n",
    "            database=DatabaseConfig(columnName=\"Invoice Version\"),\n",
    "        ),\n",
    "        ColumnConfig(\n",
    "            columnName=\"Location\",\n",
    "            invoicePdf=InvoicePdfConfig(columnName=\"Location\", heading=True),\n",
    "            rawSheet=RawSheetConfig(columnName=\"STORE_NAME\"),\n",
    "            database=DatabaseConfig(columnName=\"Location\"),\n",
    "        ),\n",
    "        ColumnConfig(\n",
    "            columnName=\"PO No\",\n",
    "            invoicePdf=InvoicePdfConfig(columnName=\"PO No\", heading=True),\n",
    "            rawSheet=RawSheetConfig(columnName=\"PO Number\"),\n",
    "            database=DatabaseConfig(columnName=\"PO No\"),\n",
    "        ),\n",
    "        ColumnConfig(\n",
    "            columnName=\"Rate\",\n",
    "            invoicePdf=InvoicePdfConfig(columnName=\"Rate\", index=6),\n",
    "            rawSheet=RawSheetConfig(columnName=\"Cost\"),\n",
    "            database=DatabaseConfig(columnName=\"Rate\"),\n",
    "        ),\n",
    "        ColumnConfig(\n",
    "            columnName=\"Recieved Qty\",\n",
    "            invoicePdf=InvoicePdfConfig(columnName=\"Recieved Qty\", index=5),\n",
    "        ),\n",
    "        ColumnConfig(\n",
    "            columnName=\"Retailer\",\n",
    "            invoicePdf=InvoicePdfConfig(columnName=\"Retailer\", heading=True),\n",
    "            rawSheet=RawSheetConfig(columnName=\"Entity Name\"),\n",
    "            database=DatabaseConfig(columnName=\"Retailer\"),\n",
    "        ),\n",
    "        ColumnConfig(\n",
    "            columnName=\"Sr\", invoicePdf=InvoicePdfConfig(columnName=\"Sr\", index=0)\n",
    "        ),\n",
    "        ColumnConfig(\n",
    "            columnName=\"Total Amount\",\n",
    "            invoicePdf=InvoicePdfConfig(columnName=\"Total Amount\", index=7),\n",
    "            # rawSheet=RawSheetConfig(columnName=\"Total\"),\n",
    "            database=DatabaseConfig(columnName=\"Total Amount\"),\n",
    "        ),\n",
    "        ColumnConfig(\n",
    "            columnName=\"UoM\",\n",
    "            invoicePdf=InvoicePdfConfig(columnName=\"UoM\", index=3),\n",
    "            rawSheet=RawSheetConfig(columnName=\"WEIGHT\"),\n",
    "            database=DatabaseConfig(columnName=\"UoM\"),\n",
    "        ),\n",
    "        ColumnConfig(\n",
    "            columnName=\"Vendor Name\",\n",
    "            invoicePdf=InvoicePdfConfig(columnName=\"Vendor Name\", heading=True),\n",
    "            rawSheet=RawSheetConfig(columnName=\"VENDOR\"),\n",
    "            database=DatabaseConfig(columnName=\"Vendor Name\"),\n",
    "        ),\n",
    "    ],\n",
    "    locations=[\n",
    "        Location(\n",
    "            locationName=\"Ayodhya Nagar\",\n",
    "            shippingAddress=\"Gadewar Lawns Plot No.31, 32, 33, 36, 37 And 38, K. H. No, 72/2, Situated At Gadewar Lawn, Shri Ram Wadi\",\n",
    "            retailer=\"Rajidi Retail Pvt Ltd\",\n",
    "            code=\"AN\",\n",
    "            storeId=\"1403419\",\n",
    "        ),\n",
    "        Location(\n",
    "            locationName=\"Byramji\",\n",
    "            shippingAddress=\"Unit nos - 59 to 71 Lower Ground Floor Ginger Square City Survey No - 1049\",\n",
    "            retailer=\"Rajidi Retail Pvt Ltd\",\n",
    "            code=\"B\",\n",
    "            storeId=\"1392084\",\n",
    "        ),\n",
    "        Location(\n",
    "            locationName=\"Dharampeth\",\n",
    "            shippingAddress=\"Plot No. 151, CTS No. 135 Puja Sabhagrah, Ravi Nagar Square, Ram Nagar\",\n",
    "            retailer=\"Swinsta Ent Private Limited\",\n",
    "            code=\"DH\",\n",
    "            storeId=\"1397624\",\n",
    "        ),\n",
    "        Location(\n",
    "            locationName=\"Mahal\",\n",
    "            shippingAddress=\"Unit no - G-1, Plot no.58, sardar patel timber Dhantoli, NAGPUR - 440027\",\n",
    "            retailer=\"Rajidi Retail Pvt Ltd\",\n",
    "            code=\"MH\",\n",
    "            storeId=\"1393571\",\n",
    "        ),\n",
    "        Location(\n",
    "            locationName=\"Manish Nagar\",\n",
    "            shippingAddress='Ground floor \"Jayanti Mansion III\", Manish nagar Nagpur Maharashtra',\n",
    "            retailer=\"Rajidi Retail Pvt Ltd\",\n",
    "            code=\"MN\",\n",
    "            storeId=\"1392532\",\n",
    "        ),\n",
    "        Location(\n",
    "            locationName=\"Nandanvan\",\n",
    "            shippingAddress=\"Vinayak Tower, Lower Ground Floor, Survey No.212 Gurudev Nagar Main Road, New Nanadanvan\",\n",
    "            retailer=\"Swinsta Ent Private Limited\",\n",
    "            code=\"NA\",\n",
    "            storeId=\"1397035\",\n",
    "        ),\n",
    "        Location(\n",
    "            locationName=\"Sai Mandir\",\n",
    "            shippingAddress=\"Khasra No 18/2, city Survey No.718, House No. 781/B, Situated at Village Ajni\",\n",
    "            retailer=\"Swinsta Ent Private Limited\",\n",
    "            code=\"S\",\n",
    "            storeId=\"1399707\",\n",
    "        ),\n",
    "    ],\n",
    "    databaseId=\"23445ba7974f8081852acc595fd9436c\",\n",
    "    databaseLocationId=\"d4b0f1c2e3f14a8\",\n",
    ")\n",
    "\n",
    "# to go"
   ]
  },
  {
   "cell_type": "code",
   "execution_count": 11,
   "id": "bd375a25",
   "metadata": {},
   "outputs": [],
   "source": [
    "notion = Client(auth=\"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\")\n",
    "\n",
    "responseDf = pd.DataFrame(\n",
    "    columns=[\n",
    "        columnName.database.columnName\n",
    "        for columnName in domainConfig.columns\n",
    "        if columnName.database is not None\n",
    "    ],\n",
    ")\n",
    "\n",
    "startCursor = None"
   ]
  },
  {
   "cell_type": "code",
   "execution_count": 6,
   "id": "c0ee32f2",
   "metadata": {},
   "outputs": [
    {
     "data": {
      "text/plain": [
       "['Article Code',\n",
       " 'Date',\n",
       " 'Dispatched Qty',\n",
       " 'Item Description',\n",
       " 'Invoice No',\n",
       " 'Invoice Version',\n",
       " 'Location',\n",
       " 'PO No',\n",
       " 'Rate',\n",
       " 'Retailer',\n",
       " 'Total Amount',\n",
       " 'UoM',\n",
       " 'Vendor Name']"
      ]
     },
     "execution_count": 6,
     "metadata": {},
     "output_type": "execute_result"
    }
   ],
   "source": [
    "[\n",
    "    columnName.database.columnName\n",
    "    for columnName in domainConfig.columns\n",
    "    if columnName.database is not None\n",
    "]"
   ]
  },
  {
   "cell_type": "code",
   "execution_count": 13,
   "id": "ad743c68",
   "metadata": {},
   "outputs": [],
   "source": [
    "def notionObject2DataFrame(notionObject):\n",
    "    data = {}\n",
    "    for key, value in notionObject[\"properties\"].items():\n",
    "        if value[\"type\"] == \"title\":\n",
    "            data[key] = value[\"title\"][0][\"plain_text\"]\n",
    "        elif value[\"type\"] == \"select\":\n",
    "            data[key] = value[\"select\"][\"name\"]\n",
    "        elif value[\"type\"] == \"number\":\n",
    "            data[key] = value[\"number\"]\n",
    "        elif value[\"type\"] == \"date\":\n",
    "            data[key] = value[\"date\"][\"start\"]\n",
    "        elif value[\"type\"] == \"relation\":\n",
    "            # data[key] = notion.pages.retrieve(value[\"relation\"][0][\"id\"])\n",
    "            # print data[key]\n",
    "            data[key] = [relation[\"id\"] for relation in value[\"relation\"]]\n",
    "        elif value[\"type\"] == \"formula\":\n",
    "            if \"string\" in value[\"formula\"]:\n",
    "                data[key] = value[\"formula\"][\"string\"]\n",
    "            elif \"number\" in value[\"formula\"]:\n",
    "                data[key] = value[\"formula\"][\"number\"]\n",
    "    return data\n",
    "\n",
    "\n",
    "databaseColumns = [\n",
    "    \"Name\",\n",
    "    \"Map\",\n",
    "    # \"Article Code\",\n",
    "    # \"Item Description\",\n",
    "    # \"UoM\",\n",
    "    # \"Dispatched Qty\",\n",
    "    # \"Rate\",\n",
    "    # \"Total Amount\",\n",
    "    # \"Date\",\n",
    "    # \"Location\",\n",
    "    # \"Invoice No\",\n",
    "    # \"Invoice Version\",\n",
    "]"
   ]
  },
  {
   "cell_type": "code",
   "execution_count": 16,
   "id": "acb229ee",
   "metadata": {},
   "outputs": [
    {
     "ename": "APIResponseError",
     "evalue": "The start_cursor provided is invalid: 24b3d099-9ee8-817f-a595-c84bbd0c3716",
     "output_type": "error",
     "traceback": [
      "\u001b[31m---------------------------------------------------------------------------\u001b[39m",
      "\u001b[31mHTTPStatusError\u001b[39m                           Traceback (most recent call last)",
      "\u001b[36mFile \u001b[39m\u001b[32m~\\AppData\\Roaming\\Python\\Python311\\site-packages\\notion_client\\client.py:118\u001b[39m, in \u001b[36mBaseClient._parse_response\u001b[39m\u001b[34m(self, response)\u001b[39m\n\u001b[32m    117\u001b[39m \u001b[38;5;28;01mtry\u001b[39;00m:\n\u001b[32m--> \u001b[39m\u001b[32m118\u001b[39m     \u001b[43mresponse\u001b[49m\u001b[43m.\u001b[49m\u001b[43mraise_for_status\u001b[49m\u001b[43m(\u001b[49m\u001b[43m)\u001b[49m\n\u001b[32m    119\u001b[39m \u001b[38;5;28;01mexcept\u001b[39;00m httpx.HTTPStatusError \u001b[38;5;28;01mas\u001b[39;00m error:\n",
      "\u001b[36mFile \u001b[39m\u001b[32m~\\AppData\\Roaming\\Python\\Python311\\site-packages\\httpx\\_models.py:829\u001b[39m, in \u001b[36mResponse.raise_for_status\u001b[39m\u001b[34m(self)\u001b[39m\n\u001b[32m    828\u001b[39m message = message.format(\u001b[38;5;28mself\u001b[39m, error_type=error_type)\n\u001b[32m--> \u001b[39m\u001b[32m829\u001b[39m \u001b[38;5;28;01mraise\u001b[39;00m HTTPStatusError(message, request=request, response=\u001b[38;5;28mself\u001b[39m)\n",
      "\u001b[31mHTTPStatusError\u001b[39m: Client error '400 Bad Request' for url 'https://api.notion.com/v1/databases/24b3d0999ee8809abebfc511c513b0ad/query'\nFor more information check: https://developer.mozilla.org/en-US/docs/Web/HTTP/Status/400",
      "\nDuring handling of the above exception, another exception occurred:\n",
      "\u001b[31mAPIResponseError\u001b[39m                          Traceback (most recent call last)",
      "\u001b[36mCell\u001b[39m\u001b[36m \u001b[39m\u001b[32mIn[16]\u001b[39m\u001b[32m, line 2\u001b[39m\n\u001b[32m      1\u001b[39m \u001b[38;5;28;01mwhile\u001b[39;00m \u001b[38;5;28;01mTrue\u001b[39;00m:\n\u001b[32m----> \u001b[39m\u001b[32m2\u001b[39m     response = \u001b[43mnotion\u001b[49m\u001b[43m.\u001b[49m\u001b[43mdatabases\u001b[49m\u001b[43m.\u001b[49m\u001b[43mquery\u001b[49m\u001b[43m(\u001b[49m\n\u001b[32m      3\u001b[39m \u001b[43m        \u001b[49m\u001b[43mdatabase_id\u001b[49m\u001b[43m=\u001b[49m\u001b[33;43m\"\u001b[39;49m\u001b[33;43m24b3d0999ee8809abebfc511c513b0ad\u001b[39;49m\u001b[33;43m\"\u001b[39;49m\u001b[43m,\u001b[49m\n\u001b[32m      4\u001b[39m \u001b[43m        \u001b[49m\u001b[38;5;66;43;03m# database_id=\"24845ba7974f808a94e9c967f4113269\",\u001b[39;49;00m\n\u001b[32m      5\u001b[39m \u001b[43m        \u001b[49m\u001b[38;5;28;43mfilter\u001b[39;49m\u001b[43m=\u001b[49m\u001b[43m{\u001b[49m\u001b[33;43m\"\u001b[39;49m\u001b[33;43mproperty\u001b[39;49m\u001b[33;43m\"\u001b[39;49m\u001b[43m:\u001b[49m\u001b[43m \u001b[49m\u001b[33;43m\"\u001b[39;49m\u001b[33;43mDate\u001b[39;49m\u001b[33;43m\"\u001b[39;49m\u001b[43m,\u001b[49m\u001b[43m \u001b[49m\u001b[33;43m\"\u001b[39;49m\u001b[33;43mdate\u001b[39;49m\u001b[33;43m\"\u001b[39;49m\u001b[43m:\u001b[49m\u001b[43m \u001b[49m\u001b[43m{\u001b[49m\u001b[33;43m\"\u001b[39;49m\u001b[33;43mequals\u001b[39;49m\u001b[33;43m\"\u001b[39;49m\u001b[43m:\u001b[49m\u001b[43m \u001b[49m\u001b[33;43m\"\u001b[39;49m\u001b[33;43m2025-08-06\u001b[39;49m\u001b[33;43m\"\u001b[39;49m\u001b[43m}\u001b[49m\u001b[43m}\u001b[49m\u001b[43m,\u001b[49m\n\u001b[32m      6\u001b[39m \u001b[43m        \u001b[49m\u001b[43mstart_cursor\u001b[49m\u001b[43m=\u001b[49m\u001b[43mstartCursor\u001b[49m\u001b[43m,\u001b[49m\n\u001b[32m      7\u001b[39m \u001b[43m    \u001b[49m\u001b[43m)\u001b[49m\n\u001b[32m      8\u001b[39m     \u001b[38;5;28;01mfor\u001b[39;00m result \u001b[38;5;129;01min\u001b[39;00m response[\u001b[33m\"\u001b[39m\u001b[33mresults\u001b[39m\u001b[33m\"\u001b[39m]:\n\u001b[32m      9\u001b[39m         responseDf = pd.concat(\n\u001b[32m     10\u001b[39m             [responseDf, pd.DataFrame([notionObject2DataFrame(result)])],\n\u001b[32m     11\u001b[39m             ignore_index=\u001b[38;5;28;01mTrue\u001b[39;00m,\n\u001b[32m     12\u001b[39m         )\n",
      "\u001b[36mFile \u001b[39m\u001b[32m~\\AppData\\Roaming\\Python\\Python311\\site-packages\\notion_client\\api_endpoints.py:134\u001b[39m, in \u001b[36mDatabasesEndpoint.query\u001b[39m\u001b[34m(self, database_id, **kwargs)\u001b[39m\n\u001b[32m    129\u001b[39m \u001b[38;5;28;01mdef\u001b[39;00m\u001b[38;5;250m \u001b[39m\u001b[34mquery\u001b[39m(\u001b[38;5;28mself\u001b[39m, database_id: \u001b[38;5;28mstr\u001b[39m, **kwargs: Any) -> SyncAsync[Any]:\n\u001b[32m    130\u001b[39m \u001b[38;5;250m    \u001b[39m\u001b[33;03m\"\"\"Get a list of [Pages](https://developers.notion.com/reference/page) contained in the database.\u001b[39;00m\n\u001b[32m    131\u001b[39m \n\u001b[32m    132\u001b[39m \u001b[33;03m    *[🔗 Endpoint documentation](https://developers.notion.com/reference/post-database-query)*\u001b[39;00m\n\u001b[32m    133\u001b[39m \u001b[33;03m    \"\"\"\u001b[39;00m  \u001b[38;5;66;03m# noqa: E501\u001b[39;00m\n\u001b[32m--> \u001b[39m\u001b[32m134\u001b[39m     \u001b[38;5;28;01mreturn\u001b[39;00m \u001b[38;5;28;43mself\u001b[39;49m\u001b[43m.\u001b[49m\u001b[43mparent\u001b[49m\u001b[43m.\u001b[49m\u001b[43mrequest\u001b[49m\u001b[43m(\u001b[49m\n\u001b[32m    135\u001b[39m \u001b[43m        \u001b[49m\u001b[43mpath\u001b[49m\u001b[43m=\u001b[49m\u001b[33;43mf\u001b[39;49m\u001b[33;43m\"\u001b[39;49m\u001b[33;43mdatabases/\u001b[39;49m\u001b[38;5;132;43;01m{\u001b[39;49;00m\u001b[43mdatabase_id\u001b[49m\u001b[38;5;132;43;01m}\u001b[39;49;00m\u001b[33;43m/query\u001b[39;49m\u001b[33;43m\"\u001b[39;49m\u001b[43m,\u001b[49m\n\u001b[32m    136\u001b[39m \u001b[43m        \u001b[49m\u001b[43mmethod\u001b[49m\u001b[43m=\u001b[49m\u001b[33;43m\"\u001b[39;49m\u001b[33;43mPOST\u001b[39;49m\u001b[33;43m\"\u001b[39;49m\u001b[43m,\u001b[49m\n\u001b[32m    137\u001b[39m \u001b[43m        \u001b[49m\u001b[43mquery\u001b[49m\u001b[43m=\u001b[49m\u001b[43mpick\u001b[49m\u001b[43m(\u001b[49m\u001b[43mkwargs\u001b[49m\u001b[43m,\u001b[49m\u001b[43m \u001b[49m\u001b[33;43m\"\u001b[39;49m\u001b[33;43mfilter_properties\u001b[39;49m\u001b[33;43m\"\u001b[39;49m\u001b[43m)\u001b[49m\u001b[43m,\u001b[49m\n\u001b[32m    138\u001b[39m \u001b[43m        \u001b[49m\u001b[43mbody\u001b[49m\u001b[43m=\u001b[49m\u001b[43mpick\u001b[49m\u001b[43m(\u001b[49m\n\u001b[32m    139\u001b[39m \u001b[43m            \u001b[49m\u001b[43mkwargs\u001b[49m\u001b[43m,\u001b[49m\n\u001b[32m    140\u001b[39m \u001b[43m            \u001b[49m\u001b[33;43m\"\u001b[39;49m\u001b[33;43mfilter\u001b[39;49m\u001b[33;43m\"\u001b[39;49m\u001b[43m,\u001b[49m\n\u001b[32m    141\u001b[39m \u001b[43m            \u001b[49m\u001b[33;43m\"\u001b[39;49m\u001b[33;43msorts\u001b[39;49m\u001b[33;43m\"\u001b[39;49m\u001b[43m,\u001b[49m\n\u001b[32m    142\u001b[39m \u001b[43m            \u001b[49m\u001b[33;43m\"\u001b[39;49m\u001b[33;43mstart_cursor\u001b[39;49m\u001b[33;43m\"\u001b[39;49m\u001b[43m,\u001b[49m\n\u001b[32m    143\u001b[39m \u001b[43m            \u001b[49m\u001b[33;43m\"\u001b[39;49m\u001b[33;43mpage_size\u001b[39;49m\u001b[33;43m\"\u001b[39;49m\u001b[43m,\u001b[49m\n\u001b[32m    144\u001b[39m \u001b[43m            \u001b[49m\u001b[33;43m\"\u001b[39;49m\u001b[33;43marchived\u001b[39;49m\u001b[33;43m\"\u001b[39;49m\u001b[43m,\u001b[49m\n\u001b[32m    145\u001b[39m \u001b[43m            \u001b[49m\u001b[33;43m\"\u001b[39;49m\u001b[33;43min_trash\u001b[39;49m\u001b[33;43m\"\u001b[39;49m\u001b[43m,\u001b[49m\n\u001b[32m    146\u001b[39m \u001b[43m        \u001b[49m\u001b[43m)\u001b[49m\u001b[43m,\u001b[49m\n\u001b[32m    147\u001b[39m \u001b[43m        \u001b[49m\u001b[43mauth\u001b[49m\u001b[43m=\u001b[49m\u001b[43mkwargs\u001b[49m\u001b[43m.\u001b[49m\u001b[43mget\u001b[49m\u001b[43m(\u001b[49m\u001b[33;43m\"\u001b[39;49m\u001b[33;43mauth\u001b[39;49m\u001b[33;43m\"\u001b[39;49m\u001b[43m)\u001b[49m\u001b[43m,\u001b[49m\n\u001b[32m    148\u001b[39m \u001b[43m    \u001b[49m\u001b[43m)\u001b[49m\n",
      "\u001b[36mFile \u001b[39m\u001b[32m~\\AppData\\Roaming\\Python\\Python311\\site-packages\\notion_client\\client.py:194\u001b[39m, in \u001b[36mClient.request\u001b[39m\u001b[34m(self, path, method, query, body, auth)\u001b[39m\n\u001b[32m    192\u001b[39m \u001b[38;5;28;01mexcept\u001b[39;00m httpx.TimeoutException:\n\u001b[32m    193\u001b[39m     \u001b[38;5;28;01mraise\u001b[39;00m RequestTimeoutError()\n\u001b[32m--> \u001b[39m\u001b[32m194\u001b[39m \u001b[38;5;28;01mreturn\u001b[39;00m \u001b[38;5;28;43mself\u001b[39;49m\u001b[43m.\u001b[49m\u001b[43m_parse_response\u001b[49m\u001b[43m(\u001b[49m\u001b[43mresponse\u001b[49m\u001b[43m)\u001b[49m\n",
      "\u001b[36mFile \u001b[39m\u001b[32m~\\AppData\\Roaming\\Python\\Python311\\site-packages\\notion_client\\client.py:126\u001b[39m, in \u001b[36mBaseClient._parse_response\u001b[39m\u001b[34m(self, response)\u001b[39m\n\u001b[32m    124\u001b[39m         code = \u001b[38;5;28;01mNone\u001b[39;00m\n\u001b[32m    125\u001b[39m     \u001b[38;5;28;01mif\u001b[39;00m code \u001b[38;5;129;01mand\u001b[39;00m is_api_error_code(code):\n\u001b[32m--> \u001b[39m\u001b[32m126\u001b[39m         \u001b[38;5;28;01mraise\u001b[39;00m APIResponseError(response, body[\u001b[33m\"\u001b[39m\u001b[33mmessage\u001b[39m\u001b[33m\"\u001b[39m], code)\n\u001b[32m    127\u001b[39m     \u001b[38;5;28;01mraise\u001b[39;00m HTTPResponseError(error.response)\n\u001b[32m    129\u001b[39m body = response.json()\n",
      "\u001b[31mAPIResponseError\u001b[39m: The start_cursor provided is invalid: 24b3d099-9ee8-817f-a595-c84bbd0c3716"
     ]
    }
   ],
   "source": [
    "while True:\n",
    "    response = notion.databases.query(\n",
    "        database_id=\"24b3d0999ee8809abebfc511c513b0ad\",\n",
    "        # database_id=\"24845ba7974f808a94e9c967f4113269\",\n",
    "        filter={\"property\": \"Date\", \"date\": {\"equals\": \"2025-08-06\"}},\n",
    "        start_cursor=startCursor,\n",
    "    )\n",
    "    for result in response[\"results\"]:\n",
    "        responseDf = pd.concat(\n",
    "            [responseDf, pd.DataFrame([notionObject2DataFrame(result)])],\n",
    "            ignore_index=True,\n",
    "        )\n",
    "        print(f\"Fetched {len(response['results'])} results\")\n",
    "    if response.get(\"has_more\"):\n",
    "        startCursor = response[\"next_cursor\"]\n",
    "    else:\n",
    "        break"
   ]
  },
  {
   "cell_type": "code",
   "execution_count": 24,
   "id": "533fe25d",
   "metadata": {},
   "outputs": [
    {
     "data": {
      "application/vnd.microsoft.datawrangler.viewer.v0+json": {
       "columns": [
        {
         "name": "index",
         "rawType": "int64",
         "type": "integer"
        },
        {
         "name": "Name",
         "rawType": "object",
         "type": "string"
        },
        {
         "name": "Map",
         "rawType": "object",
         "type": "unknown"
        }
       ],
       "ref": "c47dc74c-10f6-4649-b140-e485297e8a09",
       "rows": [
        [
         "0",
         "Major Lazer",
         "{'object': 'page', 'id': '24945ba7-974f-80e3-95ae-dc9848bb90ef', 'created_time': '2025-08-08T04:05:00.000Z', 'last_edited_time': '2025-08-08T04:06:00.000Z', 'created_by': {'object': 'user', 'id': '0a2a032c-489a-4a86-9f06-d271d2a15d07'}, 'last_edited_by': {'object': 'user', 'id': '0a2a032c-489a-4a86-9f06-d271d2a15d07'}, 'cover': None, 'icon': None, 'parent': {'type': 'database_id', 'database_id': '24945ba7-974f-8074-82ee-d7b502cc04a9'}, 'archived': False, 'in_trash': False, 'properties': {'Name': {'id': 'title', 'type': 'title', 'title': [{'type': 'text', 'text': {'content': 'Nandanvan', 'link': None}, 'annotations': {'bold': False, 'italic': False, 'strikethrough': False, 'underline': False, 'code': False, 'color': 'default'}, 'plain_text': 'Nandanvan', 'href': None}]}}, 'url': 'https://www.notion.so/Nandanvan-24945ba7974f80e395aedc9848bb90ef', 'public_url': None, 'request_id': '696d87fa-e997-4125-bf24-e0328905350b'}"
        ],
        [
         "1",
         "Lean On",
         "{'object': 'page', 'id': '24945ba7-974f-8002-ad47-da5fca0cb4af', 'created_time': '2025-08-08T04:05:00.000Z', 'last_edited_time': '2025-08-08T04:06:00.000Z', 'created_by': {'object': 'user', 'id': '0a2a032c-489a-4a86-9f06-d271d2a15d07'}, 'last_edited_by': {'object': 'user', 'id': '0a2a032c-489a-4a86-9f06-d271d2a15d07'}, 'cover': None, 'icon': None, 'parent': {'type': 'database_id', 'database_id': '24945ba7-974f-8074-82ee-d7b502cc04a9'}, 'archived': False, 'in_trash': False, 'properties': {'Name': {'id': 'title', 'type': 'title', 'title': [{'type': 'text', 'text': {'content': 'Sai Mandir', 'link': None}, 'annotations': {'bold': False, 'italic': False, 'strikethrough': False, 'underline': False, 'code': False, 'color': 'default'}, 'plain_text': 'Sai Mandir', 'href': None}]}}, 'url': 'https://www.notion.so/Sai-Mandir-24945ba7974f8002ad47da5fca0cb4af', 'public_url': None, 'request_id': '288a91a7-d678-4dc4-9b04-000163da2fcc'}"
        ],
        [
         "2",
         "Major Lazer",
         "['24945ba7-974f-80e3-95ae-dc9848bb90ef']"
        ],
        [
         "3",
         "Lean On",
         "['24945ba7-974f-8002-ad47-da5fca0cb4af']"
        ]
       ],
       "shape": {
        "columns": 2,
        "rows": 4
       }
      },
      "text/html": [
       "<div>\n",
       "<style scoped>\n",
       "    .dataframe tbody tr th:only-of-type {\n",
       "        vertical-align: middle;\n",
       "    }\n",
       "\n",
       "    .dataframe tbody tr th {\n",
       "        vertical-align: top;\n",
       "    }\n",
       "\n",
       "    .dataframe thead th {\n",
       "        text-align: right;\n",
       "    }\n",
       "</style>\n",
       "<table border=\"1\" class=\"dataframe\">\n",
       "  <thead>\n",
       "    <tr style=\"text-align: right;\">\n",
       "      <th></th>\n",
       "      <th>Name</th>\n",
       "      <th>Map</th>\n",
       "    </tr>\n",
       "  </thead>\n",
       "  <tbody>\n",
       "    <tr>\n",
       "      <th>0</th>\n",
       "      <td>Major Lazer</td>\n",
       "      <td>{'object': 'page', 'id': '24945ba7-974f-80e3-9...</td>\n",
       "    </tr>\n",
       "    <tr>\n",
       "      <th>1</th>\n",
       "      <td>Lean On</td>\n",
       "      <td>{'object': 'page', 'id': '24945ba7-974f-8002-a...</td>\n",
       "    </tr>\n",
       "    <tr>\n",
       "      <th>2</th>\n",
       "      <td>Major Lazer</td>\n",
       "      <td>[24945ba7-974f-80e3-95ae-dc9848bb90ef]</td>\n",
       "    </tr>\n",
       "    <tr>\n",
       "      <th>3</th>\n",
       "      <td>Lean On</td>\n",
       "      <td>[24945ba7-974f-8002-ad47-da5fca0cb4af]</td>\n",
       "    </tr>\n",
       "  </tbody>\n",
       "</table>\n",
       "</div>"
      ],
      "text/plain": [
       "          Name                                                Map\n",
       "0  Major Lazer  {'object': 'page', 'id': '24945ba7-974f-80e3-9...\n",
       "1      Lean On  {'object': 'page', 'id': '24945ba7-974f-8002-a...\n",
       "2  Major Lazer             [24945ba7-974f-80e3-95ae-dc9848bb90ef]\n",
       "3      Lean On             [24945ba7-974f-8002-ad47-da5fca0cb4af]"
      ]
     },
     "execution_count": 24,
     "metadata": {},
     "output_type": "execute_result"
    }
   ],
   "source": [
    "# response[\"results\"]\n",
    "responseDf"
   ]
  },
  {
   "cell_type": "code",
   "execution_count": null,
   "id": "afcc866f",
   "metadata": {},
   "outputs": [],
   "source": [
    "pageId = \"24945ba7974f8043b422dac622593f52\"\n",
    "result = notionObject2DataFrame(\n",
    "    notion.pages.retrieve(\n",
    "        page_id=pageId,\n",
    "        # properties={\n",
    "        #     \"Name\": {\"title\": [{\"text\": {\"content\": \"Updated Name\"}}]},\n",
    "        #     \"Map\": {\"relation\": [{\"text\": {\"content\": \"Updated Map\"}}]},\n",
    "        # },\n",
    "    )\n",
    ")"
   ]
  },
  {
   "cell_type": "code",
   "execution_count": 18,
   "id": "9e6612bb",
   "metadata": {},
   "outputs": [
    {
     "data": {
      "application/vnd.microsoft.datawrangler.viewer.v0+json": {
       "columns": [
        {
         "name": "index",
         "rawType": "int64",
         "type": "integer"
        },
        {
         "name": "Code",
         "rawType": "object",
         "type": "string"
        },
        {
         "name": "Store Id",
         "rawType": "int64",
         "type": "integer"
        },
        {
         "name": "Retailer",
         "rawType": "object",
         "type": "string"
        },
        {
         "name": "Location",
         "rawType": "object",
         "type": "string"
        }
       ],
       "ref": "4a602bd0-0bda-42a0-92f9-f9c9250b5b52",
       "rows": [
        [
         "0",
         "AN",
         "1403419",
         "Rajidi",
         "Ayodhya Nagar"
        ]
       ],
       "shape": {
        "columns": 4,
        "rows": 1
       }
      },
      "text/html": [
       "<div>\n",
       "<style scoped>\n",
       "    .dataframe tbody tr th:only-of-type {\n",
       "        vertical-align: middle;\n",
       "    }\n",
       "\n",
       "    .dataframe tbody tr th {\n",
       "        vertical-align: top;\n",
       "    }\n",
       "\n",
       "    .dataframe thead th {\n",
       "        text-align: right;\n",
       "    }\n",
       "</style>\n",
       "<table border=\"1\" class=\"dataframe\">\n",
       "  <thead>\n",
       "    <tr style=\"text-align: right;\">\n",
       "      <th></th>\n",
       "      <th>Code</th>\n",
       "      <th>Store Id</th>\n",
       "      <th>Retailer</th>\n",
       "      <th>Location</th>\n",
       "    </tr>\n",
       "  </thead>\n",
       "  <tbody>\n",
       "    <tr>\n",
       "      <th>0</th>\n",
       "      <td>AN</td>\n",
       "      <td>1403419</td>\n",
       "      <td>Rajidi</td>\n",
       "      <td>Ayodhya Nagar</td>\n",
       "    </tr>\n",
       "  </tbody>\n",
       "</table>\n",
       "</div>"
      ],
      "text/plain": [
       "  Code  Store Id Retailer       Location\n",
       "0   AN   1403419   Rajidi  Ayodhya Nagar"
      ]
     },
     "execution_count": 18,
     "metadata": {},
     "output_type": "execute_result"
    }
   ],
   "source": [
    "result"
   ]
  },
  {
   "cell_type": "code",
   "execution_count": 16,
   "id": "17510a61",
   "metadata": {},
   "outputs": [],
   "source": [
    "df1 = pd.DataFrame(\n",
    "    {\n",
    "        \"Article Code\": [\"A001\", \"A002\", \"A003\", \"A005\"],\n",
    "        \"Item Description\": [\"Item 1\", \"Item 2\", \"Item 3\", \"Item 5\"],\n",
    "        \"UoM\": [\"kg\", \"kg\", \"kg\", \"kg\"],\n",
    "    }\n",
    ")\n",
    "df2 = pd.DataFrame(\n",
    "    {\n",
    "        \"Article Code\": [\"A001\", \"A002\", \"A003\", \"A004\"],\n",
    "        \"Item Description\": [\"Item 1\", \"Item 2\", \"Item 3\", \"Item 4\"],\n",
    "        \"UoM\": [\"kg\", \"kg\", \"kg\", \"kg\"],\n",
    "    }\n",
    ")"
   ]
  },
  {
   "cell_type": "code",
   "execution_count": 21,
   "id": "126bf040",
   "metadata": {},
   "outputs": [
    {
     "data": {
      "application/vnd.microsoft.datawrangler.viewer.v0+json": {
       "columns": [
        {
         "name": "index",
         "rawType": "int64",
         "type": "integer"
        },
        {
         "name": "Article Code",
         "rawType": "object",
         "type": "string"
        },
        {
         "name": "Item Description",
         "rawType": "object",
         "type": "string"
        },
        {
         "name": "UoM",
         "rawType": "object",
         "type": "string"
        }
       ],
       "ref": "d12aa38c-cfd0-44a5-9aa2-6a8d94ab5c2e",
       "rows": [
        [
         "3",
         "A004",
         "Item 4",
         "kg"
        ]
       ],
       "shape": {
        "columns": 3,
        "rows": 1
       }
      },
      "text/html": [
       "<div>\n",
       "<style scoped>\n",
       "    .dataframe tbody tr th:only-of-type {\n",
       "        vertical-align: middle;\n",
       "    }\n",
       "\n",
       "    .dataframe tbody tr th {\n",
       "        vertical-align: top;\n",
       "    }\n",
       "\n",
       "    .dataframe thead th {\n",
       "        text-align: right;\n",
       "    }\n",
       "</style>\n",
       "<table border=\"1\" class=\"dataframe\">\n",
       "  <thead>\n",
       "    <tr style=\"text-align: right;\">\n",
       "      <th></th>\n",
       "      <th>Article Code</th>\n",
       "      <th>Item Description</th>\n",
       "      <th>UoM</th>\n",
       "    </tr>\n",
       "  </thead>\n",
       "  <tbody>\n",
       "    <tr>\n",
       "      <th>3</th>\n",
       "      <td>A004</td>\n",
       "      <td>Item 4</td>\n",
       "      <td>kg</td>\n",
       "    </tr>\n",
       "  </tbody>\n",
       "</table>\n",
       "</div>"
      ],
      "text/plain": [
       "  Article Code Item Description UoM\n",
       "3         A004           Item 4  kg"
      ]
     },
     "execution_count": 21,
     "metadata": {},
     "output_type": "execute_result"
    }
   ],
   "source": [
    "mrg = df1.merge(df2, how=\"right\", indicator=True)\n",
    "mrg[mrg[\"_merge\"] == \"right_only\"].drop(columns=[\"_merge\"])"
   ]
  }
 ],
 "metadata": {
  "kernelspec": {
   "display_name": "Python 3",
   "language": "python",
   "name": "python3"
  },
  "language_info": {
   "codemirror_mode": {
    "name": "ipython",
    "version": 3
   },
   "file_extension": ".py",
   "mimetype": "text/x-python",
   "name": "python",
   "nbconvert_exporter": "python",
   "pygments_lexer": "ipython3",
   "version": "3.11.0"
  }
 },
 "nbformat": 4,
 "nbformat_minor": 5
}
