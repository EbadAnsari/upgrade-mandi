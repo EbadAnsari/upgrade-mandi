{
 "cells": [
  {
   "cell_type": "code",
   "execution_count": 17,
   "id": "51e31a67",
   "metadata": {},
   "outputs": [],
   "source": [
    "import pandas as pd\n",
    "\n",
    "import numpy as np\n",
    "from utils import config, utils"
   ]
  },
  {
   "cell_type": "code",
   "execution_count": 46,
   "id": "44975e40",
   "metadata": {},
   "outputs": [],
   "source": [
    "df = pd.read_excel(\n",
    "    \"./../../upgrade_mandi/raw-sheets-dump/DOC-20250823-WA0030..xlsx\",\n",
    "    sheet_name=\"Sheet1\",\n",
    ")"
   ]
  },
  {
   "cell_type": "code",
   "execution_count": 48,
   "id": "ca6799d6",
   "metadata": {},
   "outputs": [],
   "source": [
    "df.columns = df.columns.str.lower().str.strip()"
   ]
  },
  {
   "cell_type": "code",
   "execution_count": 50,
   "id": "76de1380",
   "metadata": {},
   "outputs": [],
   "source": [
    "locations = [\n",
    "    location.locationName for location in config.domainConfigClass[\"Zepto\"].locations\n",
    "]"
   ]
  },
  {
   "cell_type": "code",
   "execution_count": 49,
   "id": "35dce69b",
   "metadata": {},
   "outputs": [
    {
     "data": {
      "text/plain": [
       "Index(['product code', 'product name', 'uom', 'vendor name', 'nag-besa',\n",
       "       'nag-bhupesh nagar', 'nag-garoba maidan', 'nag-gokulpeth',\n",
       "       'nag-jaripatka', 'nag-khamla', 'nag-raghuji nagar',\n",
       "       'nag-zingabai takali', 'grand total', 'rate'],\n",
       "      dtype='object')"
      ]
     },
     "execution_count": 49,
     "metadata": {},
     "output_type": "execute_result"
    }
   ],
   "source": [
    "df.columns"
   ]
  },
  {
   "cell_type": "code",
   "execution_count": 52,
   "id": "614710d6",
   "metadata": {},
   "outputs": [],
   "source": [
    "productDF = df[\n",
    "    df.columns[[not column.startswith(\"nag-\") for column in df.columns]]\n",
    "].drop(labels=[\"product code\", \"grand total\", \"vendor name\"], axis=1)\n",
    "\n",
    "productDF[\"uom\"] = productDF[\"uom\"].apply(\n",
    "    lambda uom: \"#N/A\" if str(uom) == \"nan\" else uom\n",
    ")\n",
    "\n",
    "productDF[\"rate\"] = productDF[\"rate\"].fillna(0)\n",
    "\n",
    "locationDF = df[df.columns[[column.startswith(\"nag-\") for column in df.columns]]]\n",
    "locationDF.columns = [\n",
    "    utils.nameExtracter(locations, column[4:]) for column in locationDF.columns\n",
    "]\n",
    "\n",
    "# locationDF.columns = [ for location in locationDF.columns]"
   ]
  },
  {
   "cell_type": "code",
   "execution_count": null,
   "id": "0d879fad",
   "metadata": {},
   "outputs": [
    {
     "data": {
      "text/plain": [
       "Index(['No', 'Article Name', 'Uom', 'Invoice Qty.', 'Recieved Qty.', 'Rate',\n",
       "       'Amount'],\n",
       "      dtype='object')"
      ]
     },
     "execution_count": 54,
     "metadata": {},
     "output_type": "execute_result"
    }
   ],
   "source": [
    "locationSepratedDF: dict[str, pd.DataFrame] = {}\n",
    "for location in locations:\n",
    "    locationSeries = locationDF[location]\n",
    "    locationSeries.name = \"invoice qty.\"\n",
    "    locationSepratedDF[location] = pd.concat([productDF, locationSeries], axis=1)\n",
    "\n",
    "    locationSepratedDF[location][\"amount\"] = (\n",
    "        locationSepratedDF[location][\"rate\"]\n",
    "        * locationSepratedDF[location][\"invoice qty.\"]\n",
    "    )\n",
    "\n",
    "    locationSepratedDF[location].columns = [\n",
    "        \"article name\",\n",
    "        \"uom\",\n",
    "        \"rate\",\n",
    "        \"invoice qty.\",\n",
    "        \"amount\",\n",
    "    ]\n",
    "\n",
    "    locationSepratedDF[location][\"recieved qty.\"] = \"\"\n",
    "    locationSepratedDF[location][\"no\"] = range(1, len(locationSepratedDF[location]) + 1)\n",
    "\n",
    "    locationSepratedDF[location] = locationSepratedDF[location][\n",
    "        [\n",
    "            \"no\",\n",
    "            \"article name\",\n",
    "            \"uom\",\n",
    "            \"invoice qty.\",\n",
    "            \"recieved qty.\",\n",
    "            \"rate\",\n",
    "            \"amount\",\n",
    "        ]\n",
    "    ]\n",
    "\n",
    "    locationSepratedDF[location] = locationSepratedDF[location].columns.str.title()"
   ]
  }
 ],
 "metadata": {
  "kernelspec": {
   "display_name": "Python 3",
   "language": "python",
   "name": "python3"
  },
  "language_info": {
   "codemirror_mode": {
    "name": "ipython",
    "version": 3
   },
   "file_extension": ".py",
   "mimetype": "text/x-python",
   "name": "python",
   "nbconvert_exporter": "python",
   "pygments_lexer": "ipython3",
   "version": "3.11.0"
  }
 },
 "nbformat": 4,
 "nbformat_minor": 5
}
