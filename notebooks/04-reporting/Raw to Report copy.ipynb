{
 "cells": [
  {
   "cell_type": "code",
   "execution_count": 1,
   "id": "fa557394",
   "metadata": {},
   "outputs": [],
   "source": [
    "import pandas as pd"
   ]
  },
  {
   "cell_type": "code",
   "execution_count": null,
   "id": "5162926e",
   "metadata": {},
   "outputs": [],
   "source": [
    "df = pd.read_excel(\"./../upgrade 07 aug 25.xlsx\", sheet_name=\"Sheet1\")"
   ]
  },
  {
   "cell_type": "code",
   "execution_count": 3,
   "id": "9284b8fa",
   "metadata": {},
   "outputs": [],
   "source": [
    "groupByProductName = df.groupby(\"PRODUCT_NAME\")"
   ]
  },
  {
   "cell_type": "code",
   "execution_count": null,
   "id": "dc0e6de3",
   "metadata": {},
   "outputs": [
    {
     "data": {
      "application/vnd.microsoft.datawrangler.viewer.v0+json": {
       "columns": [
        {
         "name": "PRODUCT_NAME",
         "rawType": "object",
         "type": "string"
        },
        {
         "name": "PRODUCT_NAME",
         "rawType": "object",
         "type": "string"
        }
       ],
       "ref": "6203cd48-9539-4d22-82f7-d826634c1e6e",
       "rows": [
        [
         "Beans Diced",
         "Beans Diced"
        ],
        [
         "Beetroot",
         "Beetroot"
        ],
        [
         "Bitter Gourd",
         "Bitter Gourd"
        ],
        [
         "Bottle Gourd",
         "Bottle Gourd"
        ],
        [
         "Broad Beans",
         "Broad Beans"
        ],
        [
         "Cabbage",
         "Cabbage"
        ],
        [
         "Cauliflower Florets",
         "Cauliflower Florets"
        ],
        [
         "Coconut",
         "Coconut"
        ],
        [
         "Coconut Chunks",
         "Coconut Chunks"
        ],
        [
         "Coconut With Husk",
         "Coconut With Husk"
        ],
        [
         "Cucumber White",
         "Cucumber White"
        ],
        [
         "Drumstick Cut",
         "Drumstick Cut"
        ],
        [
         "French Beans",
         "French Beans"
        ],
        [
         "Garlic",
         "Garlic"
        ],
        [
         "Garlic Peeled",
         "Garlic Peeled"
        ],
        [
         "Ginger",
         "Ginger"
        ],
        [
         "Green Capsicum",
         "Green Capsicum"
        ],
        [
         "Green Cucumber",
         "Green Cucumber"
        ],
        [
         "Green Kiwi",
         "Green Kiwi"
        ],
        [
         "Hybrid Tomato",
         "Hybrid Tomato"
        ],
        [
         "Ladies Finger - Fry Cut",
         "Ladies Finger - Fry Cut"
        ],
        [
         "Lemon",
         "Lemon"
        ],
        [
         "Matki Sprouts",
         "Matki Sprouts"
        ],
        [
         "Mixed Sprouts",
         "Mixed Sprouts"
        ],
        [
         "Muskmelon",
         "Muskmelon"
        ],
        [
         "Onion",
         "Onion"
        ],
        [
         "Papaya",
         "Papaya"
        ],
        [
         "Peeled Pomegranate",
         "Peeled Pomegranate"
        ],
        [
         "Pineapple",
         "Pineapple"
        ],
        [
         "Pineapple Peeled (Ananas) - Whole",
         "Pineapple Peeled (Ananas) - Whole"
        ],
        [
         "Pointed Gourd",
         "Pointed Gourd"
        ],
        [
         "Pooja Coconut",
         "Pooja Coconut"
        ],
        [
         "Potato",
         "Potato"
        ],
        [
         "Pumpkin Cut",
         "Pumpkin Cut"
        ],
        [
         "Purple Bharta Brinjal",
         "Purple Bharta Brinjal"
        ],
        [
         "Raw Groundnut",
         "Raw Groundnut"
        ],
        [
         "Robusta Banana",
         "Robusta Banana"
        ],
        [
         "Round Gourd",
         "Round Gourd"
        ],
        [
         "Round Green Brinjal",
         "Round Green Brinjal"
        ],
        [
         "Small Green Capsicum",
         "Small Green Capsicum"
        ],
        [
         "Tender Coconut",
         "Tender Coconut"
        ],
        [
         "White Dragon Fruit Imported",
         "White Dragon Fruit Imported"
        ]
       ],
       "shape": {
        "columns": 1,
        "rows": 42
       }
      },
      "text/plain": [
       "PRODUCT_NAME\n",
       "Beans Diced                                                Beans Diced\n",
       "Beetroot                                                      Beetroot\n",
       "Bitter Gourd                                              Bitter Gourd\n",
       "Bottle Gourd                                              Bottle Gourd\n",
       "Broad Beans                                                Broad Beans\n",
       "Cabbage                                                        Cabbage\n",
       "Cauliflower Florets                                Cauliflower Florets\n",
       "Coconut                                                        Coconut\n",
       "Coconut Chunks                                          Coconut Chunks\n",
       "Coconut With Husk                                    Coconut With Husk\n",
       "Cucumber White                                          Cucumber White\n",
       "Drumstick Cut                                            Drumstick Cut\n",
       "French Beans                                              French Beans\n",
       "Garlic                                                          Garlic\n",
       "Garlic Peeled                                            Garlic Peeled\n",
       "Ginger                                                          Ginger\n",
       "Green Capsicum                                          Green Capsicum\n",
       "Green Cucumber                                          Green Cucumber\n",
       "Green Kiwi                                                  Green Kiwi\n",
       "Hybrid Tomato                                            Hybrid Tomato\n",
       "Ladies Finger - Fry Cut                        Ladies Finger - Fry Cut\n",
       "Lemon                                                            Lemon\n",
       "Matki Sprouts                                            Matki Sprouts\n",
       "Mixed Sprouts                                            Mixed Sprouts\n",
       "Muskmelon                                                    Muskmelon\n",
       "Onion                                                            Onion\n",
       "Papaya                                                          Papaya\n",
       "Peeled Pomegranate                                  Peeled Pomegranate\n",
       "Pineapple                                                    Pineapple\n",
       "Pineapple Peeled (Ananas) - Whole    Pineapple Peeled (Ananas) - Whole\n",
       "Pointed Gourd                                            Pointed Gourd\n",
       "Pooja Coconut                                            Pooja Coconut\n",
       "Potato                                                          Potato\n",
       "Pumpkin Cut                                                Pumpkin Cut\n",
       "Purple Bharta Brinjal                            Purple Bharta Brinjal\n",
       "Raw Groundnut                                            Raw Groundnut\n",
       "Robusta Banana                                          Robusta Banana\n",
       "Round Gourd                                                Round Gourd\n",
       "Round Green Brinjal                                Round Green Brinjal\n",
       "Small Green Capsicum                              Small Green Capsicum\n",
       "Tender Coconut                                          Tender Coconut\n",
       "White Dragon Fruit Imported                White Dragon Fruit Imported\n",
       "Name: PRODUCT_NAME, dtype: object"
      ]
     },
     "execution_count": 4,
     "metadata": {},
     "output_type": "execute_result"
    }
   ],
   "source": [
    "groupByProductName[\"PRODUCT_NAME\"].unique().apply(lambda names: names[0])"
   ]
  },
  {
   "cell_type": "code",
   "execution_count": null,
   "id": "ec629b0d",
   "metadata": {},
   "outputs": [],
   "source": [
    "final = pd.DataFrame(\n",
    "    {\n",
    "        # \"Product_Name\": groupByProductName[\"PRODUCT_NAME\"].unique().apply(lambda names: names[0]),\n",
    "        \"WEIGHT\": groupByProductName[\"WEIGHT\"]\n",
    "        .unique()\n",
    "        .apply(lambda weights: weights[0]),\n",
    "        \"Indents\": groupByProductName[\"Indents\"].sum().astype(int),\n",
    "    }\n",
    ")\n",
    "final.reset_index(inplace=True)\n",
    "final.columns = [\"Product_Name\", \"Weight\", \"Indents\"]"
   ]
  },
  {
   "cell_type": "code",
   "execution_count": null,
   "id": "8d2f8e70",
   "metadata": {},
   "outputs": [],
   "source": [
    "final[\"Sr No\"] = range(1, len(final) + 1)\n",
    "final[\"Final\"] = (\n",
    "    final[\"Weight\"]\n",
    "    .apply(\n",
    "        lambda weight: \"\".join(\n",
    "            [char for char in weight if 48 <= ord(char) and ord(char) <= 57]\n",
    "        )\n",
    "    )\n",
    "    .astype(int)\n",
    "    * final[\"Indents\"]\n",
    ")\n",
    "final = pd.concat(\n",
    "    [\n",
    "        final,\n",
    "        pd.DataFrame(\n",
    "            {\n",
    "                \"Sr No\": [\"\"],\n",
    "                \"Product_Name\": [\"\"],\n",
    "                \"Weight\": [\"\"],\n",
    "                \"Indents\": [f'Total: {final[\"Indents\"].sum().astype(int)}'],\n",
    "                \"Final\": [\"\"],\n",
    "            }\n",
    "        ),\n",
    "    ]\n",
    ")"
   ]
  },
  {
   "cell_type": "code",
   "execution_count": null,
   "id": "23c1ed96",
   "metadata": {},
   "outputs": [],
   "source": [
    "final[[\"Sr No\", \"Product_Name\", \"Weight\", \"Indents\", \"Final\"]].to_excel(\n",
    "    \"./../Final.xlsx\",\n",
    "    sheet_name=\"Final Report\",\n",
    "    index=False,\n",
    "    engine=\"openpyxl\",\n",
    "    freeze_panes=(1, 0),\n",
    "    columns=[\"Sr No\", \"Product_Name\", \"Weight\", \"Indents\", \"Final\"],\n",
    ")"
   ]
  }
 ],
 "metadata": {
  "kernelspec": {
   "display_name": "Python 3",
   "language": "python",
   "name": "python3"
  },
  "language_info": {
   "codemirror_mode": {
    "name": "ipython",
    "version": 3
   },
   "file_extension": ".py",
   "mimetype": "text/x-python",
   "name": "python",
   "nbconvert_exporter": "python",
   "pygments_lexer": "ipython3",
   "version": "3.11.0"
  }
 },
 "nbformat": 4,
 "nbformat_minor": 5
}
