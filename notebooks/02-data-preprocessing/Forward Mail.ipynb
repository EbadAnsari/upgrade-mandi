{
 "cells": [
  {
   "cell_type": "code",
   "execution_count": 1,
   "id": "e1591fb4",
   "metadata": {},
   "outputs": [],
   "source": [
    "import pandas as pd"
   ]
  },
  {
   "cell_type": "code",
   "execution_count": 2,
   "id": "58ed12e2",
   "metadata": {},
   "outputs": [],
   "source": [
    "df = pd.read_csv(\"./../../upgrade_mandi/data/cleaned/swiggy/Swiggy.csv\")"
   ]
  },
  {
   "cell_type": "code",
   "execution_count": 9,
   "id": "075a053e",
   "metadata": {},
   "outputs": [
    {
     "name": "stdout",
     "output_type": "stream",
     "text": [
      "<class 'pandas.core.frame.DataFrame'>\n",
      "RangeIndex: 29543 entries, 0 to 29542\n",
      "Data columns (total 13 columns):\n",
      " #   Column            Non-Null Count  Dtype  \n",
      "---  ------            --------------  -----  \n",
      " 0   Article Code      29543 non-null  int64  \n",
      " 1   Item Description  29543 non-null  object \n",
      " 2   UoM               29543 non-null  object \n",
      " 3   Dispatched Qty    29543 non-null  int64  \n",
      " 4   Rate              29543 non-null  float64\n",
      " 5   Total Amount      29543 non-null  int64  \n",
      " 6   Date              29543 non-null  object \n",
      " 7   Location          29543 non-null  object \n",
      " 8   Invoice Version   29543 non-null  float64\n",
      " 9   Retailer          29543 non-null  object \n",
      " 10  Vendor Name       29543 non-null  object \n",
      " 11  Shipping Address  29543 non-null  object \n",
      " 12  PO No             29543 non-null  object \n",
      "dtypes: float64(2), int64(3), object(8)\n",
      "memory usage: 2.9+ MB\n"
     ]
    }
   ],
   "source": [
    "df.info()"
   ]
  },
  {
   "cell_type": "code",
   "execution_count": 8,
   "id": "94642f32",
   "metadata": {},
   "outputs": [],
   "source": [
    "df[\"Item Description\"] = df[\"Item Description\"].apply(lambda x: str(x))"
   ]
  }
 ],
 "metadata": {
  "kernelspec": {
   "display_name": "Python 3",
   "language": "python",
   "name": "python3"
  },
  "language_info": {
   "codemirror_mode": {
    "name": "ipython",
    "version": 3
   },
   "file_extension": ".py",
   "mimetype": "text/x-python",
   "name": "python",
   "nbconvert_exporter": "python",
   "pygments_lexer": "ipython3",
   "version": "3.11.0"
  }
 },
 "nbformat": 4,
 "nbformat_minor": 5
}
