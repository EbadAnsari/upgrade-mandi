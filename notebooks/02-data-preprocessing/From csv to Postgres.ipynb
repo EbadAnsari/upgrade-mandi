{
 "cells": [
  {
   "cell_type": "code",
   "execution_count": 1,
   "id": "c05153b3",
   "metadata": {},
   "outputs": [],
   "source": [
    "from datetime import datetime\n",
    "\n",
    "import pandas as pd\n",
    "from dom import domainConfig"
   ]
  },
  {
   "cell_type": "code",
   "execution_count": 2,
   "id": "b687cf89",
   "metadata": {},
   "outputs": [],
   "source": [
    "CLEANED_FOLDER_PATH = \"./../../upgrade_mandi/data/cleaned/swiggy\""
   ]
  },
  {
   "cell_type": "code",
   "execution_count": 3,
   "id": "80e1292e",
   "metadata": {},
   "outputs": [],
   "source": [
    "df = pd.read_csv(f\"{CLEANED_FOLDER_PATH}/Swiggy.csv\")"
   ]
  },
  {
   "cell_type": "code",
   "execution_count": 4,
   "id": "8582378f",
   "metadata": {},
   "outputs": [],
   "source": [
    "mp = {location.locationName: location.code for location in domainConfig.locations}\n",
    "df[\"LocationCode\"] = df[\"Location\"].apply(lambda row: mp[row])"
   ]
  },
  {
   "cell_type": "code",
   "execution_count": 5,
   "id": "fdd32b54",
   "metadata": {},
   "outputs": [],
   "source": [
    "df = df[\n",
    "    [\n",
    "        \"Article Code\",\n",
    "        \"Item Description\",\n",
    "        \"UoM\",\n",
    "        \"Dispatched Qty\",\n",
    "        \"Rate\",\n",
    "        \"Total Amount\",\n",
    "        \"Date\",\n",
    "        \"LocationCode\",\n",
    "        # \"Location\",\n",
    "        \"Invoice Version\",\n",
    "        \"Vendor Name\",\n",
    "        # \"PO No\",\n",
    "    ]\n",
    "]"
   ]
  },
  {
   "cell_type": "code",
   "execution_count": 6,
   "id": "863b5634",
   "metadata": {},
   "outputs": [],
   "source": [
    "df.columns = [\n",
    "    \"article_code\",\n",
    "    \"item_description\",\n",
    "    \"uom\",\n",
    "    \"dispatched_qty\",\n",
    "    \"rate\",\n",
    "    \"total_amount\",\n",
    "    \"date\",\n",
    "    \"location_code\",\n",
    "    \"invoice_version\",\n",
    "    \"vendor_name\",\n",
    "]"
   ]
  },
  {
   "cell_type": "code",
   "execution_count": 7,
   "id": "26148de8",
   "metadata": {},
   "outputs": [
    {
     "name": "stderr",
     "output_type": "stream",
     "text": [
      "C:\\Users\\cw\\AppData\\Local\\Temp\\ipykernel_6312\\1311169751.py:14: SettingWithCopyWarning: \n",
      "A value is trying to be set on a copy of a slice from a DataFrame.\n",
      "Try using .loc[row_indexer,col_indexer] = value instead\n",
      "\n",
      "See the caveats in the documentation: https://pandas.pydata.org/pandas-docs/stable/user_guide/indexing.html#returning-a-view-versus-a-copy\n",
      "  toCSV[\"date\"] = toCSV[\"date\"].apply(\n",
      "C:\\Users\\cw\\AppData\\Local\\Temp\\ipykernel_6312\\1311169751.py:17: SettingWithCopyWarning: \n",
      "A value is trying to be set on a copy of a slice from a DataFrame.\n",
      "Try using .loc[row_indexer,col_indexer] = value instead\n",
      "\n",
      "See the caveats in the documentation: https://pandas.pydata.org/pandas-docs/stable/user_guide/indexing.html#returning-a-view-versus-a-copy\n",
      "  toCSV[\"rate\"] = toCSV[\"rate\"].astype(int)\n",
      "C:\\Users\\cw\\AppData\\Local\\Temp\\ipykernel_6312\\1311169751.py:18: SettingWithCopyWarning: \n",
      "A value is trying to be set on a copy of a slice from a DataFrame.\n",
      "Try using .loc[row_indexer,col_indexer] = value instead\n",
      "\n",
      "See the caveats in the documentation: https://pandas.pydata.org/pandas-docs/stable/user_guide/indexing.html#returning-a-view-versus-a-copy\n",
      "  toCSV[\"invoice_version\"] = toCSV[\"invoice_version\"].astype(int)\n",
      "C:\\Users\\cw\\AppData\\Local\\Temp\\ipykernel_6312\\1311169751.py:19: SettingWithCopyWarning: \n",
      "A value is trying to be set on a copy of a slice from a DataFrame.\n",
      "Try using .loc[row_indexer,col_indexer] = value instead\n",
      "\n",
      "See the caveats in the documentation: https://pandas.pydata.org/pandas-docs/stable/user_guide/indexing.html#returning-a-view-versus-a-copy\n",
      "  toCSV[\"article_code\"] = toCSV[\"article_code\"].astype(int)\n"
     ]
    }
   ],
   "source": [
    "toCSV = df[\n",
    "    [\n",
    "        \"article_code\",\n",
    "        \"item_description\",\n",
    "        \"uom\",\n",
    "        \"dispatched_qty\",\n",
    "        \"rate\",\n",
    "        \"date\",\n",
    "        \"location_code\",\n",
    "        \"invoice_version\",\n",
    "    ]\n",
    "]\n",
    "\n",
    "toCSV[\"date\"] = toCSV[\"date\"].apply(\n",
    "    lambda row: datetime.strptime(row, \"%m-%d-%Y\").strftime(\"%d-%m-%Y\")\n",
    ")\n",
    "toCSV[\"rate\"] = toCSV[\"rate\"].astype(int)\n",
    "toCSV[\"invoice_version\"] = toCSV[\"invoice_version\"].astype(int)\n",
    "toCSV[\"article_code\"] = toCSV[\"article_code\"].astype(int)\n",
    "\n",
    "\n",
    "# toCSV[\"dispatched_qty\"] =\n",
    "def _try(num):\n",
    "    try:\n",
    "        int(num)\n",
    "        return False\n",
    "    except ValueError:\n",
    "        return True\n",
    "\n",
    "\n",
    "a = toCSV[\"dispatched_qty\"].apply(_try)"
   ]
  },
  {
   "cell_type": "code",
   "execution_count": 8,
   "id": "6bea05e4",
   "metadata": {},
   "outputs": [
    {
     "data": {
      "application/vnd.microsoft.datawrangler.viewer.v0+json": {
       "columns": [
        {
         "name": "index",
         "rawType": "int64",
         "type": "integer"
        },
        {
         "name": "article_code",
         "rawType": "int64",
         "type": "integer"
        },
        {
         "name": "item_description",
         "rawType": "object",
         "type": "string"
        },
        {
         "name": "uom",
         "rawType": "object",
         "type": "string"
        },
        {
         "name": "dispatched_qty",
         "rawType": "int64",
         "type": "integer"
        },
        {
         "name": "rate",
         "rawType": "int64",
         "type": "integer"
        },
        {
         "name": "date",
         "rawType": "object",
         "type": "string"
        },
        {
         "name": "location_code",
         "rawType": "object",
         "type": "string"
        },
        {
         "name": "invoice_version",
         "rawType": "int64",
         "type": "integer"
        }
       ],
       "ref": "2a729b7a-ff62-4473-8e0c-3c5d74ea24ef",
       "rows": [],
       "shape": {
        "columns": 8,
        "rows": 0
       }
      },
      "text/html": [
       "<div>\n",
       "<style scoped>\n",
       "    .dataframe tbody tr th:only-of-type {\n",
       "        vertical-align: middle;\n",
       "    }\n",
       "\n",
       "    .dataframe tbody tr th {\n",
       "        vertical-align: top;\n",
       "    }\n",
       "\n",
       "    .dataframe thead th {\n",
       "        text-align: right;\n",
       "    }\n",
       "</style>\n",
       "<table border=\"1\" class=\"dataframe\">\n",
       "  <thead>\n",
       "    <tr style=\"text-align: right;\">\n",
       "      <th></th>\n",
       "      <th>article_code</th>\n",
       "      <th>item_description</th>\n",
       "      <th>uom</th>\n",
       "      <th>dispatched_qty</th>\n",
       "      <th>rate</th>\n",
       "      <th>date</th>\n",
       "      <th>location_code</th>\n",
       "      <th>invoice_version</th>\n",
       "    </tr>\n",
       "  </thead>\n",
       "  <tbody>\n",
       "  </tbody>\n",
       "</table>\n",
       "</div>"
      ],
      "text/plain": [
       "Empty DataFrame\n",
       "Columns: [article_code, item_description, uom, dispatched_qty, rate, date, location_code, invoice_version]\n",
       "Index: []"
      ]
     },
     "execution_count": 8,
     "metadata": {},
     "output_type": "execute_result"
    }
   ],
   "source": [
    "toCSV[a]"
   ]
  },
  {
   "cell_type": "code",
   "execution_count": 9,
   "id": "9b5f83d1",
   "metadata": {},
   "outputs": [],
   "source": [
    "toCSV.to_csv(f\"{CLEANED_FOLDER_PATH}/For Database.csv\", index=False)"
   ]
  },
  {
   "cell_type": "code",
   "execution_count": 10,
   "id": "874586c1",
   "metadata": {},
   "outputs": [],
   "source": [
    "# \\copy invoice_records(\n",
    "#     article_code,\n",
    "#     item_description,\n",
    "#     uom,\n",
    "#     dispatched_qty,\n",
    "#     rate,\n",
    "#     date,\n",
    "#     location_code,\n",
    "#     invoice_version\n",
    "# )\n",
    "# FROM 'D:\\Programming\\Project\\Upgrade Mandi\\upgrade_mandi\\data\\cleaned\\swiggy\\For Database.csv'\n",
    "# DELIMITER ','\n",
    "# CSV HEADER;"
   ]
  }
 ],
 "metadata": {
  "kernelspec": {
   "display_name": "Python 3",
   "language": "python",
   "name": "python3"
  },
  "language_info": {
   "codemirror_mode": {
    "name": "ipython",
    "version": 3
   },
   "file_extension": ".py",
   "mimetype": "text/x-python",
   "name": "python",
   "nbconvert_exporter": "python",
   "pygments_lexer": "ipython3",
   "version": "3.11.0"
  }
 },
 "nbformat": 4,
 "nbformat_minor": 5
}
