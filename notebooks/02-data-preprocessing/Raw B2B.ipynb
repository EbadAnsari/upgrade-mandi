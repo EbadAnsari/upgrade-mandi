{
 "cells": [
  {
   "cell_type": "code",
   "execution_count": 1,
   "id": "ed021638",
   "metadata": {},
   "outputs": [],
   "source": [
    "import pandas as pd\n",
    "\n",
    "import numpy as np\n",
    "\n",
    "from utils.utils import nameExtracter"
   ]
  },
  {
   "cell_type": "code",
   "execution_count": 2,
   "id": "658c2eb1",
   "metadata": {},
   "outputs": [],
   "source": [
    "df = pd.read_excel(\"./../data/raw/B2B/Raw-Database.xlsx\", sheet_name=\"Sheet1\")\n",
    "\n",
    "df.columns = [i.strip() for i in df.columns]"
   ]
  },
  {
   "cell_type": "code",
   "execution_count": 3,
   "id": "e667252f",
   "metadata": {},
   "outputs": [],
   "source": [
    "df = df.dropna(how=\"all\").drop(labels=[\"SR NO\"], axis=1)"
   ]
  },
  {
   "cell_type": "code",
   "execution_count": 4,
   "id": "22577ae0",
   "metadata": {},
   "outputs": [],
   "source": [
    "def formatDate(row: pd.Series) -> pd.Timestamp | float:\n",
    "    try:\n",
    "        return pd.to_datetime(row[\"DATE\"])\n",
    "    except:\n",
    "        return np.nan\n",
    "\n",
    "\n",
    "df[\"DATE\"] = df.apply(formatDate, axis=1).ffill()"
   ]
  },
  {
   "cell_type": "code",
   "execution_count": 5,
   "id": "f1d9bd2d",
   "metadata": {},
   "outputs": [],
   "source": [
    "df[[\"NAME\", \"ADDRESS\"]] = df[[\"NAME\", \"ADDRESS\"]].ffill()"
   ]
  },
  {
   "cell_type": "code",
   "execution_count": 6,
   "id": "56b436f2",
   "metadata": {},
   "outputs": [
    {
     "data": {
      "text/plain": [
       "Index(['DATE', 'NAME', 'ADDRESS', 'ITEM NAME', 'QTY', 'RATE', 'TOTAL PAYMENT',\n",
       "       'TOTAL AMOUNT', 'PAYMENT RECEIVING DATE'],\n",
       "      dtype='object')"
      ]
     },
     "execution_count": 6,
     "metadata": {},
     "output_type": "execute_result"
    }
   ],
   "source": [
    "df.columns"
   ]
  },
  {
   "cell_type": "code",
   "execution_count": 7,
   "id": "e5a61bc5",
   "metadata": {},
   "outputs": [],
   "source": [
    "lst = [\n",
    "    \"Red Onion Premium Wholesale\",\n",
    "    \"Red Onion Premium Retail\",\n",
    "    \"White onion Wholesale\",\n",
    "    \"White onion Retail\",\n",
    "    \"Agra potato Premium Wholesale\",\n",
    "    \"Agra Potato Premium Retail\",\n",
    "    \"Agra Potato Retail Big\",\n",
    "    \"G4 potato Wholesale\",\n",
    "    \"G4 Potato Retail\",\n",
    "    \"Ginger Banglore\",\n",
    "    \"Garlic Regular\",\n",
    "    \"Garlic Bolder\",\n",
    "    \"Onion B\",\n",
    "    \"Potato B\",\n",
    "    \"Ginger B\",\n",
    "    \"White Onion B\",\n",
    "    \"Potato Small\",\n",
    "]"
   ]
  },
  {
   "cell_type": "code",
   "execution_count": 8,
   "id": "5dbf71df",
   "metadata": {},
   "outputs": [],
   "source": [
    "df = df.dropna(\n",
    "    subset=[\n",
    "        \"ITEM NAME\",\n",
    "        \"PAYMENT RECEIVING DATE\",\n",
    "    ],\n",
    "    how=\"all\",\n",
    ")\n",
    "\n",
    "# df[\"ITEM NAME 1\"] = df[\"ITEM NAME\"].apply(\n",
    "#     lambda x: nameExtracter(lst, x) if str(x) != \"nan\" else np.nan\n",
    "# )"
   ]
  },
  {
   "cell_type": "code",
   "execution_count": 9,
   "id": "7f28fc48",
   "metadata": {},
   "outputs": [],
   "source": [
    "df.to_excel(\"./../data/processed/B2B/Transaction List.xlsx\", index=False)"
   ]
  }
 ],
 "metadata": {
  "kernelspec": {
   "display_name": "Python 3",
   "language": "python",
   "name": "python3"
  },
  "language_info": {
   "codemirror_mode": {
    "name": "ipython",
    "version": 3
   },
   "file_extension": ".py",
   "mimetype": "text/x-python",
   "name": "python",
   "nbconvert_exporter": "python",
   "pygments_lexer": "ipython3",
   "version": "3.11.0"
  }
 },
 "nbformat": 4,
 "nbformat_minor": 5
}
