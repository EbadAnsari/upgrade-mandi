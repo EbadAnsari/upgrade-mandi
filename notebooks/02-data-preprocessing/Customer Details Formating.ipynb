{
 "cells": [
  {
   "cell_type": "code",
   "execution_count": null,
   "id": "42deea5f",
   "metadata": {},
   "outputs": [],
   "source": [
    "import pandas as pd"
   ]
  },
  {
   "cell_type": "code",
   "execution_count": null,
   "id": "150bb8b3",
   "metadata": {},
   "outputs": [],
   "source": [
    "df = pd.read_csv(\"../data/raw/B2B/Customer Details.csv\")"
   ]
  },
  {
   "cell_type": "code",
   "execution_count": 43,
   "id": "bf0a26bb",
   "metadata": {},
   "outputs": [],
   "source": [
    "newDf = df[[\"Customers Name\", \"Mobile No\"]].copy()\n",
    "newDf[\"Vendor Code\"] = newDf[\"Customers Name\"].apply(\n",
    "    lambda x: \"\".join(x.split(\"-\")[-1]).strip()\n",
    ")\n",
    "newDf[\"Mobile No\"] = newDf[\"Mobile No\"].apply(lambda x: str(x).replace(\" \", \"\"))\n",
    "\n",
    "newDf[\"Customers Name\"] = newDf[\"Customers Name\"].apply(\n",
    "    lambda x: \"\".join(x.split(\"-\")[0:-1]).strip().title()\n",
    ")\n",
    "\n",
    "newDf[\"Mobile No\"] = newDf[\"Mobile No\"].apply(\n",
    "    lambda x: (str(x)[2:] if len(str(x)) == 12 and str(x).startswith(\"91\") else str(x))\n",
    ")"
   ]
  },
  {
   "cell_type": "code",
   "execution_count": 45,
   "id": "d1f2034a",
   "metadata": {},
   "outputs": [
    {
     "data": {
      "application/vnd.microsoft.datawrangler.viewer.v0+json": {
       "columns": [
        {
         "name": "index",
         "rawType": "int64",
         "type": "integer"
        },
        {
         "name": "Customers Name",
         "rawType": "object",
         "type": "string"
        },
        {
         "name": "Mobile No",
         "rawType": "object",
         "type": "string"
        },
        {
         "name": "Vendor Code",
         "rawType": "object",
         "type": "string"
        }
       ],
       "ref": "e8fb27db-e3bd-49c3-9deb-3b33a5d5c4e1",
       "rows": [
        [
         "3",
         "Kavita Rudraksha",
         "878898787",
         "NGP1172"
        ],
        [
         "117",
         "Gaurav Bhusari",
         "86258246",
         "NGP0570"
        ],
        [
         "283",
         "Avinash Mankar",
         "800766767",
         "NGP0552"
        ],
        [
         "300",
         "Mrutujay Shahu",
         "91638867481",
         "NGP0851"
        ],
        [
         "357",
         "Vilas Deshmukh",
         "nan",
         "NGP0892"
        ],
        [
         "358",
         "Virendra Sahoo",
         "nan",
         "NGP0487"
        ]
       ],
       "shape": {
        "columns": 3,
        "rows": 6
       }
      },
      "text/html": [
       "<div>\n",
       "<style scoped>\n",
       "    .dataframe tbody tr th:only-of-type {\n",
       "        vertical-align: middle;\n",
       "    }\n",
       "\n",
       "    .dataframe tbody tr th {\n",
       "        vertical-align: top;\n",
       "    }\n",
       "\n",
       "    .dataframe thead th {\n",
       "        text-align: right;\n",
       "    }\n",
       "</style>\n",
       "<table border=\"1\" class=\"dataframe\">\n",
       "  <thead>\n",
       "    <tr style=\"text-align: right;\">\n",
       "      <th></th>\n",
       "      <th>Customers Name</th>\n",
       "      <th>Mobile No</th>\n",
       "      <th>Vendor Code</th>\n",
       "    </tr>\n",
       "  </thead>\n",
       "  <tbody>\n",
       "    <tr>\n",
       "      <th>3</th>\n",
       "      <td>Kavita Rudraksha</td>\n",
       "      <td>878898787</td>\n",
       "      <td>NGP1172</td>\n",
       "    </tr>\n",
       "    <tr>\n",
       "      <th>117</th>\n",
       "      <td>Gaurav Bhusari</td>\n",
       "      <td>86258246</td>\n",
       "      <td>NGP0570</td>\n",
       "    </tr>\n",
       "    <tr>\n",
       "      <th>283</th>\n",
       "      <td>Avinash Mankar</td>\n",
       "      <td>800766767</td>\n",
       "      <td>NGP0552</td>\n",
       "    </tr>\n",
       "    <tr>\n",
       "      <th>300</th>\n",
       "      <td>Mrutujay Shahu</td>\n",
       "      <td>91638867481</td>\n",
       "      <td>NGP0851</td>\n",
       "    </tr>\n",
       "    <tr>\n",
       "      <th>357</th>\n",
       "      <td>Vilas Deshmukh</td>\n",
       "      <td>nan</td>\n",
       "      <td>NGP0892</td>\n",
       "    </tr>\n",
       "    <tr>\n",
       "      <th>358</th>\n",
       "      <td>Virendra Sahoo</td>\n",
       "      <td>nan</td>\n",
       "      <td>NGP0487</td>\n",
       "    </tr>\n",
       "  </tbody>\n",
       "</table>\n",
       "</div>"
      ],
      "text/plain": [
       "       Customers Name    Mobile No Vendor Code\n",
       "3    Kavita Rudraksha    878898787     NGP1172\n",
       "117    Gaurav Bhusari     86258246     NGP0570\n",
       "283    Avinash Mankar    800766767     NGP0552\n",
       "300    Mrutujay Shahu  91638867481     NGP0851\n",
       "357    Vilas Deshmukh          nan     NGP0892\n",
       "358    Virendra Sahoo          nan     NGP0487"
      ]
     },
     "execution_count": 45,
     "metadata": {},
     "output_type": "execute_result"
    }
   ],
   "source": [
    "newDf[newDf[\"Mobile No\"].apply(lambda x: len(str(x)) != 10)]"
   ]
  },
  {
   "cell_type": "code",
   "execution_count": 47,
   "id": "08f18a5f",
   "metadata": {},
   "outputs": [],
   "source": [
    "newDf.to_csv(\"../data/processed/B2B/Customer Details.csv\", index=False)"
   ]
  }
 ],
 "metadata": {
  "kernelspec": {
   "display_name": "Python 3",
   "language": "python",
   "name": "python3"
  },
  "language_info": {
   "codemirror_mode": {
    "name": "ipython",
    "version": 3
   },
   "file_extension": ".py",
   "mimetype": "text/x-python",
   "name": "python",
   "nbconvert_exporter": "python",
   "pygments_lexer": "ipython3",
   "version": "3.11.0"
  }
 },
 "nbformat": 4,
 "nbformat_minor": 5
}
