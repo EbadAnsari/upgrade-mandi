{
 "cells": [
  {
   "cell_type": "code",
   "execution_count": 1,
   "id": "075d8321",
   "metadata": {},
   "outputs": [],
   "source": [
    "import pandas as pd\n",
    "from datetime import datetime\n",
    "import numpy as np\n",
    "\n",
    "from utils.config import domainConfigClass"
   ]
  },
  {
   "cell_type": "code",
   "execution_count": 2,
   "id": "03a08499",
   "metadata": {},
   "outputs": [],
   "source": [
    "def generateInvoiceId(date: datetime, code: str, invoiceVersion: int):\n",
    "    return f'{date.strftime(\"%d%m%Y\")}U{code}{invoiceVersion}'"
   ]
  },
  {
   "cell_type": "code",
   "execution_count": 3,
   "id": "d92a2849",
   "metadata": {},
   "outputs": [],
   "source": [
    "grn = pd.read_csv(\"GRN.csv\")\n",
    "pr = pd.read_csv(\"PR.csv\")\n",
    "grn.drop(columns=[\"Unnamed: 0\"], inplace=True)\n",
    "pr.drop(columns=[\"Unnamed: 0\"], inplace=True)\n",
    "\n",
    "grn[\"Pre Invoice Number\"] = grn[\"Invoice Number\"]\n",
    "pr[\"Pre Invoice Number\"] = pr[\"Invoice Number\"]"
   ]
  },
  {
   "cell_type": "code",
   "execution_count": 4,
   "id": "804ade1e",
   "metadata": {},
   "outputs": [],
   "source": [
    "swiggyDataset = pd.read_csv(\"./../../upgrade_mandi/data/cleaned/swiggy/Swiggy.csv\")"
   ]
  },
  {
   "cell_type": "code",
   "execution_count": 5,
   "id": "2059706e",
   "metadata": {},
   "outputs": [],
   "source": [
    "domain = \"Swiggy\"\n",
    "# locationCodeConfig = {\n",
    "#     \"Ayodhya Nagar\": \"AN\",\n",
    "#     \"Byramji\": \"B\",\n",
    "#     \"Dharampeth\": \"DH\",\n",
    "#     \"Mahal\": \"MH\",\n",
    "#     \"Manish Nagar\": \"MN\",\n",
    "#     \"Nandanvan\": \"NA\",\n",
    "#     \"Sai Mandir\": \"S\",\n",
    "#     \"Amravati\": \"AMD\",\n",
    "# }\n",
    "\n",
    "locationCodeConfig = {\n",
    "    location.locationName: location for location in domainConfigClass[domain].locations\n",
    "}\n",
    "\n",
    "locationByStoreId = {\n",
    "    location.storeId: location.locationName\n",
    "    for location in domainConfigClass[domain].locations\n",
    "}"
   ]
  },
  {
   "cell_type": "code",
   "execution_count": 6,
   "id": "b5363794",
   "metadata": {},
   "outputs": [],
   "source": [
    "def func(row):\n",
    "    invNo = 1\n",
    "    try:\n",
    "        invNo = int(row[\"Invoice Number\"][-1])\n",
    "    except:\n",
    "        invNo = 1\n",
    "    if invNo < 1:\n",
    "        invNo = 1\n",
    "    return (\n",
    "        datetime.strptime(row[\"Invoice Date\"], \"%d/%m/%y\").strftime(\"%d%m%Y\")\n",
    "        + \"U\"\n",
    "        + locationCodeConfig[locationByStoreId[str(row[\"Store ID\"]).strip()]].code\n",
    "        + str(invNo)\n",
    "    )\n",
    "\n",
    "\n",
    "grn[\"Invoice No\"] = grn.apply(\n",
    "    func,\n",
    "    axis=1,\n",
    ")\n",
    "\n",
    "pr[\"Invoice No\"] = pr.apply(func, axis=1)\n",
    "\n",
    "pr.index = pr[\"Invoice No\"]"
   ]
  },
  {
   "cell_type": "code",
   "execution_count": 7,
   "id": "d32738e9",
   "metadata": {},
   "outputs": [],
   "source": [
    "grn[\"Location\"] = grn.apply(lambda x: locationByStoreId[str(x[\"Store ID\"])], axis=1)\n",
    "pr[\"Location\"] = pr.apply(lambda x: locationByStoreId[str(x[\"Store ID\"])], axis=1)"
   ]
  },
  {
   "cell_type": "code",
   "execution_count": 8,
   "id": "58c6ba23",
   "metadata": {},
   "outputs": [],
   "source": [
    "# grnPrMerged = grn[\n",
    "#     [\n",
    "#         \"Invoice Date\",\n",
    "#         \"Entity Name\",\n",
    "#         \"Invoice No\",\n",
    "#         # \"PO Number\",\n",
    "#         \"Location\",\n",
    "#         \"GRN Amount\",\n",
    "#     ]\n",
    "# ].copy()\n",
    "grn[\"PR\"] = grn[\"Invoice No\"].apply(lambda invNo: pr.loc[invNo][\"Amount\"]).copy()\n",
    "grn[\"Invoice Date\"] = grn[\"Invoice Date\"].apply(\n",
    "    lambda date: datetime.strptime(date, \"%d/%m/%y\").strftime(\"%d-%m-%Y\")\n",
    ")"
   ]
  },
  {
   "cell_type": "code",
   "execution_count": 9,
   "id": "c0179996",
   "metadata": {},
   "outputs": [],
   "source": [
    "grn = grn[grn[\"PR\"].apply(lambda _pr: type(_pr) != pd.Series)]"
   ]
  },
  {
   "cell_type": "code",
   "execution_count": 10,
   "id": "47f07296",
   "metadata": {},
   "outputs": [],
   "source": [
    "grn[\"PR\"] = grn[\"PR\"].astype(float).copy()"
   ]
  },
  {
   "cell_type": "code",
   "execution_count": 11,
   "id": "82f7faaa",
   "metadata": {},
   "outputs": [],
   "source": [
    "grn[\"PO Amount\"] = np.nan\n",
    "\n",
    "grnPrProperColumns = grn[\n",
    "    [\n",
    "        \"Invoice Date\",\n",
    "        \"Invoice No\",\n",
    "        # \"PO Number\",\n",
    "        \"Location\",\n",
    "        \"PO Amount\",\n",
    "        \"GRN Amount\",\n",
    "        \"PR\",\n",
    "    ]\n",
    "]"
   ]
  },
  {
   "cell_type": "code",
   "execution_count": 12,
   "id": "a4e8961c",
   "metadata": {},
   "outputs": [],
   "source": [
    "swiggyDataset[\"Invoice No\"] = swiggyDataset.apply(\n",
    "    lambda row: f'{datetime.strptime(row[\"Date\"], \"%m-%d-%Y\").strftime(\"%d%m%Y\")}U{locationCodeConfig[row[\"Location\"]].code}{int(row[\"Invoice Version\"])}',\n",
    "    axis=1,\n",
    ")\n",
    "swiggyDataset[\"Invoice Date\"] = swiggyDataset[\"Date\"].apply(\n",
    "    lambda date: datetime.strptime(date, \"%m-%d-%Y\").strftime(\"%d-%m-%Y\"),\n",
    ")"
   ]
  },
  {
   "cell_type": "code",
   "execution_count": 13,
   "id": "6d92d15d",
   "metadata": {},
   "outputs": [],
   "source": [
    "totalAmountDF = swiggyDataset.groupby(\"Invoice No\")[\"Total Amount\"].sum()\n",
    "groupByDate = swiggyDataset.groupby(\"Invoice No\")"
   ]
  },
  {
   "cell_type": "code",
   "execution_count": 14,
   "id": "4c48363c",
   "metadata": {},
   "outputs": [],
   "source": [
    "# finalDataFrame[\"Total Amount\"] = (\n",
    "#     finalDataFrame[\"Invoice No\"]\n",
    "#     .apply(\n",
    "#         lambda invNo: (\n",
    "#             totalAmountDF[invNo] if invNo in totalAmountDF.index else \"Missing\"\n",
    "#         )\n",
    "#     )\n",
    "#     .copy()\n",
    "# )"
   ]
  },
  {
   "cell_type": "code",
   "execution_count": 15,
   "id": "99458473",
   "metadata": {},
   "outputs": [],
   "source": [
    "dat = \"11-04-2025\"\n",
    "# defaultDF = pd.DataFrame(\n",
    "#     {\n",
    "#         \"Invoice No\": [ for locationCode list(locationCodeConfig.values())],\n",
    "# \t}\n",
    "# )\n",
    "# grnPrOfLocation = finalDataFrame[finalDataFrame[\"Invoice Date\"] == dat].sort_values(\n",
    "#     \"Location\"\n",
    "# )\n",
    "\n",
    "# tA = groupByDate[\"Total Amount\"].sum(numeric_only=True).reset_index()\n",
    "# dateDf = groupByDate[\"Invoice Date\"].unique().apply(lambda date: date[0]).reset_index()\n",
    "# poNoDf = groupByDate[\"PO No\"].unique().apply(lambda poNo: poNo[0]).reset_index()\n",
    "# locatioDf = groupByDate[\"Location\"].unique().apply(lambda loc: loc[0]).reset_index()\n",
    "\n",
    "# locatioDf.apply(lambda x: len(x) - 1).all()\n",
    "\n",
    "# df = pd.DataFrame({\"Invoice No\": []})\n",
    "# df = df.merge(locatioDf, how=\"right\", left_on=\"Invoice No\", right_on=\"Invoice No\")\n",
    "# df = df.merge(dateDf, how=\"right\", left_on=\"Invoice No\", right_on=\"Invoice No\")\n",
    "# df = df.merge(poNoDf, how=\"right\", left_on=\"Invoice No\", right_on=\"Invoice No\")\n",
    "# df = df.merge(tA, how=\"right\", left_on=\"Invoice No\", right_on=\"Invoice No\")\n",
    "# df[\"Entity Name\"] = df[\"Location\"].apply(lambda location: retailerConfig[location])\n",
    "# df[df[\"Invoice Date\"] == dat].sort_values(\"Location\")\n",
    "# df[\"GRN\"] = np.nan\n",
    "# df[\"PR\"] = np.nan\n",
    "\n",
    "# grnPrOfLocation.merge(\n",
    "#     df[df[\"Invoice Date\"] == dat], how=\"right\", left_on=\"Invoice No\", right_on=\"Invoice No\"\n",
    "# )\n",
    "\n",
    "\n",
    "def listToScaler(row: pd.Series):\n",
    "    for key in row.keys():\n",
    "        if type(row[key]) == np.ndarray:\n",
    "            row[key] = row[key][0]\n",
    "    return row\n",
    "\n",
    "\n",
    "grnPrnByInvoice = (\n",
    "    swiggyDataset.groupby(\"Invoice No\")\n",
    "    .agg(\n",
    "        {\n",
    "            \"Total Amount\": \"sum\",\n",
    "            \"Invoice Date\": \"unique\",\n",
    "            \"Location\": \"unique\",\n",
    "            \"PO No\": \"unique\",\n",
    "        }\n",
    "    )\n",
    "    .reset_index()\n",
    "    .apply(listToScaler, axis=1)\n",
    ")\n",
    "\n",
    "grnPrnByInvoice[\"GRN\"] = np.nan\n",
    "grnPrnByInvoice[\"PR\"] = np.nan\n",
    "\n",
    "grnPrnByInvoice = grnPrnByInvoice[\n",
    "    [\n",
    "        \"Invoice Date\",\n",
    "        \"Invoice No\",\n",
    "        # \"PO No\",\n",
    "        \"Location\",\n",
    "        \"Total Amount\",\n",
    "        \"GRN\",\n",
    "        \"PR\",\n",
    "    ]\n",
    "]\n",
    "\n",
    "grnPrnByInvoice.columns = grnPrProperColumns.columns = [\n",
    "    \"Invoice Date\",\n",
    "    \"Invoice No\",\n",
    "    # \"PO Number\",\n",
    "    \"Location\",\n",
    "    \"PO Amount\",\n",
    "    \"GRN\",\n",
    "    \"PR\",\n",
    "]"
   ]
  },
  {
   "cell_type": "code",
   "execution_count": 16,
   "id": "307cb98e",
   "metadata": {},
   "outputs": [
    {
     "data": {
      "application/vnd.microsoft.datawrangler.viewer.v0+json": {
       "columns": [
        {
         "name": "index",
         "rawType": "int64",
         "type": "integer"
        },
        {
         "name": "Invoice Date",
         "rawType": "object",
         "type": "string"
        },
        {
         "name": "Invoice No",
         "rawType": "object",
         "type": "string"
        },
        {
         "name": "Location",
         "rawType": "object",
         "type": "string"
        },
        {
         "name": "PO Amount",
         "rawType": "float64",
         "type": "float"
        },
        {
         "name": "GRN",
         "rawType": "float64",
         "type": "float"
        },
        {
         "name": "PR",
         "rawType": "float64",
         "type": "float"
        }
       ],
       "ref": "708f6e07-8986-4586-8864-b6f94a1a0bd5",
       "rows": [
        [
         "398",
         "11-04-2025",
         "11042025UAN1",
         "Ayodhya Nagar",
         null,
         "7462.0",
         "448.0"
        ],
        [
         "399",
         "11-04-2025",
         "11042025UMN1",
         "Manish Nagar",
         null,
         "5705.0",
         "1027.0"
        ],
        [
         "400",
         "11-04-2025",
         "11042025UMH1",
         "Mahal",
         null,
         "4144.0",
         "61.0"
        ],
        [
         "401",
         "11-04-2025",
         "11042025UB1",
         "Byramji",
         null,
         "65893.0",
         "1882.0"
        ],
        [
         "402",
         "11-04-2025",
         "11042025UDH1",
         "Dharampeth",
         null,
         "9055.0",
         "574.0"
        ],
        [
         "403",
         "11-04-2025",
         "11042025US1",
         "Sai Mandir",
         null,
         "5408.0",
         "666.0"
        ]
       ],
       "shape": {
        "columns": 6,
        "rows": 6
       }
      },
      "text/html": [
       "<div>\n",
       "<style scoped>\n",
       "    .dataframe tbody tr th:only-of-type {\n",
       "        vertical-align: middle;\n",
       "    }\n",
       "\n",
       "    .dataframe tbody tr th {\n",
       "        vertical-align: top;\n",
       "    }\n",
       "\n",
       "    .dataframe thead th {\n",
       "        text-align: right;\n",
       "    }\n",
       "</style>\n",
       "<table border=\"1\" class=\"dataframe\">\n",
       "  <thead>\n",
       "    <tr style=\"text-align: right;\">\n",
       "      <th></th>\n",
       "      <th>Invoice Date</th>\n",
       "      <th>Invoice No</th>\n",
       "      <th>Location</th>\n",
       "      <th>PO Amount</th>\n",
       "      <th>GRN</th>\n",
       "      <th>PR</th>\n",
       "    </tr>\n",
       "  </thead>\n",
       "  <tbody>\n",
       "    <tr>\n",
       "      <th>398</th>\n",
       "      <td>11-04-2025</td>\n",
       "      <td>11042025UAN1</td>\n",
       "      <td>Ayodhya Nagar</td>\n",
       "      <td>NaN</td>\n",
       "      <td>7462.0</td>\n",
       "      <td>448.0</td>\n",
       "    </tr>\n",
       "    <tr>\n",
       "      <th>399</th>\n",
       "      <td>11-04-2025</td>\n",
       "      <td>11042025UMN1</td>\n",
       "      <td>Manish Nagar</td>\n",
       "      <td>NaN</td>\n",
       "      <td>5705.0</td>\n",
       "      <td>1027.0</td>\n",
       "    </tr>\n",
       "    <tr>\n",
       "      <th>400</th>\n",
       "      <td>11-04-2025</td>\n",
       "      <td>11042025UMH1</td>\n",
       "      <td>Mahal</td>\n",
       "      <td>NaN</td>\n",
       "      <td>4144.0</td>\n",
       "      <td>61.0</td>\n",
       "    </tr>\n",
       "    <tr>\n",
       "      <th>401</th>\n",
       "      <td>11-04-2025</td>\n",
       "      <td>11042025UB1</td>\n",
       "      <td>Byramji</td>\n",
       "      <td>NaN</td>\n",
       "      <td>65893.0</td>\n",
       "      <td>1882.0</td>\n",
       "    </tr>\n",
       "    <tr>\n",
       "      <th>402</th>\n",
       "      <td>11-04-2025</td>\n",
       "      <td>11042025UDH1</td>\n",
       "      <td>Dharampeth</td>\n",
       "      <td>NaN</td>\n",
       "      <td>9055.0</td>\n",
       "      <td>574.0</td>\n",
       "    </tr>\n",
       "    <tr>\n",
       "      <th>403</th>\n",
       "      <td>11-04-2025</td>\n",
       "      <td>11042025US1</td>\n",
       "      <td>Sai Mandir</td>\n",
       "      <td>NaN</td>\n",
       "      <td>5408.0</td>\n",
       "      <td>666.0</td>\n",
       "    </tr>\n",
       "  </tbody>\n",
       "</table>\n",
       "</div>"
      ],
      "text/plain": [
       "    Invoice Date    Invoice No       Location  PO Amount      GRN      PR\n",
       "398   11-04-2025  11042025UAN1  Ayodhya Nagar        NaN   7462.0   448.0\n",
       "399   11-04-2025  11042025UMN1   Manish Nagar        NaN   5705.0  1027.0\n",
       "400   11-04-2025  11042025UMH1          Mahal        NaN   4144.0    61.0\n",
       "401   11-04-2025   11042025UB1        Byramji        NaN  65893.0  1882.0\n",
       "402   11-04-2025  11042025UDH1     Dharampeth        NaN   9055.0   574.0\n",
       "403   11-04-2025   11042025US1     Sai Mandir        NaN   5408.0   666.0"
      ]
     },
     "execution_count": 16,
     "metadata": {},
     "output_type": "execute_result"
    }
   ],
   "source": [
    "grnPrProperColumns[grnPrProperColumns[\"Invoice Date\"] == dat]"
   ]
  },
  {
   "cell_type": "code",
   "execution_count": 17,
   "id": "b27a64b0",
   "metadata": {},
   "outputs": [
    {
     "data": {
      "application/vnd.microsoft.datawrangler.viewer.v0+json": {
       "columns": [
        {
         "name": "index",
         "rawType": "int64",
         "type": "integer"
        },
        {
         "name": "Invoice Date",
         "rawType": "object",
         "type": "string"
        },
        {
         "name": "Invoice No",
         "rawType": "object",
         "type": "string"
        },
        {
         "name": "Location",
         "rawType": "object",
         "type": "string"
        },
        {
         "name": "PO Amount",
         "rawType": "int64",
         "type": "integer"
        },
        {
         "name": "GRN",
         "rawType": "float64",
         "type": "float"
        },
        {
         "name": "PR",
         "rawType": "float64",
         "type": "float"
        }
       ],
       "ref": "2906c325-22da-4094-9fe9-d66bd7fdf636",
       "rows": [
        [
         "440",
         "11-04-2025",
         "11042025UAN1",
         "Ayodhya Nagar",
         "7910",
         null,
         null
        ],
        [
         "441",
         "11-04-2025",
         "11042025UB1",
         "Byramji",
         "67775",
         null,
         null
        ],
        [
         "442",
         "11-04-2025",
         "11042025UDH1",
         "Dharampeth",
         "9629",
         null,
         null
        ],
        [
         "443",
         "11-04-2025",
         "11042025UMH1",
         "Mahal",
         "4205",
         null,
         null
        ],
        [
         "444",
         "11-04-2025",
         "11042025UMN1",
         "Manish Nagar",
         "6732",
         null,
         null
        ],
        [
         "445",
         "11-04-2025",
         "11042025UNA1",
         "Nandanvan",
         "6338",
         null,
         null
        ],
        [
         "446",
         "11-04-2025",
         "11042025US1",
         "Sai Mandir",
         "6074",
         null,
         null
        ]
       ],
       "shape": {
        "columns": 6,
        "rows": 7
       }
      },
      "text/html": [
       "<div>\n",
       "<style scoped>\n",
       "    .dataframe tbody tr th:only-of-type {\n",
       "        vertical-align: middle;\n",
       "    }\n",
       "\n",
       "    .dataframe tbody tr th {\n",
       "        vertical-align: top;\n",
       "    }\n",
       "\n",
       "    .dataframe thead th {\n",
       "        text-align: right;\n",
       "    }\n",
       "</style>\n",
       "<table border=\"1\" class=\"dataframe\">\n",
       "  <thead>\n",
       "    <tr style=\"text-align: right;\">\n",
       "      <th></th>\n",
       "      <th>Invoice Date</th>\n",
       "      <th>Invoice No</th>\n",
       "      <th>Location</th>\n",
       "      <th>PO Amount</th>\n",
       "      <th>GRN</th>\n",
       "      <th>PR</th>\n",
       "    </tr>\n",
       "  </thead>\n",
       "  <tbody>\n",
       "    <tr>\n",
       "      <th>440</th>\n",
       "      <td>11-04-2025</td>\n",
       "      <td>11042025UAN1</td>\n",
       "      <td>Ayodhya Nagar</td>\n",
       "      <td>7910</td>\n",
       "      <td>NaN</td>\n",
       "      <td>NaN</td>\n",
       "    </tr>\n",
       "    <tr>\n",
       "      <th>441</th>\n",
       "      <td>11-04-2025</td>\n",
       "      <td>11042025UB1</td>\n",
       "      <td>Byramji</td>\n",
       "      <td>67775</td>\n",
       "      <td>NaN</td>\n",
       "      <td>NaN</td>\n",
       "    </tr>\n",
       "    <tr>\n",
       "      <th>442</th>\n",
       "      <td>11-04-2025</td>\n",
       "      <td>11042025UDH1</td>\n",
       "      <td>Dharampeth</td>\n",
       "      <td>9629</td>\n",
       "      <td>NaN</td>\n",
       "      <td>NaN</td>\n",
       "    </tr>\n",
       "    <tr>\n",
       "      <th>443</th>\n",
       "      <td>11-04-2025</td>\n",
       "      <td>11042025UMH1</td>\n",
       "      <td>Mahal</td>\n",
       "      <td>4205</td>\n",
       "      <td>NaN</td>\n",
       "      <td>NaN</td>\n",
       "    </tr>\n",
       "    <tr>\n",
       "      <th>444</th>\n",
       "      <td>11-04-2025</td>\n",
       "      <td>11042025UMN1</td>\n",
       "      <td>Manish Nagar</td>\n",
       "      <td>6732</td>\n",
       "      <td>NaN</td>\n",
       "      <td>NaN</td>\n",
       "    </tr>\n",
       "    <tr>\n",
       "      <th>445</th>\n",
       "      <td>11-04-2025</td>\n",
       "      <td>11042025UNA1</td>\n",
       "      <td>Nandanvan</td>\n",
       "      <td>6338</td>\n",
       "      <td>NaN</td>\n",
       "      <td>NaN</td>\n",
       "    </tr>\n",
       "    <tr>\n",
       "      <th>446</th>\n",
       "      <td>11-04-2025</td>\n",
       "      <td>11042025US1</td>\n",
       "      <td>Sai Mandir</td>\n",
       "      <td>6074</td>\n",
       "      <td>NaN</td>\n",
       "      <td>NaN</td>\n",
       "    </tr>\n",
       "  </tbody>\n",
       "</table>\n",
       "</div>"
      ],
      "text/plain": [
       "    Invoice Date    Invoice No       Location  PO Amount  GRN  PR\n",
       "440   11-04-2025  11042025UAN1  Ayodhya Nagar       7910  NaN NaN\n",
       "441   11-04-2025   11042025UB1        Byramji      67775  NaN NaN\n",
       "442   11-04-2025  11042025UDH1     Dharampeth       9629  NaN NaN\n",
       "443   11-04-2025  11042025UMH1          Mahal       4205  NaN NaN\n",
       "444   11-04-2025  11042025UMN1   Manish Nagar       6732  NaN NaN\n",
       "445   11-04-2025  11042025UNA1      Nandanvan       6338  NaN NaN\n",
       "446   11-04-2025   11042025US1     Sai Mandir       6074  NaN NaN"
      ]
     },
     "execution_count": 17,
     "metadata": {},
     "output_type": "execute_result"
    }
   ],
   "source": [
    "grnPrnByInvoice[grnPrnByInvoice[\"Invoice Date\"] == dat]"
   ]
  },
  {
   "cell_type": "code",
   "execution_count": 19,
   "id": "418b580b",
   "metadata": {},
   "outputs": [],
   "source": [
    "finalGrnPrDF = pd.merge(\n",
    "    grnPrnByInvoice,\n",
    "    grnPrProperColumns,\n",
    "    how=\"outer\",\n",
    "    on=[\n",
    "        \"Invoice Date\",\n",
    "        \"Invoice No\",\n",
    "        \"Location\",\n",
    "    ],\n",
    "    suffixes=(\"_T1\", \"_T2\"),\n",
    ")\n",
    "\n",
    "finalGrnPrDF[\"PO Amount\"] = finalGrnPrDF[\"PO Amount_T1\"].combine_first(\n",
    "    finalGrnPrDF[\"PO Amount_T2\"]\n",
    ")\n",
    "finalGrnPrDF[\"GRN\"] = finalGrnPrDF[\"GRN_T1\"].combine_first(finalGrnPrDF[\"GRN_T2\"])\n",
    "finalGrnPrDF[\"PR\"] = finalGrnPrDF[\"PR_T1\"].combine_first(finalGrnPrDF[\"PR_T2\"])\n",
    "\n",
    "finalGrnPrDF = finalGrnPrDF[\n",
    "    [\n",
    "        \"Invoice Date\",\n",
    "        \"Invoice No\",\n",
    "        \"Location\",\n",
    "        \"PO Amount\",\n",
    "        \"GRN\",\n",
    "        \"PR\",\n",
    "    ]\n",
    "]"
   ]
  },
  {
   "cell_type": "code",
   "execution_count": 20,
   "id": "6750a761",
   "metadata": {},
   "outputs": [],
   "source": [
    "finalGrnPrDF[\"Entity Name\"] = finalGrnPrDF[\"Location\"].apply(\n",
    "    lambda location: locationCodeConfig[location].retailer\n",
    ")"
   ]
  },
  {
   "cell_type": "code",
   "execution_count": 22,
   "id": "8e410265",
   "metadata": {},
   "outputs": [],
   "source": [
    "finalGrnPrDF.to_csv(\"GRN - PR.csv\", index=False)"
   ]
  }
 ],
 "metadata": {
  "kernelspec": {
   "display_name": "Python 3",
   "language": "python",
   "name": "python3"
  },
  "language_info": {
   "codemirror_mode": {
    "name": "ipython",
    "version": 3
   },
   "file_extension": ".py",
   "mimetype": "text/x-python",
   "name": "python",
   "nbconvert_exporter": "python",
   "pygments_lexer": "ipython3",
   "version": "3.11.0"
  }
 },
 "nbformat": 4,
 "nbformat_minor": 5
}
