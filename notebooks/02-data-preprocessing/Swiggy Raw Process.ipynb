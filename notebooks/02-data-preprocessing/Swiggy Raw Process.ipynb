{
 "cells": [
  {
   "cell_type": "code",
   "execution_count": 1,
   "id": "1e5b502a",
   "metadata": {},
   "outputs": [],
   "source": [
    "import pandas as pd"
   ]
  },
  {
   "cell_type": "code",
   "execution_count": 4,
   "id": "eaa1afb3",
   "metadata": {},
   "outputs": [],
   "source": [
    "df = pd.read_excel(\n",
    "    \"./../../upgrade_mandi/raw-sheets-dump/upgrade 25 aug 25 (2).xlsx\",\n",
    "    sheet_name=\"Sheet1\",\n",
    "    skiprows=range(1, 429),\n",
    "    nrows=100,\n",
    ")"
   ]
  },
  {
   "cell_type": "code",
   "execution_count": 5,
   "id": "eb01fc63",
   "metadata": {},
   "outputs": [
    {
     "data": {
      "application/vnd.microsoft.datawrangler.viewer.v0+json": {
       "columns": [
        {
         "name": "index",
         "rawType": "int64",
         "type": "integer"
        },
        {
         "name": "Date",
         "rawType": "object",
         "type": "string"
        },
        {
         "name": "City",
         "rawType": "object",
         "type": "string"
        },
        {
         "name": "Store Id",
         "rawType": "object",
         "type": "string"
        },
        {
         "name": "SKU_ID",
         "rawType": "object",
         "type": "string"
        },
        {
         "name": "STORE_NAME",
         "rawType": "object",
         "type": "string"
        },
        {
         "name": "VENDOR",
         "rawType": "object",
         "type": "string"
        },
        {
         "name": "ITEM_CODE",
         "rawType": "object",
         "type": "string"
        },
        {
         "name": "PRODUCT_NAME",
         "rawType": "object",
         "type": "string"
        },
        {
         "name": "WEIGHT",
         "rawType": "object",
         "type": "string"
        },
        {
         "name": "Indents",
         "rawType": "object",
         "type": "string"
        },
        {
         "name": "Supplier ID",
         "rawType": "object",
         "type": "string"
        },
        {
         "name": "Cost",
         "rawType": "object",
         "type": "string"
        },
        {
         "name": "MRP",
         "rawType": "object",
         "type": "string"
        },
        {
         "name": "PO Number",
         "rawType": "object",
         "type": "string"
        },
        {
         "name": "Entity Name",
         "rawType": "object",
         "type": "string"
        }
       ],
       "ref": "8cee1871-1588-4c48-b3ac-6b04ef05ff44",
       "rows": [],
       "shape": {
        "columns": 15,
        "rows": 0
       }
      },
      "text/html": [
       "<div>\n",
       "<style scoped>\n",
       "    .dataframe tbody tr th:only-of-type {\n",
       "        vertical-align: middle;\n",
       "    }\n",
       "\n",
       "    .dataframe tbody tr th {\n",
       "        vertical-align: top;\n",
       "    }\n",
       "\n",
       "    .dataframe thead th {\n",
       "        text-align: right;\n",
       "    }\n",
       "</style>\n",
       "<table border=\"1\" class=\"dataframe\">\n",
       "  <thead>\n",
       "    <tr style=\"text-align: right;\">\n",
       "      <th></th>\n",
       "      <th>Date</th>\n",
       "      <th>City</th>\n",
       "      <th>Store Id</th>\n",
       "      <th>SKU_ID</th>\n",
       "      <th>STORE_NAME</th>\n",
       "      <th>VENDOR</th>\n",
       "      <th>ITEM_CODE</th>\n",
       "      <th>PRODUCT_NAME</th>\n",
       "      <th>WEIGHT</th>\n",
       "      <th>Indents</th>\n",
       "      <th>Supplier ID</th>\n",
       "      <th>Cost</th>\n",
       "      <th>MRP</th>\n",
       "      <th>PO Number</th>\n",
       "      <th>Entity Name</th>\n",
       "    </tr>\n",
       "  </thead>\n",
       "  <tbody>\n",
       "  </tbody>\n",
       "</table>\n",
       "</div>"
      ],
      "text/plain": [
       "Empty DataFrame\n",
       "Columns: [Date, City, Store Id, SKU_ID, STORE_NAME, VENDOR, ITEM_CODE, PRODUCT_NAME, WEIGHT, Indents, Supplier ID, Cost, MRP, PO Number, Entity Name]\n",
       "Index: []"
      ]
     },
     "execution_count": 5,
     "metadata": {},
     "output_type": "execute_result"
    }
   ],
   "source": [
    "df"
   ]
  }
 ],
 "metadata": {
  "kernelspec": {
   "display_name": "Python 3",
   "language": "python",
   "name": "python3"
  },
  "language_info": {
   "codemirror_mode": {
    "name": "ipython",
    "version": 3
   },
   "file_extension": ".py",
   "mimetype": "text/x-python",
   "name": "python",
   "nbconvert_exporter": "python",
   "pygments_lexer": "ipython3",
   "version": "3.11.0"
  }
 },
 "nbformat": 4,
 "nbformat_minor": 5
}
