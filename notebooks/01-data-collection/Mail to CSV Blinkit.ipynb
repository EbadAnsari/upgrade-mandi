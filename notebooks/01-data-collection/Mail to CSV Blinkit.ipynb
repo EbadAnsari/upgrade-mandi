{
 "cells": [
  {
   "cell_type": "code",
   "execution_count": null,
   "id": "5d5843b6",
   "metadata": {},
   "outputs": [],
   "source": [
    "import email\n",
    "import imaplib\n",
    "import re\n",
    "from datetime import datetime\n",
    "from io import BytesIO\n",
    "\n",
    "import camelot\n",
    "import pandas as pd\n",
    "from bs4 import BeautifulSoup"
   ]
  },
  {
   "cell_type": "code",
   "execution_count": 2,
   "id": "8aa747b9",
   "metadata": {},
   "outputs": [],
   "source": [
    "prev = 0\n",
    "\n",
    "\n",
    "def pretty(label: str, completed: float, total: int, length: int = 30) -> None:\n",
    "    global prev\n",
    "    print(\n",
    "        \" \" * (prev * 2)\n",
    "        + f\"\\r{label} [\"\n",
    "        + \"=\" * int(completed / total * length)\n",
    "        + \"-\" * int((total - completed) / total * length)\n",
    "        + f\"] {int(completed / total * 100)}%\",\n",
    "        end=\"\",\n",
    "    )\n",
    "    prev = length\n",
    "\n",
    "\n",
    "def prettyPrintReplace(label: str) -> None:\n",
    "    global prev\n",
    "    label = str(label)\n",
    "    print(\" \" * (prev * 2) + f\"\\r{label}\", end=\"\")\n",
    "    prev = len(label)"
   ]
  },
  {
   "cell_type": "code",
   "execution_count": null,
   "id": "3d612bc7",
   "metadata": {},
   "outputs": [],
   "source": [
    "# Login credentials\n",
    "IMAP_HOST = \"imap.gmail.com\"\n",
    "EMAIL_USER = \"email\"\n",
    "EMAIL_PASS = \"random\""
   ]
  },
  {
   "cell_type": "code",
   "execution_count": 4,
   "id": "f22bc847",
   "metadata": {},
   "outputs": [],
   "source": [
    "subject_to_search = \"UPGRADE MANDI - Hyperpure\""
   ]
  },
  {
   "cell_type": "code",
   "execution_count": null,
   "id": "23ab1daa",
   "metadata": {},
   "outputs": [],
   "source": [
    "# Connect and login\n",
    "mail = imaplib.IMAP4_SSL(IMAP_HOST)\n",
    "mail.login(EMAIL_USER, EMAIL_PASS)\n",
    "mail.select(\"inbox\")\n",
    "\n",
    "dt = \"09-Jun-2025\"\n",
    "\n",
    "dateFilter = f'ON \"{dt}\" '\n",
    "\n",
    "if True:\n",
    "    dateFilter = \"\"\n",
    "\n",
    "# Search emails by subject\n",
    "statusRaw, messagesRaw = mail.search(\n",
    "    None, f'({dateFilter}SUBJECT \"{subject_to_search}\")'\n",
    ")"
   ]
  },
  {
   "cell_type": "code",
   "execution_count": null,
   "id": "4bad31de",
   "metadata": {},
   "outputs": [],
   "source": [
    "grnPrDF = pd.DataFrame({\"Cut/Veg\": [], \"Date\": [], \"GRN\": [], \"PO Amount\": []})\n",
    "\n",
    "status = statusRaw\n",
    "messages = messagesRaw\n",
    "\n",
    "if status == \"OK\":\n",
    "    for num in messages[0].split():\n",
    "        typ, data = mail.fetch(num, \"(RFC822)\")\n",
    "        msg = email.message_from_bytes(data[0][1])\n",
    "\n",
    "        processedDOMTree = \"\"\n",
    "        cutVeg = {\"value\": None}\n",
    "\n",
    "        subject = re.sub(\"\\s+\", \" \", msg[\"subject\"])\n",
    "        indexPO = re.search(r\"CPCMH\\d{2}-PO-\\d{7}\", subject)\n",
    "\n",
    "        if indexPO:\n",
    "            indexPO = indexPO.group()\n",
    "        else:\n",
    "            raise Exception(\"Can't find PO number from mail.\")\n",
    "\n",
    "        if indexPO not in grnPrDF.index:\n",
    "            grnPrDF.loc[indexPO] = [\"\", \"\", 0.0, 0.0]\n",
    "\n",
    "        for part in msg.walk():\n",
    "            content_type = part.get_content_type()\n",
    "            content_disposition = str(part.get(\"Content-Disposition\") or \"\")\n",
    "\n",
    "            if part.get_content_maintype() == \"multipart\":\n",
    "                continue\n",
    "            elif content_type == \"application/pdf\":\n",
    "                cutVeg = \"VEG\"\n",
    "                pdfFileData = part.get_payload(decode=True)\n",
    "                pdfFileStream = BytesIO(pdfFileData)\n",
    "                try:\n",
    "                    pdfParserObject = camelot.read_pdf(pdfFileStream)\n",
    "                    if len(pdfParserObject[0].df) >= 5:\n",
    "                        findCut = pdfParserObject[0].df.iloc[5][1]\n",
    "                        findMatches = re.findall(r\".*cut.*\", findCut, re.IGNORECASE)\n",
    "                        if len(findMatches) != 0:\n",
    "                            cutVeg = \"CUT-VEG\"\n",
    "                except:\n",
    "                    cutVeg = \"Error\"\n",
    "                grnPrDF.loc[indexPO, \"Cut/Veg\"] = cutVeg\n",
    "            elif content_type == \"text/html\":\n",
    "                rawHTMLText = part.get_payload(decode=True).decode()\n",
    "\n",
    "                processedDOMTree = BeautifulSoup(rawHTMLText, \"html.parser\")\n",
    "\n",
    "                amountDate = datetime.strptime(\n",
    "                    processedDOMTree.find_all(\"table\")[1]\n",
    "                    .find_all(\"tr\")[3]\n",
    "                    .find_all(\"td\")[1]\n",
    "                    .find(\"span\")\n",
    "                    .text,\n",
    "                    \"%d %b %Y\",\n",
    "                ).strftime(\"%d-%m-%Y\")\n",
    "\n",
    "                amount = float(\n",
    "                    processedDOMTree.find_all(\"table\")[1]\n",
    "                    .find_all(\"tr\")[4]\n",
    "                    .find_all(\"td\")[1]\n",
    "                    .find(\"span\")\n",
    "                    .text\n",
    "                )\n",
    "\n",
    "                isGrnAmount = (\n",
    "                    \"UPGRADE MANDI - Hyperpure GRN against PO Number\" in subject\n",
    "                )\n",
    "                isTotalAmount = \"UPGRADE MANDI - Hyperpure PO Number\" in subject\n",
    "\n",
    "                if isGrnAmount:\n",
    "                    grnPrDF.loc[indexPO, \"GRN\"] += amount\n",
    "                if isTotalAmount:\n",
    "                    grnPrDF.loc[indexPO, \"PO Amount\"] += amount\n",
    "                grnPrDF.loc[indexPO, \"Date\"] = amountDate\n",
    "\n",
    "        print(\n",
    "            f\"Count: {len(grnPrDF)}\",\n",
    "            f\"Date: {amountDate}\",\n",
    "            f\"Index PO: {indexPO}\",\n",
    "            f'GRN total: {grnPrDF.iloc[-1][\"GRN\"]}',\n",
    "            f'Total: {grnPrDF.iloc[-1][\"PO Amount\"]}',\n",
    "            f'Cut: {grnPrDF.iloc[-1][\"Cut/Veg\"]}',\n",
    "            sep=\"\\n\",\n",
    "            end=\"\\n\\n\\n\",\n",
    "        )"
   ]
  },
  {
   "cell_type": "code",
   "execution_count": null,
   "id": "3c01b7c5",
   "metadata": {},
   "outputs": [],
   "source": [
    "grnPrDF"
   ]
  },
  {
   "cell_type": "code",
   "execution_count": 12,
   "id": "2393407e",
   "metadata": {},
   "outputs": [],
   "source": [
    "grnPrDF[\"PR\"] = grnPrDF[\"PO Amount\"] - grnPrDF[\"GRN\"]"
   ]
  },
  {
   "cell_type": "code",
   "execution_count": null,
   "id": "9ca9b810",
   "metadata": {},
   "outputs": [],
   "source": [
    "grnPrDF"
   ]
  },
  {
   "cell_type": "code",
   "execution_count": 14,
   "id": "6f312845",
   "metadata": {},
   "outputs": [],
   "source": [
    "toSave = grnPrDF[[\"Cut/Veg\", \"Date\", \"GRN\", \"PR\", \"PO Amount\"]]"
   ]
  },
  {
   "cell_type": "code",
   "execution_count": null,
   "id": "c7afe636",
   "metadata": {},
   "outputs": [],
   "source": [
    "mail.logout()"
   ]
  },
  {
   "cell_type": "code",
   "execution_count": 15,
   "id": "ab25e453",
   "metadata": {},
   "outputs": [],
   "source": [
    "toSave.index.name = \"PO Number\""
   ]
  },
  {
   "cell_type": "code",
   "execution_count": 16,
   "id": "0963e3c8",
   "metadata": {},
   "outputs": [],
   "source": [
    "toSave.to_csv(\"GRN PR (Blinkit).csv\")"
   ]
  }
 ],
 "metadata": {
  "kernelspec": {
   "display_name": "Python 3",
   "language": "python",
   "name": "python3"
  },
  "language_info": {
   "codemirror_mode": {
    "name": "ipython",
    "version": 3
   },
   "file_extension": ".py",
   "mimetype": "text/x-python",
   "name": "python",
   "nbconvert_exporter": "python",
   "pygments_lexer": "ipython3",
   "version": "3.11.0"
  }
 },
 "nbformat": 4,
 "nbformat_minor": 5
}
