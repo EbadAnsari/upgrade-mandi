{
 "cells": [
  {
   "cell_type": "code",
   "execution_count": 127,
   "id": "5d5843b6",
   "metadata": {},
   "outputs": [],
   "source": [
    "import email\n",
    "import imaplib\n",
    "from datetime import datetime\n",
    "from io import BytesIO\n",
    "\n",
    "import pandas as pd\n",
    "from bs4 import BeautifulSoup"
   ]
  },
  {
   "cell_type": "code",
   "execution_count": 128,
   "id": "8aa747b9",
   "metadata": {},
   "outputs": [],
   "source": [
    "prev = 0\n",
    "\n",
    "\n",
    "def pretty(label: str, completed: float, total: int, length: int = 30) -> None:\n",
    "    global prev\n",
    "    print(\n",
    "        \" \" * (prev * 2)\n",
    "        + f\"\\r{label} [\"\n",
    "        + \"=\" * int(completed / total * length)\n",
    "        + \"-\" * int((total - completed) / total * length)\n",
    "        + f\"] {int(completed / total * 100)}%\",\n",
    "        end=\"\",\n",
    "    )\n",
    "    prev = length\n",
    "\n",
    "\n",
    "def prettyPrintReplace(label: str) -> None:\n",
    "    global prev\n",
    "    label = str(label)\n",
    "    print(\" \" * (prev * 2) + f\"\\r{label}\", end=\"\")\n",
    "    prev = len(label)"
   ]
  },
  {
   "cell_type": "code",
   "execution_count": 129,
   "id": "3d612bc7",
   "metadata": {},
   "outputs": [],
   "source": [
    "# Login credentials\n",
    "IMAP_HOST = \"imap.gmail.com\"\n",
    "EMAIL_USER = \"ebadansari414@gmail.com\"\n",
    "EMAIL_PASS = \"ghgy lcsp obph sczi\""
   ]
  },
  {
   "cell_type": "code",
   "execution_count": 130,
   "id": "f22bc847",
   "metadata": {},
   "outputs": [],
   "source": [
    "subject_to_search = \"Odoo ERP - Trying to reach you\"\n",
    "subject_to_search = \"Fwd: UPGRADE MANDI - Hyperpure\""
   ]
  },
  {
   "cell_type": "code",
   "execution_count": 131,
   "id": "23ab1daa",
   "metadata": {},
   "outputs": [],
   "source": [
    "# Connect and login\n",
    "mail = imaplib.IMAP4_SSL(IMAP_HOST)\n",
    "mail.login(EMAIL_USER, EMAIL_PASS)\n",
    "mail.select(\"inbox\")\n",
    "\n",
    "# Search emails by subject\n",
    "status, messages = mail.search(None, f'(SUBJECT \"{subject_to_search}\")')"
   ]
  },
  {
   "cell_type": "code",
   "execution_count": 132,
   "id": "4bad31de",
   "metadata": {},
   "outputs": [
    {
     "name": "stdout",
     "output_type": "stream",
     "text": [
      "5                                      "
     ]
    }
   ],
   "source": [
    "grnPrDF = pd.DataFrame({\"GRN\": [], \"PO Amount\": []})\n",
    "\n",
    "if status == \"OK\":\n",
    "    for num in messages[0].split():\n",
    "        typ, data = mail.fetch(num, \"(RFC822)\")\n",
    "        msg = email.message_from_bytes(data[0][1])\n",
    "\n",
    "        processedDOMTree = \"\"\n",
    "\n",
    "        for part in msg.walk():\n",
    "            content_type = part.get_content_type()\n",
    "            content_disposition = str(part.get(\"Content-Disposition\") or \"\")\n",
    "\n",
    "            if \"attachment\" in content_disposition:\n",
    "                continue\n",
    "            # if content_type == \"text/plain\":\n",
    "            # email_text += part.get_payload(decode=True).decode(errors=\"ignore\")\n",
    "\n",
    "            # if you also want HTML body\n",
    "            elif content_type == \"text/html\":\n",
    "                rawHTMLText = part.get_payload(decode=True).decode()\n",
    "\n",
    "                processedDOMTree = BeautifulSoup(rawHTMLText, \"html.parser\")\n",
    "\n",
    "                amountDate = datetime.strptime(\n",
    "                    processedDOMTree.find_all(\"table\")[1]\n",
    "                    .find_all(\"tr\")[3]\n",
    "                    .find_all(\"td\")[1]\n",
    "                    .find(\"span\")\n",
    "                    .text,\n",
    "                    \"%d %b %Y\",\n",
    "                )\n",
    "\n",
    "                amount = float(\n",
    "                    processedDOMTree.find_all(\"table\")[1]\n",
    "                    .find_all(\"tr\")[4]\n",
    "                    .find_all(\"td\")[1]\n",
    "                    .find(\"span\")\n",
    "                    .text\n",
    "                )\n",
    "\n",
    "                isGrnAmount = (\n",
    "                    \"UPGRADE MANDI - Hyperpure GRN against PO Number\" in msg[\"subject\"]\n",
    "                )\n",
    "                isTotalAmount = \"UPGRADE MANDI - Hyperpure PO Number\" in msg[\"subject\"]\n",
    "\n",
    "                prettyPrintReplace(len(grnPrDF))\n",
    "\n",
    "                if amountDate.strftime(\"%d-%m-%Y\") not in grnPrDF.index:\n",
    "                    grnPrDF.loc[amountDate.strftime(\"%d-%m-%Y\")] = [0.0, 0.0]\n",
    "                if isGrnAmount:\n",
    "                    grnPrDF.loc[amountDate.strftime(\"%d-%m-%Y\"), \"GRN\"] += amount\n",
    "                if isTotalAmount:\n",
    "                    grnPrDF.loc[amountDate.strftime(\"%d-%m-%Y\"), \"PO Amount\"] += amount"
   ]
  },
  {
   "cell_type": "code",
   "execution_count": null,
   "id": "2393407e",
   "metadata": {},
   "outputs": [],
   "source": [
    "grnPrDF[\"PR\"] = grnPrDF[\"PO Amount\"] - grnPrDF[\"GRN\"]"
   ]
  },
  {
   "cell_type": "code",
   "execution_count": 135,
   "id": "6f312845",
   "metadata": {},
   "outputs": [],
   "source": [
    "grnPrDF = grnPrDF[[\"GRN\", \"PR\", \"PO Amount\"]]"
   ]
  },
  {
   "cell_type": "code",
   "execution_count": 136,
   "id": "c7afe636",
   "metadata": {},
   "outputs": [
    {
     "data": {
      "text/plain": [
       "('BYE', [b'LOGOUT Requested'])"
      ]
     },
     "execution_count": 136,
     "metadata": {},
     "output_type": "execute_result"
    }
   ],
   "source": [
    "mail.logout()"
   ]
  },
  {
   "cell_type": "code",
   "execution_count": 137,
   "id": "ab25e453",
   "metadata": {},
   "outputs": [],
   "source": [
    "grnPrDF.index.name = \"Date\""
   ]
  },
  {
   "cell_type": "code",
   "execution_count": 138,
   "id": "0963e3c8",
   "metadata": {},
   "outputs": [],
   "source": [
    "grnPrDF.to_csv(\"GRN PR (Blinkit).csv\")"
   ]
  }
 ],
 "metadata": {
  "kernelspec": {
   "display_name": "Python 3",
   "language": "python",
   "name": "python3"
  },
  "language_info": {
   "codemirror_mode": {
    "name": "ipython",
    "version": 3
   },
   "file_extension": ".py",
   "mimetype": "text/x-python",
   "name": "python",
   "nbconvert_exporter": "python",
   "pygments_lexer": "ipython3",
   "version": "3.11.0"
  }
 },
 "nbformat": 4,
 "nbformat_minor": 5
}
