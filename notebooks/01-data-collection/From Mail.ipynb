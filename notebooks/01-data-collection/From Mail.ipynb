{
 "cells": [
  {
   "cell_type": "code",
   "execution_count": 2,
   "id": "5d5843b6",
   "metadata": {},
   "outputs": [],
   "source": [
    "import email\n",
    "import imaplib\n",
    "from io import BytesIO\n",
    "\n",
    "import pandas as pd"
   ]
  },
  {
   "cell_type": "code",
   "execution_count": 8,
   "id": "8aa747b9",
   "metadata": {},
   "outputs": [],
   "source": [
    "prev = 0\n",
    "\n",
    "\n",
    "def pretty(label: str, completed: float, total: int, length: int = 30) -> None:\n",
    "    global prev\n",
    "    print(\n",
    "        \" \" * (prev * 2)\n",
    "        + f\"\\r{label} [\"\n",
    "        + \"=\" * int(completed / total * length)\n",
    "        + \"-\" * int((total - completed) / total * length)\n",
    "        + f\"] {int(completed / total * 100)}%\",\n",
    "        end=\"\",\n",
    "    )\n",
    "    prev = length\n",
    "\n",
    "\n",
    "def prettyPrintReplace(label: str) -> None:\n",
    "    global prev\n",
    "    print(\" \" * (prev * 2) + f\"\\r{label}\", end=\"\")\n",
    "    prev = len(label)"
   ]
  },
  {
   "cell_type": "code",
   "execution_count": 4,
   "id": "3d612bc7",
   "metadata": {},
   "outputs": [],
   "source": [
    "# Login credentials\n",
    "IMAP_HOST = \"imap.gmail.com\"\n",
    "EMAIL_USER = \"ebadansari414@gmail.com\"\n",
    "EMAIL_PASS = \"ghgy lcsp obph sczi\""
   ]
  },
  {
   "cell_type": "code",
   "execution_count": 5,
   "id": "f22bc847",
   "metadata": {},
   "outputs": [],
   "source": [
    "subject_to_search = \"STATE CODE - 27 | \""
   ]
  },
  {
   "cell_type": "code",
   "execution_count": 6,
   "id": "23ab1daa",
   "metadata": {},
   "outputs": [],
   "source": [
    "# Connect and login\n",
    "mail = imaplib.IMAP4_SSL(IMAP_HOST)\n",
    "mail.login(EMAIL_USER, EMAIL_PASS)\n",
    "mail.select(\"inbox\")\n",
    "\n",
    "# Search emails by subject\n",
    "status, messages = mail.search(None, f'(SUBJECT \"{subject_to_search}\")')"
   ]
  },
  {
   "cell_type": "code",
   "execution_count": null,
   "id": "497d8571",
   "metadata": {},
   "outputs": [
    {
     "name": "stdout",
     "output_type": "stream",
     "text": [
      "Mail parsed: 19, GRN: 68, PR: 68                                                                                                                                                                                                                                                                                                                                                                                                                                                                                                                                                                                                                                                                                                                                                                                                                                                                                                                                                                                                                                                                                                                                                                                                                                                                                       "
     ]
    }
   ],
   "source": [
    "rawGRN = pd.DataFrame()\n",
    "rawPR = pd.DataFrame()\n",
    "totalMailParsed = 0\n",
    "if status == \"OK\":\n",
    "    for num in messages[0].split():\n",
    "        typ, data = mail.fetch(num, \"(RFC822)\")\n",
    "        msg = email.message_from_bytes(data[0][1])\n",
    "\n",
    "        # Extract only selected attachments\n",
    "        for part in msg.walk():\n",
    "            content_disposition = str(part.get(\"Content-Disposition\") or \"\")\n",
    "            prettyPrintReplace(\n",
    "                f\"Mail parsed: {totalMailParsed}, GRN: {len(rawGRN)}, PR: {len(rawPR)}\"\n",
    "            )\n",
    "            if part.get_content_maintype() == \"multipart\":\n",
    "                continue\n",
    "            if \"attachment\" in content_disposition:\n",
    "                filename = part.get_filename()\n",
    "                # if filename and filename.lower() in [f.lower() for f in allowed_files]:\n",
    "                if filename.lower().endswith(\"25.csv\") and filename.lower().startswith(\n",
    "                    \"grn\"\n",
    "                ):\n",
    "                    file_data = part.get_payload(decode=True)\n",
    "                    file_stream = BytesIO(file_data)\n",
    "                    rawGRN = pd.concat([rawGRN, pd.read_csv(file_stream)])\n",
    "                elif filename.lower().endswith(\n",
    "                    \"25.csv\"\n",
    "                ) and filename.lower().startswith(\"pr\"):\n",
    "                    file_data = part.get_payload(decode=True)\n",
    "                    file_stream = BytesIO(file_data)\n",
    "                    rawPR = pd.concat([rawPR, pd.read_csv(file_stream)])\n",
    "        totalMailParsed += 1"
   ]
  },
  {
   "cell_type": "code",
   "execution_count": 6,
   "id": "c7afe636",
   "metadata": {},
   "outputs": [
    {
     "data": {
      "text/plain": [
       "('BYE', [b'LOGOUT Requested'])"
      ]
     },
     "execution_count": 6,
     "metadata": {},
     "output_type": "execute_result"
    }
   ],
   "source": [
    "mail.logout()"
   ]
  },
  {
   "cell_type": "code",
   "execution_count": null,
   "id": "9575d88d",
   "metadata": {},
   "outputs": [
    {
     "ename": "NameError",
     "evalue": "name 'breakThisHere' is not defined",
     "output_type": "error",
     "traceback": [
      "\u001b[31m---------------------------------------------------------------------------\u001b[39m",
      "\u001b[31mNameError\u001b[39m                                 Traceback (most recent call last)",
      "\u001b[36mCell\u001b[39m\u001b[36m \u001b[39m\u001b[32mIn[12]\u001b[39m\u001b[32m, line 1\u001b[39m\n\u001b[32m----> \u001b[39m\u001b[32m1\u001b[39m \u001b[38;5;28mprint\u001b[39m(\u001b[43mbreakThisHere\u001b[49m())\n",
      "\u001b[31mNameError\u001b[39m: name 'breakThisHere' is not defined"
     ]
    }
   ],
   "source": [
    "print(breakThisHere())"
   ]
  },
  {
   "cell_type": "code",
   "execution_count": null,
   "id": "57f91693",
   "metadata": {},
   "outputs": [],
   "source": [
    "grn = rawGRN.dropna(how=\"all\", axis=1)\n",
    "grn.to_csv(\"GRN.csv\")"
   ]
  },
  {
   "cell_type": "code",
   "execution_count": null,
   "id": "0ac0a849",
   "metadata": {},
   "outputs": [],
   "source": [
    "pr = rawPR.dropna(how=\"all\", axis=1)\n",
    "pr.to_csv(\"PR.csv\")"
   ]
  }
 ],
 "metadata": {
  "kernelspec": {
   "display_name": "Python 3",
   "language": "python",
   "name": "python3"
  },
  "language_info": {
   "codemirror_mode": {
    "name": "ipython",
    "version": 3
   },
   "file_extension": ".py",
   "mimetype": "text/x-python",
   "name": "python",
   "nbconvert_exporter": "python",
   "pygments_lexer": "ipython3",
   "version": "3.11.0"
  }
 },
 "nbformat": 4,
 "nbformat_minor": 5
}
