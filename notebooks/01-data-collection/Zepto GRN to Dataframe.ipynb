{
 "cells": [
  {
   "cell_type": "code",
   "execution_count": 1,
   "id": "9f139d89",
   "metadata": {},
   "outputs": [
    {
     "name": "stderr",
     "output_type": "stream",
     "text": [
      "C:\\Users\\cw\\AppData\\Roaming\\Python\\Python311\\site-packages\\pypdf\\_crypt_providers\\_cryptography.py:32: CryptographyDeprecationWarning: ARC4 has been moved to cryptography.hazmat.decrepit.ciphers.algorithms.ARC4 and will be removed from cryptography.hazmat.primitives.ciphers.algorithms in 48.0.0.\n",
      "  from cryptography.hazmat.primitives.ciphers.algorithms import AES, ARC4\n"
     ]
    }
   ],
   "source": [
    "import pandas as pd\n",
    "import camelot"
   ]
  },
  {
   "cell_type": "code",
   "execution_count": 2,
   "id": "56b4db05",
   "metadata": {},
   "outputs": [],
   "source": [
    "pages = camelot.read_pdf(\"GrnReceipt.pdf\", pages=\"all\")"
   ]
  },
  {
   "cell_type": "code",
   "execution_count": 4,
   "id": "47648be1",
   "metadata": {},
   "outputs": [
    {
     "data": {
      "text/plain": [
       "1230"
      ]
     },
     "execution_count": 4,
     "metadata": {},
     "output_type": "execute_result"
    }
   ],
   "source": [
    "int(pages[1].df[0].iloc[-2].split(\"\\n\")[-1])"
   ]
  },
  {
   "cell_type": "code",
   "execution_count": 18,
   "id": "55cdb646",
   "metadata": {},
   "outputs": [
    {
     "data": {
      "text/plain": [
       "[['Vendor\\nUPGRADE MANDI\\nName:\\nVendor\\nTinNo:\\nSamaj Sagar Cooperative Housing\\nVendor\\nSociety, Laxmi Nagar Kalmana\\nAddress:',\n",
       "  '13-8-\\nPO No:\\nPO Date:\\nNAG002P23\\n2025\\nAsn No:\\nAsn Date:\\n13-8-\\nNAG002A1Y\\n2025\\nInbound\\nCreate\\nINV40HYCQV\\n13-8-\\nNo:\\nDate:\\n2025\\nGRN No:\\nGrnCode256163\\nGRN Date:\\n13-8-\\n41\\n2025\\nInvoice\\nInvoice\\n140825UMJ1\\n13-8-\\nNo:\\nDate:\\n2025\\nChallan\\nChallan\\nNo:\\nDate:']]"
      ]
     },
     "execution_count": 18,
     "metadata": {},
     "output_type": "execute_result"
    }
   ],
   "source": [
    "pages[0].df.values.tolist()"
   ]
  },
  {
   "cell_type": "code",
   "execution_count": null,
   "id": "f9dae783",
   "metadata": {},
   "outputs": [],
   "source": [
    "\"\"\"\n",
    "\n",
    "Date\n",
    "Invoice No\n",
    "Location\n",
    "PO Amount\n",
    "GRN\n",
    "PR\n",
    "Retailer\n",
    "\n",
    "\"\"\""
   ]
  },
  {
   "cell_type": "code",
   "execution_count": 8,
   "id": "f846f1bd",
   "metadata": {},
   "outputs": [
    {
     "data": {
      "application/vnd.microsoft.datawrangler.viewer.v0+json": {
       "columns": [
        {
         "name": "index",
         "rawType": "int64",
         "type": "integer"
        },
        {
         "name": "0",
         "rawType": "object",
         "type": "string"
        },
        {
         "name": "1",
         "rawType": "object",
         "type": "unknown"
        }
       ],
       "ref": "21e5b6f7-be09-4051-84e7-ed5ba54b97a0",
       "rows": [
        [
         "0",
         "Vendor\nUPGRADE MANDI\nName:\nVendor\nTinNo:\nSamaj Sagar Cooperative Housing\nVendor\nSociety, Laxmi Nagar Kalmana\nAddress:",
         "13-8-\nPO No:\nPO Date:\nNAG002P23\n2025\nAsn No:\nAsn Date:\n13-8-\nNAG002A1Y\n2025\nInbound\nCreate\nINV40HYCQV\n13-8-\nNo:\nDate:\n2025\nGRN No:\nGrnCode256163\nGRN Date:\n13-8-\n41\n2025\nInvoice\nInvoice\n140825UMJ1\n13-8-\nNo:\nDate:\n2025\nChallan\nChallan\nNo:\nDate:"
        ],
        [
         "1",
         "CGST\nSGST/UGST\nIGST\nCess\nUnit\nTaxable\nSr\nMRP\nExp\nRecv\nAddt'l\nTotal\nSKU\nPrice\nvalue\nNo\n(INR)\nqty\nqty\nCESS\n(INR)\n(INR)\n(INR)\nRate\nAmount\nRate\nAmount\nRate\nAmount\nRate\nAmount",
         null
        ],
        [
         "2",
         "1\nTomato Local\n7\n6\n46\n276\n0\n0\n0\n0\n0\n0\n0\n0\n276",
         null
        ],
        [
         "3",
         "2\nLady Finger\n5\n5\n14\n70\n0\n0\n0\n0\n0\n0\n0\n0\n70",
         null
        ],
        [
         "4",
         "Ivy Gourd\n3\n3\n3\n18\n54\n0\n0\n0\n0\n0\n0\n0\n0\n54\n(Tindli)",
         null
        ],
        [
         "5",
         "4\nLemon\n2\n2\n28\n56\n0\n0\n0\n0\n0\n0\n0\n0\n56",
         null
        ],
        [
         "6",
         "Cucumber\n5\n3\n3\n16\n48\n0\n0\n0\n0\n0\n0\n0\n0\n48\n(Kheera)",
         null
        ],
        [
         "7",
         "6\nBeetroot\n2\n2\n32\n64\n0\n0\n0\n0\n0\n0\n0\n0\n64",
         null
        ],
        [
         "8",
         "7\nCabbage\n3\n3\n22\n66\n0\n0\n0\n0\n0\n0\n0\n0\n66",
         null
        ],
        [
         "9",
         "Forest Bitter\n8\n2\n2\n21\n42\n0\n0\n0\n0\n0\n0\n0\n0\n42\nGourd",
         null
        ],
        [
         "10",
         "9\nBrinjal Bharta\n2\n2\n31\n62\n0\n0\n0\n0\n0\n0\n0\n0\n62",
         null
        ],
        [
         "11",
         "10\nCarrot Ooty\n2\n2\n37\n74\n0\n0\n0\n0\n0\n0\n0\n0\n74",
         null
        ],
        [
         "12",
         "11\nBaby Potato\n2\n2\n9\n18\n0\n0\n0\n0\n0\n0\n0\n0\n18",
         null
        ],
        [
         "13",
         "12\nBrinjal Small\n3\n3\n13\n39\n0\n0\n0\n0\n0\n0\n0\n0\n39",
         null
        ],
        [
         "14",
         "Capsicum\n13\n3\n3\n23\n69\n0\n0\n0\n0\n0\n0\n0\n0\n69\nSmall",
         null
        ],
        [
         "15",
         "14\nCauliflower\n2\n2\n51\n102\n0\n0\n0\n0\n0\n0\n0\n0\n102",
         null
        ],
        [
         "16",
         "15\nBottle Gourd\n3\n3\n28\n84\n0\n0\n0\n0\n0\n0\n0\n0\n84",
         null
        ],
        [
         "17",
         "Tomato\n16\n2\n2\n53\n106\n0\n0\n0\n0\n0\n0\n0\n0\n106\nHybrid",
         null
        ],
        [
         "18",
         "Total\n46\n45\n1230\n0\n0\n0\n0\n1230",
         null
        ],
        [
         "19",
         "Amount (INR):\nONE THOUSAND TWO HUNDRED AND THIRTY RUPEES ONLY",
         null
        ]
       ],
       "shape": {
        "columns": 2,
        "rows": 20
       }
      },
      "text/html": [
       "<div>\n",
       "<style scoped>\n",
       "    .dataframe tbody tr th:only-of-type {\n",
       "        vertical-align: middle;\n",
       "    }\n",
       "\n",
       "    .dataframe tbody tr th {\n",
       "        vertical-align: top;\n",
       "    }\n",
       "\n",
       "    .dataframe thead th {\n",
       "        text-align: right;\n",
       "    }\n",
       "</style>\n",
       "<table border=\"1\" class=\"dataframe\">\n",
       "  <thead>\n",
       "    <tr style=\"text-align: right;\">\n",
       "      <th></th>\n",
       "      <th>0</th>\n",
       "      <th>1</th>\n",
       "    </tr>\n",
       "  </thead>\n",
       "  <tbody>\n",
       "    <tr>\n",
       "      <th>0</th>\n",
       "      <td>Vendor\\nUPGRADE MANDI\\nName:\\nVendor\\nTinNo:\\n...</td>\n",
       "      <td>13-8-\\nPO No:\\nPO Date:\\nNAG002P23\\n2025\\nAsn ...</td>\n",
       "    </tr>\n",
       "    <tr>\n",
       "      <th>1</th>\n",
       "      <td>CGST\\nSGST/UGST\\nIGST\\nCess\\nUnit\\nTaxable\\nSr...</td>\n",
       "      <td>NaN</td>\n",
       "    </tr>\n",
       "    <tr>\n",
       "      <th>2</th>\n",
       "      <td>1\\nTomato Local\\n7\\n6\\n46\\n276\\n0\\n0\\n0\\n0\\n0\\...</td>\n",
       "      <td>NaN</td>\n",
       "    </tr>\n",
       "    <tr>\n",
       "      <th>3</th>\n",
       "      <td>2\\nLady Finger\\n5\\n5\\n14\\n70\\n0\\n0\\n0\\n0\\n0\\n0...</td>\n",
       "      <td>NaN</td>\n",
       "    </tr>\n",
       "    <tr>\n",
       "      <th>4</th>\n",
       "      <td>Ivy Gourd\\n3\\n3\\n3\\n18\\n54\\n0\\n0\\n0\\n0\\n0\\n0\\n...</td>\n",
       "      <td>NaN</td>\n",
       "    </tr>\n",
       "    <tr>\n",
       "      <th>5</th>\n",
       "      <td>4\\nLemon\\n2\\n2\\n28\\n56\\n0\\n0\\n0\\n0\\n0\\n0\\n0\\n0...</td>\n",
       "      <td>NaN</td>\n",
       "    </tr>\n",
       "    <tr>\n",
       "      <th>6</th>\n",
       "      <td>Cucumber\\n5\\n3\\n3\\n16\\n48\\n0\\n0\\n0\\n0\\n0\\n0\\n0...</td>\n",
       "      <td>NaN</td>\n",
       "    </tr>\n",
       "    <tr>\n",
       "      <th>7</th>\n",
       "      <td>6\\nBeetroot\\n2\\n2\\n32\\n64\\n0\\n0\\n0\\n0\\n0\\n0\\n0...</td>\n",
       "      <td>NaN</td>\n",
       "    </tr>\n",
       "    <tr>\n",
       "      <th>8</th>\n",
       "      <td>7\\nCabbage\\n3\\n3\\n22\\n66\\n0\\n0\\n0\\n0\\n0\\n0\\n0\\...</td>\n",
       "      <td>NaN</td>\n",
       "    </tr>\n",
       "    <tr>\n",
       "      <th>9</th>\n",
       "      <td>Forest Bitter\\n8\\n2\\n2\\n21\\n42\\n0\\n0\\n0\\n0\\n0\\...</td>\n",
       "      <td>NaN</td>\n",
       "    </tr>\n",
       "    <tr>\n",
       "      <th>10</th>\n",
       "      <td>9\\nBrinjal Bharta\\n2\\n2\\n31\\n62\\n0\\n0\\n0\\n0\\n0...</td>\n",
       "      <td>NaN</td>\n",
       "    </tr>\n",
       "    <tr>\n",
       "      <th>11</th>\n",
       "      <td>10\\nCarrot Ooty\\n2\\n2\\n37\\n74\\n0\\n0\\n0\\n0\\n0\\n...</td>\n",
       "      <td>NaN</td>\n",
       "    </tr>\n",
       "    <tr>\n",
       "      <th>12</th>\n",
       "      <td>11\\nBaby Potato\\n2\\n2\\n9\\n18\\n0\\n0\\n0\\n0\\n0\\n0...</td>\n",
       "      <td>NaN</td>\n",
       "    </tr>\n",
       "    <tr>\n",
       "      <th>13</th>\n",
       "      <td>12\\nBrinjal Small\\n3\\n3\\n13\\n39\\n0\\n0\\n0\\n0\\n0...</td>\n",
       "      <td>NaN</td>\n",
       "    </tr>\n",
       "    <tr>\n",
       "      <th>14</th>\n",
       "      <td>Capsicum\\n13\\n3\\n3\\n23\\n69\\n0\\n0\\n0\\n0\\n0\\n0\\n...</td>\n",
       "      <td>NaN</td>\n",
       "    </tr>\n",
       "    <tr>\n",
       "      <th>15</th>\n",
       "      <td>14\\nCauliflower\\n2\\n2\\n51\\n102\\n0\\n0\\n0\\n0\\n0\\...</td>\n",
       "      <td>NaN</td>\n",
       "    </tr>\n",
       "    <tr>\n",
       "      <th>16</th>\n",
       "      <td>15\\nBottle Gourd\\n3\\n3\\n28\\n84\\n0\\n0\\n0\\n0\\n0\\...</td>\n",
       "      <td>NaN</td>\n",
       "    </tr>\n",
       "    <tr>\n",
       "      <th>17</th>\n",
       "      <td>Tomato\\n16\\n2\\n2\\n53\\n106\\n0\\n0\\n0\\n0\\n0\\n0\\n0...</td>\n",
       "      <td>NaN</td>\n",
       "    </tr>\n",
       "    <tr>\n",
       "      <th>18</th>\n",
       "      <td>Total\\n46\\n45\\n1230\\n0\\n0\\n0\\n0\\n1230</td>\n",
       "      <td>NaN</td>\n",
       "    </tr>\n",
       "    <tr>\n",
       "      <th>19</th>\n",
       "      <td>Amount (INR):\\nONE THOUSAND TWO HUNDRED AND TH...</td>\n",
       "      <td>NaN</td>\n",
       "    </tr>\n",
       "  </tbody>\n",
       "</table>\n",
       "</div>"
      ],
      "text/plain": [
       "                                                    0  \\\n",
       "0   Vendor\\nUPGRADE MANDI\\nName:\\nVendor\\nTinNo:\\n...   \n",
       "1   CGST\\nSGST/UGST\\nIGST\\nCess\\nUnit\\nTaxable\\nSr...   \n",
       "2   1\\nTomato Local\\n7\\n6\\n46\\n276\\n0\\n0\\n0\\n0\\n0\\...   \n",
       "3   2\\nLady Finger\\n5\\n5\\n14\\n70\\n0\\n0\\n0\\n0\\n0\\n0...   \n",
       "4   Ivy Gourd\\n3\\n3\\n3\\n18\\n54\\n0\\n0\\n0\\n0\\n0\\n0\\n...   \n",
       "5   4\\nLemon\\n2\\n2\\n28\\n56\\n0\\n0\\n0\\n0\\n0\\n0\\n0\\n0...   \n",
       "6   Cucumber\\n5\\n3\\n3\\n16\\n48\\n0\\n0\\n0\\n0\\n0\\n0\\n0...   \n",
       "7   6\\nBeetroot\\n2\\n2\\n32\\n64\\n0\\n0\\n0\\n0\\n0\\n0\\n0...   \n",
       "8   7\\nCabbage\\n3\\n3\\n22\\n66\\n0\\n0\\n0\\n0\\n0\\n0\\n0\\...   \n",
       "9   Forest Bitter\\n8\\n2\\n2\\n21\\n42\\n0\\n0\\n0\\n0\\n0\\...   \n",
       "10  9\\nBrinjal Bharta\\n2\\n2\\n31\\n62\\n0\\n0\\n0\\n0\\n0...   \n",
       "11  10\\nCarrot Ooty\\n2\\n2\\n37\\n74\\n0\\n0\\n0\\n0\\n0\\n...   \n",
       "12  11\\nBaby Potato\\n2\\n2\\n9\\n18\\n0\\n0\\n0\\n0\\n0\\n0...   \n",
       "13  12\\nBrinjal Small\\n3\\n3\\n13\\n39\\n0\\n0\\n0\\n0\\n0...   \n",
       "14  Capsicum\\n13\\n3\\n3\\n23\\n69\\n0\\n0\\n0\\n0\\n0\\n0\\n...   \n",
       "15  14\\nCauliflower\\n2\\n2\\n51\\n102\\n0\\n0\\n0\\n0\\n0\\...   \n",
       "16  15\\nBottle Gourd\\n3\\n3\\n28\\n84\\n0\\n0\\n0\\n0\\n0\\...   \n",
       "17  Tomato\\n16\\n2\\n2\\n53\\n106\\n0\\n0\\n0\\n0\\n0\\n0\\n0...   \n",
       "18              Total\\n46\\n45\\n1230\\n0\\n0\\n0\\n0\\n1230   \n",
       "19  Amount (INR):\\nONE THOUSAND TWO HUNDRED AND TH...   \n",
       "\n",
       "                                                    1  \n",
       "0   13-8-\\nPO No:\\nPO Date:\\nNAG002P23\\n2025\\nAsn ...  \n",
       "1                                                 NaN  \n",
       "2                                                 NaN  \n",
       "3                                                 NaN  \n",
       "4                                                 NaN  \n",
       "5                                                 NaN  \n",
       "6                                                 NaN  \n",
       "7                                                 NaN  \n",
       "8                                                 NaN  \n",
       "9                                                 NaN  \n",
       "10                                                NaN  \n",
       "11                                                NaN  \n",
       "12                                                NaN  \n",
       "13                                                NaN  \n",
       "14                                                NaN  \n",
       "15                                                NaN  \n",
       "16                                                NaN  \n",
       "17                                                NaN  \n",
       "18                                                NaN  \n",
       "19                                                NaN  "
      ]
     },
     "execution_count": 8,
     "metadata": {},
     "output_type": "execute_result"
    }
   ],
   "source": [
    "df"
   ]
  }
 ],
 "metadata": {
  "kernelspec": {
   "display_name": "Python 3",
   "language": "python",
   "name": "python3"
  },
  "language_info": {
   "codemirror_mode": {
    "name": "ipython",
    "version": 3
   },
   "file_extension": ".py",
   "mimetype": "text/x-python",
   "name": "python",
   "nbconvert_exporter": "python",
   "pygments_lexer": "ipython3",
   "version": "3.11.0"
  }
 },
 "nbformat": 4,
 "nbformat_minor": 5
}
