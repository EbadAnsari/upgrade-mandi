{
 "cells": [
  {
   "cell_type": "code",
   "execution_count": 3,
   "id": "ad7b9e04",
   "metadata": {},
   "outputs": [],
   "source": [
    "import pandas as pd\n",
    "import numpy as np\n",
    "\n",
    "from os.path import join\n",
    "\n",
    "from collections import Counter\n",
    "\n",
    "import re\n",
    "\n",
    "from datetime import datetime"
   ]
  },
  {
   "cell_type": "code",
   "execution_count": 4,
   "id": "d9f80577",
   "metadata": {},
   "outputs": [],
   "source": [
    "basePath = join(\"..\", \"data\", \"cleaned\")"
   ]
  },
  {
   "cell_type": "code",
   "execution_count": 8,
   "id": "3719d927",
   "metadata": {},
   "outputs": [],
   "source": [
    "df = pd.read_csv(join(basePath, \"Zepto.csv\"))"
   ]
  },
  {
   "cell_type": "code",
   "execution_count": 9,
   "id": "3642be73",
   "metadata": {},
   "outputs": [
    {
     "data": {
      "application/vnd.microsoft.datawrangler.viewer.v0+json": {
       "columns": [
        {
         "name": "index",
         "rawType": "int64",
         "type": "integer"
        },
        {
         "name": "0",
         "rawType": "object",
         "type": "string"
        }
       ],
       "ref": "aa87c209-4fda-4e8c-96b3-f66b290c6641",
       "rows": [
        [
         "0",
         "Dharampeth"
        ],
        [
         "1",
         "Mahal"
        ],
        [
         "2",
         "Ayodhya Nagar"
        ],
        [
         "3",
         "Manish Nagar"
        ],
        [
         "4",
         "Sai Mandir"
        ]
       ],
       "shape": {
        "columns": 1,
        "rows": 5
       }
      },
      "text/plain": [
       "array(['Dharampeth', 'Mahal', 'Ayodhya Nagar', 'Manish Nagar',\n",
       "       'Sai Mandir'], dtype=object)"
      ]
     },
     "execution_count": 9,
     "metadata": {},
     "output_type": "execute_result"
    }
   ],
   "source": [
    "df[\"Location\"].unique()"
   ]
  }
 ],
 "metadata": {
  "kernelspec": {
   "display_name": "Python 3",
   "language": "python",
   "name": "python3"
  },
  "language_info": {
   "codemirror_mode": {
    "name": "ipython",
    "version": 3
   },
   "file_extension": ".py",
   "mimetype": "text/x-python",
   "name": "python",
   "nbconvert_exporter": "python",
   "pygments_lexer": "ipython3",
   "version": "3.11.0"
  }
 },
 "nbformat": 4,
 "nbformat_minor": 5
}
