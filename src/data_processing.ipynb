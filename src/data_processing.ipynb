{
 "cells": [
  {
   "cell_type": "code",
   "execution_count": 9,
   "id": "3cdacbac",
   "metadata": {},
   "outputs": [],
   "source": [
    "import pandas as pd\n",
    "from datetime import datetime\n",
    "\n",
    "from os.path import join\n",
    "\n",
    "from pprint import pprint\n",
    "\n",
    "from typing import List"
   ]
  },
  {
   "cell_type": "code",
   "execution_count": null,
   "id": "d057ba16",
   "metadata": {},
   "outputs": [],
   "source": [
    "RAW_FOLDER_PATH = \"./../data/raw\"\n",
    "CLEANED_FOLDER_PATH = \"./../data/cleaned\"\n",
    "\n",
    "file_name = \"Swiggy 09-04-2025 - 22-06-2025.xlsx\"\n",
    "file_name = \"Swiggy 01-01-2025 - 15-04-2025.xlsx\"\n",
    "file_name = \"Swiggy 22-06-2025 - 10-07-2025.xlsx\"\n",
    "file_name = \"ZEPTO.xlsx\"\n",
    "file_name = \"Zepto 10-07-2025 - 20-06-2025.xlsx\"\n",
    "\n",
    "excelBook: dict[str, pd.DataFrame] = pd.read_excel(\n",
    "    join(RAW_FOLDER_PATH, file_name), sheet_name=None\n",
    ")"
   ]
  },
  {
   "cell_type": "code",
   "execution_count": 52,
   "id": "41e7d4b1",
   "metadata": {},
   "outputs": [],
   "source": [
    "class Extract:\n",
    "    def __checkColumnName(self, col: pd.Series):\n",
    "        return (\n",
    "            col.astype(str)\n",
    "            .apply(\n",
    "                lambda string: \" \".join(\n",
    "                    list(\n",
    "                        filter(\n",
    "                            lambda x: not x.isspace() and x,\n",
    "                            string.lower().replace(\"\\n\", \"\").split(\" \"),\n",
    "                        )\n",
    "                    )\n",
    "                )\n",
    "            )\n",
    "            .isin(list(map(lambda x: x.lower(), self.columns)))\n",
    "            .any()\n",
    "        )\n",
    "\n",
    "    def __init__(self, column: List[str]):\n",
    "        self.columns: List[str] = column\n",
    "\n",
    "        self.processedDataFrame: pd.DataFrame = pd.DataFrame(columns=self.columns)\n",
    "\n",
    "    def extractTable(self, row: pd.Series) -> bool:\n",
    "        return str(row[self.columns[0]]).isnumeric()\n",
    "\n",
    "    def filterColumns(self, df: pd.DataFrame) -> List[str]:\n",
    "        columns = []\n",
    "        return columns\n",
    "\n",
    "    def extractDate(self, key):\n",
    "        dateFormat = \"%d-%m-%Y\"\n",
    "        try:\n",
    "            return datetime.strptime(key[:10], dateFormat)\n",
    "        except:\n",
    "            return False\n",
    "\n",
    "    def extractLocation(self, key: str):\n",
    "        return key[10:].strip().upper()\n",
    "\n",
    "    def extractDataFrame(self, sheetName: str, sheetData: pd.DataFrame):\n",
    "        # sheetData.columns = self.columns[:-2]\n",
    "        date = self.extractDate(sheetName)\n",
    "        if date == False:\n",
    "            return pd.DataFrame()\n",
    "\n",
    "        sheetData = sheetData[\n",
    "            sheetData.columns[sheetData.apply(self.__checkColumnName, axis=0)]\n",
    "        ].copy()\n",
    "\n",
    "        # print(sheetData.columns, sheetName, sheetData.head(10))\n",
    "        sheetData.columns = self.columns\n",
    "        sheetData = sheetData[sheetData.apply(self.extractTable, axis=1)].copy()\n",
    "\n",
    "        sheetData[\"Date\"] = date\n",
    "        sheetData[\"Location\"] = self.extractLocation(sheetName)\n",
    "\n",
    "        return sheetData\n",
    "\n",
    "    def add(self, dataFrame: pd.DataFrame):\n",
    "        dataFrame = dataFrame.dropna(how=\"all\", axis=1)\n",
    "        if not dataFrame.empty:\n",
    "            self.processedDataFrame = pd.concat(\n",
    "                [self.processedDataFrame, dataFrame], ignore_index=True\n",
    "            )"
   ]
  },
  {
   "cell_type": "code",
   "execution_count": 55,
   "id": "8a58b864",
   "metadata": {},
   "outputs": [
    {
     "name": "stdout",
     "output_type": "stream",
     "text": [
      "The following sheets are not parsed: \n",
      "[]\n"
     ]
    }
   ],
   "source": [
    "extract = Extract(\n",
    "    [\n",
    "        \"No\",\n",
    "        # \"Article Code\",\n",
    "        \"Article Name\",\n",
    "        # \"Item Description\",\n",
    "        # \"Uom\",\n",
    "        \"UoM\",\n",
    "        # \"Dispatched Qty\",\n",
    "        \"Invoice Qty.\",\n",
    "        # \"Received Qty\",\n",
    "        \"Rate\",\n",
    "        # \"Total Amount\",\n",
    "        \"Amount\",\n",
    "        # \"Date\",\n",
    "        # \"Location\",\n",
    "    ]\n",
    ")\n",
    "\n",
    "\n",
    "errorSheets: List[str] = []\n",
    "\n",
    "\n",
    "for sheetName, sheetData in excelBook.items():\n",
    "    if sheetData.empty:\n",
    "        errorSheets.append(sheetName)\n",
    "        continue\n",
    "\n",
    "    try:\n",
    "        df = extract.extractDataFrame(sheetName, sheetData)\n",
    "        # pass\n",
    "    except:\n",
    "        # print(sheetData, sheetData.columns.__len__())\n",
    "        errorSheets.append(sheetName)\n",
    "        break\n",
    "\n",
    "    if not df.empty:\n",
    "        extract.add(df)\n",
    "    else:\n",
    "        errorSheets.append(sheetName)\n",
    "\n",
    "\n",
    "\n",
    "print(\"The following sheets are not parsed: \")\n",
    "pprint(errorSheets)"
   ]
  },
  {
   "cell_type": "code",
   "execution_count": 56,
   "id": "891f43c2",
   "metadata": {},
   "outputs": [],
   "source": [
    "extract.processedDataFrame.reset_index(drop=True).to_csv(join(CLEANED_FOLDER_PATH, file_name.rsplit(\".\", 1)[0]) + \".csv\")"
   ]
  },
  {
   "cell_type": "code",
   "execution_count": 2,
   "id": "6aa640c9",
   "metadata": {},
   "outputs": [],
   "source": [
    "import re"
   ]
  },
  {
   "cell_type": "code",
   "execution_count": null,
   "id": "b4ebc597",
   "metadata": {},
   "outputs": [],
   "source": []
  }
 ],
 "metadata": {
  "kernelspec": {
   "display_name": "Python 3",
   "language": "python",
   "name": "python3"
  },
  "language_info": {
   "codemirror_mode": {
    "name": "ipython",
    "version": 3
   },
   "file_extension": ".py",
   "mimetype": "text/x-python",
   "name": "python",
   "nbconvert_exporter": "python",
   "pygments_lexer": "ipython3",
   "version": "3.11.0"
  }
 },
 "nbformat": 4,
 "nbformat_minor": 5
}
